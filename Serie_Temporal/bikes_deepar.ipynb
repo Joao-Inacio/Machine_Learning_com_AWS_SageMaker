{
 "cells": [
  {
   "cell_type": "markdown",
   "id": "ab296eab-2af5-4e24-b685-0c5bc24849fe",
   "metadata": {},
   "source": [
    "# **Séries Temporais com DeepAR**"
   ]
  },
  {
   "cell_type": "markdown",
   "id": "accfd02b-d68e-4962-ad32-1a8197625e9c",
   "metadata": {},
   "source": [
    "## Tratamento da Base de Dados"
   ]
  },
  {
   "cell_type": "code",
   "execution_count": 2,
   "id": "92644422-77d8-4d96-b581-942199b9d422",
   "metadata": {
    "tags": []
   },
   "outputs": [],
   "source": [
    "import pandas as pd\n",
    "import numpy as np\n",
    "import matplotlib.pyplot as plt\n",
    "%matplotlib inline\n",
    "import json\n",
    "import os"
   ]
  },
  {
   "cell_type": "code",
   "execution_count": 3,
   "id": "3764ad9c-dab7-410a-b6b3-b4148d8e60d5",
   "metadata": {
    "tags": []
   },
   "outputs": [
    {
     "data": {
      "text/html": [
       "<div>\n",
       "<style scoped>\n",
       "    .dataframe tbody tr th:only-of-type {\n",
       "        vertical-align: middle;\n",
       "    }\n",
       "\n",
       "    .dataframe tbody tr th {\n",
       "        vertical-align: top;\n",
       "    }\n",
       "\n",
       "    .dataframe thead th {\n",
       "        text-align: right;\n",
       "    }\n",
       "</style>\n",
       "<table border=\"1\" class=\"dataframe\">\n",
       "  <thead>\n",
       "    <tr style=\"text-align: right;\">\n",
       "      <th></th>\n",
       "      <th>datetime</th>\n",
       "      <th>season</th>\n",
       "      <th>holiday</th>\n",
       "      <th>workingday</th>\n",
       "      <th>weather</th>\n",
       "      <th>temp</th>\n",
       "      <th>atemp</th>\n",
       "      <th>humidity</th>\n",
       "      <th>windspeed</th>\n",
       "      <th>casual</th>\n",
       "      <th>registered</th>\n",
       "      <th>count</th>\n",
       "    </tr>\n",
       "  </thead>\n",
       "  <tbody>\n",
       "    <tr>\n",
       "      <th>0</th>\n",
       "      <td>2011-01-01 00:00:00</td>\n",
       "      <td>1</td>\n",
       "      <td>0</td>\n",
       "      <td>0</td>\n",
       "      <td>1</td>\n",
       "      <td>9.84</td>\n",
       "      <td>14.395</td>\n",
       "      <td>81</td>\n",
       "      <td>0.0</td>\n",
       "      <td>3</td>\n",
       "      <td>13</td>\n",
       "      <td>16</td>\n",
       "    </tr>\n",
       "    <tr>\n",
       "      <th>1</th>\n",
       "      <td>2011-01-01 01:00:00</td>\n",
       "      <td>1</td>\n",
       "      <td>0</td>\n",
       "      <td>0</td>\n",
       "      <td>1</td>\n",
       "      <td>9.02</td>\n",
       "      <td>13.635</td>\n",
       "      <td>80</td>\n",
       "      <td>0.0</td>\n",
       "      <td>8</td>\n",
       "      <td>32</td>\n",
       "      <td>40</td>\n",
       "    </tr>\n",
       "    <tr>\n",
       "      <th>2</th>\n",
       "      <td>2011-01-01 02:00:00</td>\n",
       "      <td>1</td>\n",
       "      <td>0</td>\n",
       "      <td>0</td>\n",
       "      <td>1</td>\n",
       "      <td>9.02</td>\n",
       "      <td>13.635</td>\n",
       "      <td>80</td>\n",
       "      <td>0.0</td>\n",
       "      <td>5</td>\n",
       "      <td>27</td>\n",
       "      <td>32</td>\n",
       "    </tr>\n",
       "    <tr>\n",
       "      <th>3</th>\n",
       "      <td>2011-01-01 03:00:00</td>\n",
       "      <td>1</td>\n",
       "      <td>0</td>\n",
       "      <td>0</td>\n",
       "      <td>1</td>\n",
       "      <td>9.84</td>\n",
       "      <td>14.395</td>\n",
       "      <td>75</td>\n",
       "      <td>0.0</td>\n",
       "      <td>3</td>\n",
       "      <td>10</td>\n",
       "      <td>13</td>\n",
       "    </tr>\n",
       "    <tr>\n",
       "      <th>4</th>\n",
       "      <td>2011-01-01 04:00:00</td>\n",
       "      <td>1</td>\n",
       "      <td>0</td>\n",
       "      <td>0</td>\n",
       "      <td>1</td>\n",
       "      <td>9.84</td>\n",
       "      <td>14.395</td>\n",
       "      <td>75</td>\n",
       "      <td>0.0</td>\n",
       "      <td>0</td>\n",
       "      <td>1</td>\n",
       "      <td>1</td>\n",
       "    </tr>\n",
       "  </tbody>\n",
       "</table>\n",
       "</div>"
      ],
      "text/plain": [
       "              datetime  season  holiday  workingday  weather  temp   atemp  \\\n",
       "0  2011-01-01 00:00:00       1        0           0        1  9.84  14.395   \n",
       "1  2011-01-01 01:00:00       1        0           0        1  9.02  13.635   \n",
       "2  2011-01-01 02:00:00       1        0           0        1  9.02  13.635   \n",
       "3  2011-01-01 03:00:00       1        0           0        1  9.84  14.395   \n",
       "4  2011-01-01 04:00:00       1        0           0        1  9.84  14.395   \n",
       "\n",
       "   humidity  windspeed  casual  registered  count  \n",
       "0        81        0.0       3          13     16  \n",
       "1        80        0.0       8          32     40  \n",
       "2        80        0.0       5          27     32  \n",
       "3        75        0.0       3          10     13  \n",
       "4        75        0.0       0           1      1  "
      ]
     },
     "execution_count": 3,
     "metadata": {},
     "output_type": "execute_result"
    }
   ],
   "source": [
    "base = pd.read_csv('train.csv')\n",
    "base.head()"
   ]
  },
  {
   "cell_type": "code",
   "execution_count": 4,
   "id": "2f72e367-659d-49eb-80f1-63de1a87e6f2",
   "metadata": {
    "tags": []
   },
   "outputs": [
    {
     "data": {
      "text/html": [
       "<div>\n",
       "<style scoped>\n",
       "    .dataframe tbody tr th:only-of-type {\n",
       "        vertical-align: middle;\n",
       "    }\n",
       "\n",
       "    .dataframe tbody tr th {\n",
       "        vertical-align: top;\n",
       "    }\n",
       "\n",
       "    .dataframe thead th {\n",
       "        text-align: right;\n",
       "    }\n",
       "</style>\n",
       "<table border=\"1\" class=\"dataframe\">\n",
       "  <thead>\n",
       "    <tr style=\"text-align: right;\">\n",
       "      <th></th>\n",
       "      <th>season</th>\n",
       "      <th>holiday</th>\n",
       "      <th>workingday</th>\n",
       "      <th>weather</th>\n",
       "      <th>temp</th>\n",
       "      <th>atemp</th>\n",
       "      <th>humidity</th>\n",
       "      <th>windspeed</th>\n",
       "      <th>casual</th>\n",
       "      <th>registered</th>\n",
       "      <th>count</th>\n",
       "    </tr>\n",
       "    <tr>\n",
       "      <th>datetime</th>\n",
       "      <th></th>\n",
       "      <th></th>\n",
       "      <th></th>\n",
       "      <th></th>\n",
       "      <th></th>\n",
       "      <th></th>\n",
       "      <th></th>\n",
       "      <th></th>\n",
       "      <th></th>\n",
       "      <th></th>\n",
       "      <th></th>\n",
       "    </tr>\n",
       "  </thead>\n",
       "  <tbody>\n",
       "    <tr>\n",
       "      <th>2011-01-01 00:00:00</th>\n",
       "      <td>1</td>\n",
       "      <td>0</td>\n",
       "      <td>0</td>\n",
       "      <td>1</td>\n",
       "      <td>9.84</td>\n",
       "      <td>14.395</td>\n",
       "      <td>81</td>\n",
       "      <td>0.0000</td>\n",
       "      <td>3</td>\n",
       "      <td>13</td>\n",
       "      <td>16</td>\n",
       "    </tr>\n",
       "    <tr>\n",
       "      <th>2011-01-01 01:00:00</th>\n",
       "      <td>1</td>\n",
       "      <td>0</td>\n",
       "      <td>0</td>\n",
       "      <td>1</td>\n",
       "      <td>9.02</td>\n",
       "      <td>13.635</td>\n",
       "      <td>80</td>\n",
       "      <td>0.0000</td>\n",
       "      <td>8</td>\n",
       "      <td>32</td>\n",
       "      <td>40</td>\n",
       "    </tr>\n",
       "    <tr>\n",
       "      <th>2011-01-01 02:00:00</th>\n",
       "      <td>1</td>\n",
       "      <td>0</td>\n",
       "      <td>0</td>\n",
       "      <td>1</td>\n",
       "      <td>9.02</td>\n",
       "      <td>13.635</td>\n",
       "      <td>80</td>\n",
       "      <td>0.0000</td>\n",
       "      <td>5</td>\n",
       "      <td>27</td>\n",
       "      <td>32</td>\n",
       "    </tr>\n",
       "    <tr>\n",
       "      <th>2011-01-01 03:00:00</th>\n",
       "      <td>1</td>\n",
       "      <td>0</td>\n",
       "      <td>0</td>\n",
       "      <td>1</td>\n",
       "      <td>9.84</td>\n",
       "      <td>14.395</td>\n",
       "      <td>75</td>\n",
       "      <td>0.0000</td>\n",
       "      <td>3</td>\n",
       "      <td>10</td>\n",
       "      <td>13</td>\n",
       "    </tr>\n",
       "    <tr>\n",
       "      <th>2011-01-01 04:00:00</th>\n",
       "      <td>1</td>\n",
       "      <td>0</td>\n",
       "      <td>0</td>\n",
       "      <td>1</td>\n",
       "      <td>9.84</td>\n",
       "      <td>14.395</td>\n",
       "      <td>75</td>\n",
       "      <td>0.0000</td>\n",
       "      <td>0</td>\n",
       "      <td>1</td>\n",
       "      <td>1</td>\n",
       "    </tr>\n",
       "    <tr>\n",
       "      <th>...</th>\n",
       "      <td>...</td>\n",
       "      <td>...</td>\n",
       "      <td>...</td>\n",
       "      <td>...</td>\n",
       "      <td>...</td>\n",
       "      <td>...</td>\n",
       "      <td>...</td>\n",
       "      <td>...</td>\n",
       "      <td>...</td>\n",
       "      <td>...</td>\n",
       "      <td>...</td>\n",
       "    </tr>\n",
       "    <tr>\n",
       "      <th>2012-12-19 19:00:00</th>\n",
       "      <td>4</td>\n",
       "      <td>0</td>\n",
       "      <td>1</td>\n",
       "      <td>1</td>\n",
       "      <td>15.58</td>\n",
       "      <td>19.695</td>\n",
       "      <td>50</td>\n",
       "      <td>26.0027</td>\n",
       "      <td>7</td>\n",
       "      <td>329</td>\n",
       "      <td>336</td>\n",
       "    </tr>\n",
       "    <tr>\n",
       "      <th>2012-12-19 20:00:00</th>\n",
       "      <td>4</td>\n",
       "      <td>0</td>\n",
       "      <td>1</td>\n",
       "      <td>1</td>\n",
       "      <td>14.76</td>\n",
       "      <td>17.425</td>\n",
       "      <td>57</td>\n",
       "      <td>15.0013</td>\n",
       "      <td>10</td>\n",
       "      <td>231</td>\n",
       "      <td>241</td>\n",
       "    </tr>\n",
       "    <tr>\n",
       "      <th>2012-12-19 21:00:00</th>\n",
       "      <td>4</td>\n",
       "      <td>0</td>\n",
       "      <td>1</td>\n",
       "      <td>1</td>\n",
       "      <td>13.94</td>\n",
       "      <td>15.910</td>\n",
       "      <td>61</td>\n",
       "      <td>15.0013</td>\n",
       "      <td>4</td>\n",
       "      <td>164</td>\n",
       "      <td>168</td>\n",
       "    </tr>\n",
       "    <tr>\n",
       "      <th>2012-12-19 22:00:00</th>\n",
       "      <td>4</td>\n",
       "      <td>0</td>\n",
       "      <td>1</td>\n",
       "      <td>1</td>\n",
       "      <td>13.94</td>\n",
       "      <td>17.425</td>\n",
       "      <td>61</td>\n",
       "      <td>6.0032</td>\n",
       "      <td>12</td>\n",
       "      <td>117</td>\n",
       "      <td>129</td>\n",
       "    </tr>\n",
       "    <tr>\n",
       "      <th>2012-12-19 23:00:00</th>\n",
       "      <td>4</td>\n",
       "      <td>0</td>\n",
       "      <td>1</td>\n",
       "      <td>1</td>\n",
       "      <td>13.12</td>\n",
       "      <td>16.665</td>\n",
       "      <td>66</td>\n",
       "      <td>8.9981</td>\n",
       "      <td>4</td>\n",
       "      <td>84</td>\n",
       "      <td>88</td>\n",
       "    </tr>\n",
       "  </tbody>\n",
       "</table>\n",
       "<p>10886 rows × 11 columns</p>\n",
       "</div>"
      ],
      "text/plain": [
       "                     season  holiday  workingday  weather   temp   atemp  \\\n",
       "datetime                                                                   \n",
       "2011-01-01 00:00:00       1        0           0        1   9.84  14.395   \n",
       "2011-01-01 01:00:00       1        0           0        1   9.02  13.635   \n",
       "2011-01-01 02:00:00       1        0           0        1   9.02  13.635   \n",
       "2011-01-01 03:00:00       1        0           0        1   9.84  14.395   \n",
       "2011-01-01 04:00:00       1        0           0        1   9.84  14.395   \n",
       "...                     ...      ...         ...      ...    ...     ...   \n",
       "2012-12-19 19:00:00       4        0           1        1  15.58  19.695   \n",
       "2012-12-19 20:00:00       4        0           1        1  14.76  17.425   \n",
       "2012-12-19 21:00:00       4        0           1        1  13.94  15.910   \n",
       "2012-12-19 22:00:00       4        0           1        1  13.94  17.425   \n",
       "2012-12-19 23:00:00       4        0           1        1  13.12  16.665   \n",
       "\n",
       "                     humidity  windspeed  casual  registered  count  \n",
       "datetime                                                             \n",
       "2011-01-01 00:00:00        81     0.0000       3          13     16  \n",
       "2011-01-01 01:00:00        80     0.0000       8          32     40  \n",
       "2011-01-01 02:00:00        80     0.0000       5          27     32  \n",
       "2011-01-01 03:00:00        75     0.0000       3          10     13  \n",
       "2011-01-01 04:00:00        75     0.0000       0           1      1  \n",
       "...                       ...        ...     ...         ...    ...  \n",
       "2012-12-19 19:00:00        50    26.0027       7         329    336  \n",
       "2012-12-19 20:00:00        57    15.0013      10         231    241  \n",
       "2012-12-19 21:00:00        61    15.0013       4         164    168  \n",
       "2012-12-19 22:00:00        61     6.0032      12         117    129  \n",
       "2012-12-19 23:00:00        66     8.9981       4          84     88  \n",
       "\n",
       "[10886 rows x 11 columns]"
      ]
     },
     "execution_count": 4,
     "metadata": {},
     "output_type": "execute_result"
    }
   ],
   "source": [
    "base = pd.read_csv('train.csv', parse_dates=['datetime'], index_col=0)\n",
    "base"
   ]
  },
  {
   "cell_type": "code",
   "execution_count": 5,
   "id": "a2b9ad8a-56e9-4bf3-93cd-dfd619e73c5e",
   "metadata": {
    "tags": []
   },
   "outputs": [
    {
     "data": {
      "text/html": [
       "<div>\n",
       "<style scoped>\n",
       "    .dataframe tbody tr th:only-of-type {\n",
       "        vertical-align: middle;\n",
       "    }\n",
       "\n",
       "    .dataframe tbody tr th {\n",
       "        vertical-align: top;\n",
       "    }\n",
       "\n",
       "    .dataframe thead th {\n",
       "        text-align: right;\n",
       "    }\n",
       "</style>\n",
       "<table border=\"1\" class=\"dataframe\">\n",
       "  <thead>\n",
       "    <tr style=\"text-align: right;\">\n",
       "      <th></th>\n",
       "      <th>count</th>\n",
       "    </tr>\n",
       "    <tr>\n",
       "      <th>datetime</th>\n",
       "      <th></th>\n",
       "    </tr>\n",
       "  </thead>\n",
       "  <tbody>\n",
       "    <tr>\n",
       "      <th>2011-01-01 00:00:00</th>\n",
       "      <td>16</td>\n",
       "    </tr>\n",
       "    <tr>\n",
       "      <th>2011-01-01 01:00:00</th>\n",
       "      <td>40</td>\n",
       "    </tr>\n",
       "    <tr>\n",
       "      <th>2011-01-01 02:00:00</th>\n",
       "      <td>32</td>\n",
       "    </tr>\n",
       "    <tr>\n",
       "      <th>2011-01-01 03:00:00</th>\n",
       "      <td>13</td>\n",
       "    </tr>\n",
       "    <tr>\n",
       "      <th>2011-01-01 04:00:00</th>\n",
       "      <td>1</td>\n",
       "    </tr>\n",
       "    <tr>\n",
       "      <th>...</th>\n",
       "      <td>...</td>\n",
       "    </tr>\n",
       "    <tr>\n",
       "      <th>2012-12-19 19:00:00</th>\n",
       "      <td>336</td>\n",
       "    </tr>\n",
       "    <tr>\n",
       "      <th>2012-12-19 20:00:00</th>\n",
       "      <td>241</td>\n",
       "    </tr>\n",
       "    <tr>\n",
       "      <th>2012-12-19 21:00:00</th>\n",
       "      <td>168</td>\n",
       "    </tr>\n",
       "    <tr>\n",
       "      <th>2012-12-19 22:00:00</th>\n",
       "      <td>129</td>\n",
       "    </tr>\n",
       "    <tr>\n",
       "      <th>2012-12-19 23:00:00</th>\n",
       "      <td>88</td>\n",
       "    </tr>\n",
       "  </tbody>\n",
       "</table>\n",
       "<p>10886 rows × 1 columns</p>\n",
       "</div>"
      ],
      "text/plain": [
       "                     count\n",
       "datetime                  \n",
       "2011-01-01 00:00:00     16\n",
       "2011-01-01 01:00:00     40\n",
       "2011-01-01 02:00:00     32\n",
       "2011-01-01 03:00:00     13\n",
       "2011-01-01 04:00:00      1\n",
       "...                    ...\n",
       "2012-12-19 19:00:00    336\n",
       "2012-12-19 20:00:00    241\n",
       "2012-12-19 21:00:00    168\n",
       "2012-12-19 22:00:00    129\n",
       "2012-12-19 23:00:00     88\n",
       "\n",
       "[10886 rows x 1 columns]"
      ]
     },
     "execution_count": 5,
     "metadata": {},
     "output_type": "execute_result"
    }
   ],
   "source": [
    "base.drop(columns=['season', 'holiday', 'workingday', 'weather', 'temp', 'atemp', 'humidity', 'windspeed', 'casual', 'registered'], axis=1, inplace=True)\n",
    "base"
   ]
  },
  {
   "cell_type": "code",
   "execution_count": 6,
   "id": "4455f912-2a4f-4580-8431-beb0ca1df59d",
   "metadata": {
    "tags": []
   },
   "outputs": [
    {
     "data": {
      "text/html": [
       "<div>\n",
       "<style scoped>\n",
       "    .dataframe tbody tr th:only-of-type {\n",
       "        vertical-align: middle;\n",
       "    }\n",
       "\n",
       "    .dataframe tbody tr th {\n",
       "        vertical-align: top;\n",
       "    }\n",
       "\n",
       "    .dataframe thead th {\n",
       "        text-align: right;\n",
       "    }\n",
       "</style>\n",
       "<table border=\"1\" class=\"dataframe\">\n",
       "  <thead>\n",
       "    <tr style=\"text-align: right;\">\n",
       "      <th></th>\n",
       "      <th>count</th>\n",
       "    </tr>\n",
       "    <tr>\n",
       "      <th>datetime</th>\n",
       "      <th></th>\n",
       "    </tr>\n",
       "  </thead>\n",
       "  <tbody>\n",
       "    <tr>\n",
       "      <th>2011-01-01</th>\n",
       "      <td>985</td>\n",
       "    </tr>\n",
       "    <tr>\n",
       "      <th>2011-01-02</th>\n",
       "      <td>801</td>\n",
       "    </tr>\n",
       "    <tr>\n",
       "      <th>2011-01-03</th>\n",
       "      <td>1349</td>\n",
       "    </tr>\n",
       "    <tr>\n",
       "      <th>2011-01-04</th>\n",
       "      <td>1562</td>\n",
       "    </tr>\n",
       "    <tr>\n",
       "      <th>2011-01-05</th>\n",
       "      <td>1600</td>\n",
       "    </tr>\n",
       "    <tr>\n",
       "      <th>...</th>\n",
       "      <td>...</td>\n",
       "    </tr>\n",
       "    <tr>\n",
       "      <th>2012-12-15</th>\n",
       "      <td>5047</td>\n",
       "    </tr>\n",
       "    <tr>\n",
       "      <th>2012-12-16</th>\n",
       "      <td>3786</td>\n",
       "    </tr>\n",
       "    <tr>\n",
       "      <th>2012-12-17</th>\n",
       "      <td>4585</td>\n",
       "    </tr>\n",
       "    <tr>\n",
       "      <th>2012-12-18</th>\n",
       "      <td>5557</td>\n",
       "    </tr>\n",
       "    <tr>\n",
       "      <th>2012-12-19</th>\n",
       "      <td>5267</td>\n",
       "    </tr>\n",
       "  </tbody>\n",
       "</table>\n",
       "<p>719 rows × 1 columns</p>\n",
       "</div>"
      ],
      "text/plain": [
       "            count\n",
       "datetime         \n",
       "2011-01-01    985\n",
       "2011-01-02    801\n",
       "2011-01-03   1349\n",
       "2011-01-04   1562\n",
       "2011-01-05   1600\n",
       "...           ...\n",
       "2012-12-15   5047\n",
       "2012-12-16   3786\n",
       "2012-12-17   4585\n",
       "2012-12-18   5557\n",
       "2012-12-19   5267\n",
       "\n",
       "[719 rows x 1 columns]"
      ]
     },
     "execution_count": 6,
     "metadata": {},
     "output_type": "execute_result"
    }
   ],
   "source": [
    "base = base.groupby(pd.Grouper(freq='D')).sum()\n",
    "base"
   ]
  },
  {
   "cell_type": "code",
   "execution_count": 7,
   "id": "f1fad3d0-9e7f-4ade-94ea-b4645b6458bd",
   "metadata": {
    "tags": []
   },
   "outputs": [
    {
     "data": {
      "text/plain": [
       "(719, 1)"
      ]
     },
     "execution_count": 7,
     "metadata": {},
     "output_type": "execute_result"
    }
   ],
   "source": [
    "base_teste = base.copy()\n",
    "base_teste.shape"
   ]
  },
  {
   "cell_type": "code",
   "execution_count": 8,
   "id": "1e76174b-c964-4fcc-8c63-6ea92a2a80f8",
   "metadata": {
    "tags": []
   },
   "outputs": [
    {
     "data": {
      "text/html": [
       "<div>\n",
       "<style scoped>\n",
       "    .dataframe tbody tr th:only-of-type {\n",
       "        vertical-align: middle;\n",
       "    }\n",
       "\n",
       "    .dataframe tbody tr th {\n",
       "        vertical-align: top;\n",
       "    }\n",
       "\n",
       "    .dataframe thead th {\n",
       "        text-align: right;\n",
       "    }\n",
       "</style>\n",
       "<table border=\"1\" class=\"dataframe\">\n",
       "  <thead>\n",
       "    <tr style=\"text-align: right;\">\n",
       "      <th></th>\n",
       "      <th>count</th>\n",
       "    </tr>\n",
       "    <tr>\n",
       "      <th>datetime</th>\n",
       "      <th></th>\n",
       "    </tr>\n",
       "  </thead>\n",
       "  <tbody>\n",
       "    <tr>\n",
       "      <th>2011-01-01</th>\n",
       "      <td>985</td>\n",
       "    </tr>\n",
       "    <tr>\n",
       "      <th>2011-01-02</th>\n",
       "      <td>801</td>\n",
       "    </tr>\n",
       "    <tr>\n",
       "      <th>2011-01-03</th>\n",
       "      <td>1349</td>\n",
       "    </tr>\n",
       "    <tr>\n",
       "      <th>2011-01-04</th>\n",
       "      <td>1562</td>\n",
       "    </tr>\n",
       "    <tr>\n",
       "      <th>2011-01-05</th>\n",
       "      <td>1600</td>\n",
       "    </tr>\n",
       "    <tr>\n",
       "      <th>...</th>\n",
       "      <td>...</td>\n",
       "    </tr>\n",
       "    <tr>\n",
       "      <th>2012-11-15</th>\n",
       "      <td>5445</td>\n",
       "    </tr>\n",
       "    <tr>\n",
       "      <th>2012-11-16</th>\n",
       "      <td>5698</td>\n",
       "    </tr>\n",
       "    <tr>\n",
       "      <th>2012-11-17</th>\n",
       "      <td>5629</td>\n",
       "    </tr>\n",
       "    <tr>\n",
       "      <th>2012-11-18</th>\n",
       "      <td>4669</td>\n",
       "    </tr>\n",
       "    <tr>\n",
       "      <th>2012-11-19</th>\n",
       "      <td>5499</td>\n",
       "    </tr>\n",
       "  </tbody>\n",
       "</table>\n",
       "<p>689 rows × 1 columns</p>\n",
       "</div>"
      ],
      "text/plain": [
       "            count\n",
       "datetime         \n",
       "2011-01-01    985\n",
       "2011-01-02    801\n",
       "2011-01-03   1349\n",
       "2011-01-04   1562\n",
       "2011-01-05   1600\n",
       "...           ...\n",
       "2012-11-15   5445\n",
       "2012-11-16   5698\n",
       "2012-11-17   5629\n",
       "2012-11-18   4669\n",
       "2012-11-19   5499\n",
       "\n",
       "[689 rows x 1 columns]"
      ]
     },
     "execution_count": 8,
     "metadata": {},
     "output_type": "execute_result"
    }
   ],
   "source": [
    "base_treinamento = base.iloc[0:689,:]\n",
    "base_treinamento"
   ]
  },
  {
   "cell_type": "code",
   "execution_count": 9,
   "id": "58bf64af-2a91-40c0-86d2-68a6aeb26e27",
   "metadata": {
    "tags": []
   },
   "outputs": [],
   "source": [
    "dt_data_inicial = pd.Timestamp('2011-01-01')\n",
    "dt_data_final_treinamento = pd.Timestamp('2012-11-19')\n",
    "dt_previsao_maxima = pd.Timestamp('2012-12-19')\n",
    "\n",
    "faixa_treinamento = (dt_data_inicial, dt_data_final_treinamento)\n",
    "faixa_teste = (dt_data_inicial, dt_previsao_maxima)"
   ]
  },
  {
   "cell_type": "code",
   "execution_count": 10,
   "id": "8a6c1923-1c77-44e7-8c2b-4572ae0edf25",
   "metadata": {
    "tags": []
   },
   "outputs": [
    {
     "data": {
      "text/plain": [
       "(Timestamp('2011-01-01 00:00:00'), Timestamp('2012-11-19 00:00:00'))"
      ]
     },
     "execution_count": 10,
     "metadata": {},
     "output_type": "execute_result"
    }
   ],
   "source": [
    "faixa_treinamento"
   ]
  },
  {
   "cell_type": "code",
   "execution_count": 11,
   "id": "9e1f6fed-688f-47bd-9ab4-0e3323f39ba4",
   "metadata": {
    "tags": []
   },
   "outputs": [
    {
     "data": {
      "text/plain": [
       "(Timestamp('2011-01-01 00:00:00'), Timestamp('2012-12-19 00:00:00'))"
      ]
     },
     "execution_count": 11,
     "metadata": {},
     "output_type": "execute_result"
    }
   ],
   "source": [
    "faixa_teste"
   ]
  },
  {
   "cell_type": "code",
   "execution_count": 12,
   "id": "6c78372d-b5fc-4fb8-bff8-edaf2e1eb172",
   "metadata": {
    "tags": []
   },
   "outputs": [],
   "source": [
    "serie_temporal_treinamento = []\n",
    "serie_temporal_teste = []\n",
    "\n",
    "serie_temporal_treinamento.append(base_treinamento[faixa_treinamento[0]:faixa_treinamento[1]]['count'])\n",
    "serie_temporal_teste.append(base_teste[faixa_teste[0]:faixa_teste[1]]['count'])"
   ]
  },
  {
   "cell_type": "code",
   "execution_count": 13,
   "id": "7f5e4143-d14b-436d-9a7c-bff61e0acb25",
   "metadata": {
    "tags": []
   },
   "outputs": [
    {
     "data": {
      "text/plain": [
       "(list, list)"
      ]
     },
     "execution_count": 13,
     "metadata": {},
     "output_type": "execute_result"
    }
   ],
   "source": [
    "type(serie_temporal_teste), type(serie_temporal_treinamento)"
   ]
  },
  {
   "cell_type": "code",
   "execution_count": 14,
   "id": "6fe2b7a0-2853-4a1b-a952-eb8626691e2b",
   "metadata": {
    "tags": []
   },
   "outputs": [
    {
     "data": {
      "text/plain": [
       "[datetime\n",
       " 2011-01-01     985\n",
       " 2011-01-02     801\n",
       " 2011-01-03    1349\n",
       " 2011-01-04    1562\n",
       " 2011-01-05    1600\n",
       "               ... \n",
       " 2012-11-15    5445\n",
       " 2012-11-16    5698\n",
       " 2012-11-17    5629\n",
       " 2012-11-18    4669\n",
       " 2012-11-19    5499\n",
       " Freq: D, Name: count, Length: 689, dtype: int64]"
      ]
     },
     "execution_count": 14,
     "metadata": {},
     "output_type": "execute_result"
    }
   ],
   "source": [
    "serie_temporal_treinamento"
   ]
  },
  {
   "cell_type": "code",
   "execution_count": 15,
   "id": "a874d03b-aba3-4ebb-bab2-25c90866eb34",
   "metadata": {
    "tags": []
   },
   "outputs": [
    {
     "data": {
      "text/plain": [
       "[datetime\n",
       " 2011-01-01     985\n",
       " 2011-01-02     801\n",
       " 2011-01-03    1349\n",
       " 2011-01-04    1562\n",
       " 2011-01-05    1600\n",
       "               ... \n",
       " 2012-12-15    5047\n",
       " 2012-12-16    3786\n",
       " 2012-12-17    4585\n",
       " 2012-12-18    5557\n",
       " 2012-12-19    5267\n",
       " Freq: D, Name: count, Length: 719, dtype: int64]"
      ]
     },
     "execution_count": 15,
     "metadata": {},
     "output_type": "execute_result"
    }
   ],
   "source": [
    "serie_temporal_teste"
   ]
  },
  {
   "cell_type": "code",
   "execution_count": 16,
   "id": "32426da8-150c-4baa-a143-bf01010d5418",
   "metadata": {
    "tags": []
   },
   "outputs": [
    {
     "data": {
      "image/png": "[encoded data removed]",
      "text/plain": [
       "<Figure size 1000x1000 with 1 Axes>"
      ]
     },
     "metadata": {},
     "output_type": "display_data"
    }
   ],
   "source": [
    "plt.figure(figsize=(10,10))\n",
    "serie_temporal_teste[0].plot(label=\"Teste\")\n",
    "serie_temporal_treinamento[0].plot(label=\"Treinamento\")\n",
    "plt.legend()\n",
    "plt.show()"
   ]
  },
  {
   "cell_type": "code",
   "execution_count": 17,
   "id": "5c903a6f-6a5b-45be-9e4e-2169345362f5",
   "metadata": {
    "tags": []
   },
   "outputs": [],
   "source": [
    "def encode_target(ts):\n",
    "    return [x if np.isfinite(x) else \"NaN\" for x in ts]"
   ]
  },
  {
   "cell_type": "code",
   "execution_count": 18,
   "id": "7cb45e36-6776-4744-88f5-610c8af3d9c3",
   "metadata": {
    "tags": []
   },
   "outputs": [
    {
     "data": {
      "text/plain": [
       "[985,\n",
       " 801,\n",
       " 1349,\n",
       " 1562,\n",
       " 1600,\n",
       " 1606,\n",
       " 1510,\n",
       " 959,\n",
       " 822,\n",
       " 1321,\n",
       " 1263,\n",
       " 1162,\n",
       " 1406,\n",
       " 1421,\n",
       " 1248,\n",
       " 1204,\n",
       " 1000,\n",
       " 683,\n",
       " 1650,\n",
       " 0,\n",
       " 0,\n",
       " 0,\n",
       " 0,\n",
       " 0,\n",
       " 0]"
      ]
     },
     "execution_count": 18,
     "metadata": {},
     "output_type": "execute_result"
    }
   ],
   "source": [
    "encode_target(serie_temporal_treinamento[0][0:25])"
   ]
  },
  {
   "cell_type": "code",
   "execution_count": 19,
   "id": "6ce2725b-ffcb-44f9-9757-d71d5890bbe4",
   "metadata": {
    "tags": []
   },
   "outputs": [],
   "source": [
    "def series_to_obj(ts):\n",
    "    obj = {\"start\": str(ts.index[0]), \"target\": encode_target(ts)}\n",
    "    return obj"
   ]
  },
  {
   "cell_type": "code",
   "execution_count": 20,
   "id": "6112a630-8149-46ec-bee5-83bdacbbd19c",
   "metadata": {
    "tags": []
   },
   "outputs": [
    {
     "data": {
      "text/plain": [
       "{'start': '2011-01-01 00:00:00', 'target': [985, 801, 1349, 1562, 1600]}"
      ]
     },
     "execution_count": 20,
     "metadata": {},
     "output_type": "execute_result"
    }
   ],
   "source": [
    "series_to_obj(serie_temporal_treinamento[0][0:5])"
   ]
  },
  {
   "cell_type": "code",
   "execution_count": 21,
   "id": "dd1fd95d-536e-414f-8d7d-ffe063515dc5",
   "metadata": {
    "tags": []
   },
   "outputs": [],
   "source": [
    "def series_to_jsonline(ts):\n",
    "    return json.dumps(series_to_obj(ts))"
   ]
  },
  {
   "cell_type": "code",
   "execution_count": 22,
   "id": "4f466521-d0d9-4d87-9610-1539c0ce9c68",
   "metadata": {
    "tags": []
   },
   "outputs": [
    {
     "data": {
      "text/plain": [
       "'{\"start\": \"2011-01-01 00:00:00\", \"target\": [985, 801, 1349, 1562, 1600]}'"
      ]
     },
     "execution_count": 22,
     "metadata": {},
     "output_type": "execute_result"
    }
   ],
   "source": [
    "series_to_jsonline(serie_temporal_treinamento[0][0:5])"
   ]
  },
  {
   "cell_type": "code",
   "execution_count": 23,
   "id": "ef25704d-99bd-4fba-82e7-7e66bb46a9bd",
   "metadata": {
    "tags": []
   },
   "outputs": [],
   "source": [
    "encoding = 'utf-8'\n",
    "arquivo_json_treinamento = 'train.json'\n",
    "arquivo_json_teste = 'test.json'\n",
    "with open(arquivo_json_treinamento, 'wb') as fp:\n",
    "    for ts in serie_temporal_treinamento:\n",
    "        fp.write(series_to_jsonline(ts).encode(encoding))\n",
    "        fp.write('\\n'.encode(encoding))\n",
    "\n",
    "with open(arquivo_json_teste, 'wb') as fp:\n",
    "    for ts in serie_temporal_teste:\n",
    "        fp.write(series_to_jsonline(ts).encode(encoding))\n",
    "        fp.write('\\n'.encode(encoding))"
   ]
  },
  {
   "cell_type": "markdown",
   "id": "34038cd0-5755-4454-ada4-b480be7121c9",
   "metadata": {},
   "source": [
    "## Configurações do SageMaker"
   ]
  },
  {
   "cell_type": "code",
   "execution_count": 24,
   "id": "5bafe3ca-6d49-4999-9ad1-4f2562a9a154",
   "metadata": {
    "tags": []
   },
   "outputs": [],
   "source": [
    "import sagemaker\n",
    "import boto3\n",
    "from sagemaker import Session\n",
    "import sagemaker.amazon.common as smac\n",
    "import io\n",
    "import os"
   ]
  },
  {
   "cell_type": "code",
   "execution_count": 25,
   "id": "473fd648-7bed-41dc-bd9f-0765f6033ef3",
   "metadata": {
    "tags": []
   },
   "outputs": [
    {
     "name": "stdout",
     "output_type": "stream",
     "text": [
      "Localização da base de treinamento: s3://praticaawssagemaker/datasets/bike/train/train.json\n",
      "Localização da base de treinamento: s3://praticaawssagemaker/datasets/bike/test/test.json\n",
      "Modelo final será salvo em: s3://praticaawssagemaker/modelos/bike/deepar/output\n"
     ]
    }
   ],
   "source": [
    "session = sagemaker.Session()\n",
    "bucket = 'praticaawssagemaker'\n",
    "subpasta_modelo = 'modelos/bike/deepar'\n",
    "subpasta_dataset = 'datasets/bike'\n",
    "job_name = 'deepar-bike'\n",
    "role = sagemaker.get_execution_role()\n",
    "s3_train_data = f's3://{bucket}/{subpasta_dataset}/train/train.json'\n",
    "s3_test_data = f's3://{bucket}/{subpasta_dataset}/test/test.json'\n",
    "output_location = f's3://{bucket}/{subpasta_modelo}/output'\n",
    "\n",
    "print(f'Localização da base de treinamento: {s3_train_data}')\n",
    "print(f'Localização da base de treinamento: {s3_test_data}')\n",
    "print(f'Modelo final será salvo em: {output_location}')"
   ]
  },
  {
   "cell_type": "code",
   "execution_count": 26,
   "id": "370e2dae-1d33-48b8-8430-08109892e300",
   "metadata": {
    "tags": []
   },
   "outputs": [],
   "source": [
    "def escreve_s3(arquivo, bucket, nome):\n",
    "    with open(arquivo, 'rb') as f:\n",
    "        return boto3.Session().resource('s3').Bucket(bucket).Object(nome).upload_fileobj(f)"
   ]
  },
  {
   "cell_type": "code",
   "execution_count": 27,
   "id": "ba1f54cb-0dc7-4c5a-b06f-a09d2803436f",
   "metadata": {
    "tags": []
   },
   "outputs": [],
   "source": [
    "escreve_s3('train.json', bucket, os.path.join(subpasta_dataset, 'train', 'train.json'))\n",
    "escreve_s3('test.json', bucket, os.path.join(subpasta_dataset, 'test', 'test.json'))"
   ]
  },
  {
   "cell_type": "markdown",
   "id": "4766980d-0489-4f61-8582-20d45360dc13",
   "metadata": {},
   "source": [
    "## Treinamento do DeepAR"
   ]
  },
  {
   "cell_type": "code",
   "execution_count": 28,
   "id": "a95dc289-4d8a-407d-a805-ff440ade2771",
   "metadata": {
    "tags": []
   },
   "outputs": [],
   "source": [
    "container = sagemaker.image_uris.retrieve(\n",
    "    framework='forecasting-deepar', region=boto3.Session().region_name\n",
    ")"
   ]
  },
  {
   "cell_type": "code",
   "execution_count": 29,
   "id": "c8a4f5db-990f-4d46-beb7-6c54d8b7f7d8",
   "metadata": {
    "tags": []
   },
   "outputs": [
    {
     "name": "stderr",
     "output_type": "stream",
     "text": [
      "/opt/conda/lib/python3.7/site-packages/boto3/compat.py:82: PythonDeprecationWarning: Boto3 will no longer support Python 3.7 starting December 13, 2023. To continue receiving service updates, bug fixes, and security updates please upgrade to Python 3.8 or later. More information can be found here: https://aws.amazon.com/blogs/developer/python-support-policy-updates-for-aws-sdks-and-tools/\n",
      "  warnings.warn(warning, PythonDeprecationWarning)\n"
     ]
    }
   ],
   "source": [
    "deepar = sagemaker.estimator.Estimator(\n",
    "    image_uri=container, role=role, instance_count=1, \n",
    "    instance_type='ml.m5.xlarge', output_path=output_location, sagemaker_session=session,\n",
    "    base_job_name=job_name, use_spot_instances=True, \n",
    "    max_run=3600, max_wait=3600\n",
    ")"
   ]
  },
  {
   "cell_type": "code",
   "execution_count": 30,
   "id": "8bd4da97-8b12-4c7a-8014-0c6254bfaed9",
   "metadata": {
    "tags": []
   },
   "outputs": [],
   "source": [
    "freq = 'D'\n",
    "prediction_length = 30\n",
    "context_length = 30"
   ]
  },
  {
   "cell_type": "code",
   "execution_count": 31,
   "id": "d7dcb58e-5e0a-4b68-be00-ad1e7ebe0aea",
   "metadata": {
    "tags": []
   },
   "outputs": [],
   "source": [
    "hyperparametros ={\n",
    "    'time_freq': freq,\n",
    "    'epochs': '20',\n",
    "    'context_length': str(context_length),\n",
    "    'prediction_length': str(prediction_length)\n",
    "}"
   ]
  },
  {
   "cell_type": "code",
   "execution_count": 32,
   "id": "be0ce7f0-5ea3-42f0-a8b6-02eed953f44f",
   "metadata": {
    "tags": []
   },
   "outputs": [],
   "source": [
    "deepar.set_hyperparameters(**hyperparametros)"
   ]
  },
  {
   "cell_type": "code",
   "execution_count": 33,
   "id": "2377066f-827e-4e42-8301-b5205b6fcd3a",
   "metadata": {
    "tags": []
   },
   "outputs": [
    {
     "data": {
      "text/plain": [
       "{'train': 's3://praticaawssagemaker/datasets/bike/train/train.json',\n",
       " 'test': 's3://praticaawssagemaker/datasets/bike/test/test.json'}"
      ]
     },
     "execution_count": 33,
     "metadata": {},
     "output_type": "execute_result"
    }
   ],
   "source": [
    "data_channels = {'train': s3_train_data, 'test': s3_test_data}\n",
    "data_channels"
   ]
  },
  {
   "cell_type": "code",
   "execution_count": 34,
   "id": "ba654099-59df-40f1-ac04-169aedd6705f",
   "metadata": {
    "tags": []
   },
   "outputs": [
    {
     "name": "stderr",
     "output_type": "stream",
     "text": [
      "INFO:sagemaker:Creating training-job with name: deepar-bike-2023-10-30-18-30-26-678\n"
     ]
    },
    {
     "name": "stdout",
     "output_type": "stream",
     "text": [
      "2023-10-30 18:30:26 Starting - Starting the training job...\n",
      "2023-10-30 18:30:41 Starting - Preparing the instances for training.........\n",
      "2023-10-30 18:31:58 Downloading - Downloading input data...\n",
      "2023-10-30 18:32:29 Training - Downloading the training image......\n",
      "2023-10-30 18:33:34 Training - Training image download completed. Training in progress.\u001b[34mDocker entrypoint called with argument(s): train\u001b[0m\n",
      "\u001b[34mRunning default environment configuration script\u001b[0m\n",
      "\u001b[34mRunning custom environment configuration script\u001b[0m\n",
      "\u001b[34m/opt/amazon/lib/python3.7/site-packages/jsonref.py:8: DeprecationWarning: Using or importing the ABCs from 'collections' instead of from 'collections.abc' is deprecated since Python 3.3,and in 3.9 it will stop working\n",
      "  from collections import Mapping, MutableMapping, Sequence\u001b[0m\n",
      "\u001b[34m[10/30/2023 18:33:47 INFO 139992659949376] Reading default configuration from /opt/amazon/lib/python3.7/site-packages/algorithm/resources/default-input.json: {'_kvstore': 'auto', '_num_gpus': 'auto', '_num_kv_servers': 'auto', '_tuning_objective_metric': '', 'cardinality': 'auto', 'dropout_rate': '0.10', 'early_stopping_patience': '', 'embedding_dimension': '10', 'learning_rate': '0.001', 'likelihood': 'student-t', 'mini_batch_size': '128', 'num_cells': '40', 'num_dynamic_feat': 'auto', 'num_eval_samples': '100', 'num_layers': '2', 'test_quantiles': '[0.1, 0.2, 0.3, 0.4, 0.5, 0.6, 0.7, 0.8, 0.9]'}\u001b[0m\n",
      "\u001b[34m[10/30/2023 18:33:47 INFO 139992659949376] Merging with provided configuration from /opt/ml/input/config/hyperparameters.json: {'context_length': '30', 'epochs': '20', 'prediction_length': '30', 'time_freq': 'D'}\u001b[0m\n",
      "\u001b[34m[10/30/2023 18:33:47 INFO 139992659949376] Final configuration: {'_kvstore': 'auto', '_num_gpus': 'auto', '_num_kv_servers': 'auto', '_tuning_objective_metric': '', 'cardinality': 'auto', 'dropout_rate': '0.10', 'early_stopping_patience': '', 'embedding_dimension': '10', 'learning_rate': '0.001', 'likelihood': 'student-t', 'mini_batch_size': '128', 'num_cells': '40', 'num_dynamic_feat': 'auto', 'num_eval_samples': '100', 'num_layers': '2', 'test_quantiles': '[0.1, 0.2, 0.3, 0.4, 0.5, 0.6, 0.7, 0.8, 0.9]', 'context_length': '30', 'epochs': '20', 'prediction_length': '30', 'time_freq': 'D'}\u001b[0m\n",
      "\u001b[34mProcess 7 is a worker.\u001b[0m\n",
      "\u001b[34m[10/30/2023 18:33:47 INFO 139992659949376] Detected entry point for worker worker\u001b[0m\n",
      "\u001b[34m[10/30/2023 18:33:47 INFO 139992659949376] random_seed is None\u001b[0m\n",
      "\u001b[34m[10/30/2023 18:33:47 INFO 139992659949376] [cardinality=auto] `cat` field was NOT found in the file `/opt/ml/input/data/train/train.json` and will NOT be used for training.\u001b[0m\n",
      "\u001b[34m[10/30/2023 18:33:47 INFO 139992659949376] [num_dynamic_feat=auto] `dynamic_feat` field was NOT found in the file `/opt/ml/input/data/train/train.json` and will NOT be used for training.\u001b[0m\n",
      "\u001b[34m[10/30/2023 18:33:47 INFO 139992659949376] Training set statistics:\u001b[0m\n",
      "\u001b[34m[10/30/2023 18:33:47 INFO 139992659949376] Integer time series\u001b[0m\n",
      "\u001b[34m[10/30/2023 18:33:47 INFO 139992659949376] number of time series: 1\u001b[0m\n",
      "\u001b[34m[10/30/2023 18:33:47 INFO 139992659949376] number of observations: 689\u001b[0m\n",
      "\u001b[34m[10/30/2023 18:33:47 INFO 139992659949376] mean target length: 689.0\u001b[0m\n",
      "\u001b[34m[10/30/2023 18:33:47 INFO 139992659949376] min/mean/max target: 0.0/2883.1625544267054/8714.0\u001b[0m\n",
      "\u001b[34m[10/30/2023 18:33:47 INFO 139992659949376] mean abs(target): 2883.1625544267054\u001b[0m\n",
      "\u001b[34m[10/30/2023 18:33:47 INFO 139992659949376] contains missing values: no\u001b[0m\n",
      "\u001b[34m[10/30/2023 18:33:47 INFO 139992659949376] Small number of time series. Doing 1280 passes over dataset with prob 1.0 per epoch.\u001b[0m\n",
      "\u001b[34m[10/30/2023 18:33:47 INFO 139992659949376] Test set statistics:\u001b[0m\n",
      "\u001b[34m[10/30/2023 18:33:47 INFO 139992659949376] Integer time series\u001b[0m\n",
      "\u001b[34m[10/30/2023 18:33:47 INFO 139992659949376] number of time series: 1\u001b[0m\n",
      "\u001b[34m[10/30/2023 18:33:47 INFO 139992659949376] number of observations: 719\u001b[0m\n",
      "\u001b[34m[10/30/2023 18:33:47 INFO 139992659949376] mean target length: 719.0\u001b[0m\n",
      "\u001b[34m[10/30/2023 18:33:47 INFO 139992659949376] min/mean/max target: 0.0/2900.5229485396385/8714.0\u001b[0m\n",
      "\u001b[34m[10/30/2023 18:33:47 INFO 139992659949376] mean abs(target): 2900.5229485396385\u001b[0m\n",
      "\u001b[34m[10/30/2023 18:33:47 INFO 139992659949376] contains missing values: no\u001b[0m\n",
      "\u001b[34m/opt/amazon/lib/python3.7/site-packages/algorithm/core/date_feature_set.py:44: FutureWarning: weekofyear and week have been deprecated, please use DatetimeIndex.isocalendar().week instead, which returns a Series.  To exactly reproduce the behavior of week and weekofyear and return an Index, you may call pd.Int64Index(idx.isocalendar().week)\n",
      "  return index.weekofyear / 51.0 - 0.5\u001b[0m\n",
      "\u001b[34m[10/30/2023 18:33:47 INFO 139992659949376] #memory_usage::<batchbuffer> = 16.4599609375 mb\u001b[0m\n",
      "\u001b[34m[10/30/2023 18:33:47 INFO 139992659949376] nvidia-smi: took 0.029 seconds to run.\u001b[0m\n",
      "\u001b[34m[10/30/2023 18:33:47 INFO 139992659949376] nvidia-smi identified 0 GPUs.\u001b[0m\n",
      "\u001b[34m[10/30/2023 18:33:47 INFO 139992659949376] Number of GPUs being used: 0\u001b[0m\n",
      "\u001b[34m[10/30/2023 18:33:47 INFO 139992659949376] Create Store: local\u001b[0m\n",
      "\u001b[34m#metrics {\"StartTime\": 1698690827.7897177, \"EndTime\": 1698690827.9194276, \"Dimensions\": {\"Algorithm\": \"AWS/DeepAR\", \"Host\": \"algo-1\", \"Operation\": \"training\"}, \"Metrics\": {\"get_graph.time\": {\"sum\": 128.7367343902588, \"count\": 1, \"min\": 128.7367343902588, \"max\": 128.7367343902588}}}\u001b[0m\n",
      "\u001b[34m[10/30/2023 18:33:47 INFO 139992659949376] Number of GPUs being used: 0\u001b[0m\n",
      "\u001b[34m[10/30/2023 18:33:48 INFO 139992659949376] #memory_usage::<model> = 52 mb\u001b[0m\n",
      "\u001b[34m#metrics {\"StartTime\": 1698690827.9195087, \"EndTime\": 1698690828.1392365, \"Dimensions\": {\"Algorithm\": \"AWS/DeepAR\", \"Host\": \"algo-1\", \"Operation\": \"training\"}, \"Metrics\": {\"initialize.time\": {\"sum\": 349.4131565093994, \"count\": 1, \"min\": 349.4131565093994, \"max\": 349.4131565093994}}}\u001b[0m\n",
      "\u001b[34m[10/30/2023 18:33:48 INFO 139992659949376] Epoch[0] Batch[0] avg_epoch_loss=9.918926\u001b[0m\n",
      "\u001b[34m[10/30/2023 18:33:48 INFO 139992659949376] #quality_metric: host=algo-1, epoch=0, batch=0 train loss <loss>=9.918926239013672\u001b[0m\n",
      "\u001b[34m[10/30/2023 18:33:49 INFO 139992659949376] Epoch[0] Batch[5] avg_epoch_loss=9.374552\u001b[0m\n",
      "\u001b[34m[10/30/2023 18:33:49 INFO 139992659949376] #quality_metric: host=algo-1, epoch=0, batch=5 train loss <loss>=9.374552090962728\u001b[0m\n",
      "\u001b[34m[10/30/2023 18:33:49 INFO 139992659949376] Epoch[0] Batch [5]#011Speed: 912.56 samples/sec#011loss=9.374552\u001b[0m\n",
      "\u001b[34m[10/30/2023 18:33:50 INFO 139992659949376] processed a total of 1258 examples\u001b[0m\n",
      "\u001b[34m#metrics {\"StartTime\": 1698690828.1392972, \"EndTime\": 1698690830.0621986, \"Dimensions\": {\"Algorithm\": \"AWS/DeepAR\", \"Host\": \"algo-1\", \"Operation\": \"training\"}, \"Metrics\": {\"epochs\": {\"sum\": 20.0, \"count\": 1, \"min\": 20, \"max\": 20}, \"update.time\": {\"sum\": 1922.7983951568604, \"count\": 1, \"min\": 1922.7983951568604, \"max\": 1922.7983951568604}}}\u001b[0m\n",
      "\u001b[34m[10/30/2023 18:33:50 INFO 139992659949376] #throughput_metric: host=algo-1, train throughput=654.2086019612243 records/second\u001b[0m\n",
      "\u001b[34m[10/30/2023 18:33:50 INFO 139992659949376] #progress_metric: host=algo-1, completed 5.0 % of epochs\u001b[0m\n",
      "\u001b[34m[10/30/2023 18:33:50 INFO 139992659949376] #quality_metric: host=algo-1, epoch=0, train loss <loss>=9.26267204284668\u001b[0m\n",
      "\u001b[34m[10/30/2023 18:33:50 INFO 139992659949376] Epoch[1] Batch[0] avg_epoch_loss=9.090033\u001b[0m\n",
      "\u001b[34m[10/30/2023 18:33:50 INFO 139992659949376] #quality_metric: host=algo-1, epoch=1, batch=0 train loss <loss>=9.090032577514648\u001b[0m\n",
      "\u001b[34m[10/30/2023 18:33:51 INFO 139992659949376] Epoch[1] Batch[5] avg_epoch_loss=8.959483\u001b[0m\n",
      "\u001b[34m[10/30/2023 18:33:51 INFO 139992659949376] #quality_metric: host=algo-1, epoch=1, batch=5 train loss <loss>=8.959482987721762\u001b[0m\n",
      "\u001b[34m[10/30/2023 18:33:51 INFO 139992659949376] Epoch[1] Batch [5]#011Speed: 787.06 samples/sec#011loss=8.959483\u001b[0m\n",
      "\u001b[34m[10/30/2023 18:33:52 INFO 139992659949376] processed a total of 1223 examples\u001b[0m\n",
      "\u001b[34m#metrics {\"StartTime\": 1698690830.062282, \"EndTime\": 1698690832.162517, \"Dimensions\": {\"Algorithm\": \"AWS/DeepAR\", \"Host\": \"algo-1\", \"Operation\": \"training\"}, \"Metrics\": {\"update.time\": {\"sum\": 2099.553108215332, \"count\": 1, \"min\": 2099.553108215332, \"max\": 2099.553108215332}}}\u001b[0m\n",
      "\u001b[34m[10/30/2023 18:33:52 INFO 139992659949376] #throughput_metric: host=algo-1, train throughput=582.4566952272498 records/second\u001b[0m\n",
      "\u001b[34m[10/30/2023 18:33:52 INFO 139992659949376] #progress_metric: host=algo-1, completed 10.0 % of epochs\u001b[0m\n",
      "\u001b[34m[10/30/2023 18:33:52 INFO 139992659949376] #quality_metric: host=algo-1, epoch=1, train loss <loss>=8.707050943374634\u001b[0m\n",
      "\u001b[34m[10/30/2023 18:33:52 INFO 139992659949376] Epoch[2] Batch[0] avg_epoch_loss=8.767999\u001b[0m\n",
      "\u001b[34m[10/30/2023 18:33:52 INFO 139992659949376] #quality_metric: host=algo-1, epoch=2, batch=0 train loss <loss>=8.767998695373535\u001b[0m\n",
      "\u001b[34m[10/30/2023 18:33:53 INFO 139992659949376] Epoch[2] Batch[5] avg_epoch_loss=8.594080\u001b[0m\n",
      "\u001b[34m[10/30/2023 18:33:53 INFO 139992659949376] #quality_metric: host=algo-1, epoch=2, batch=5 train loss <loss>=8.594079812367758\u001b[0m\n",
      "\u001b[34m[10/30/2023 18:33:53 INFO 139992659949376] Epoch[2] Batch [5]#011Speed: 867.09 samples/sec#011loss=8.594080\u001b[0m\n",
      "\u001b[34m[10/30/2023 18:33:54 INFO 139992659949376] Epoch[2] Batch[10] avg_epoch_loss=8.546039\u001b[0m\n",
      "\u001b[34m[10/30/2023 18:33:54 INFO 139992659949376] #quality_metric: host=algo-1, epoch=2, batch=10 train loss <loss>=8.48839054107666\u001b[0m\n",
      "\u001b[34m[10/30/2023 18:33:54 INFO 139992659949376] Epoch[2] Batch [10]#011Speed: 893.98 samples/sec#011loss=8.488391\u001b[0m\n",
      "\u001b[34m[10/30/2023 18:33:54 INFO 139992659949376] processed a total of 1300 examples\u001b[0m\n",
      "\u001b[34m#metrics {\"StartTime\": 1698690832.1626482, \"EndTime\": 1698690834.41777, \"Dimensions\": {\"Algorithm\": \"AWS/DeepAR\", \"Host\": \"algo-1\", \"Operation\": \"training\"}, \"Metrics\": {\"update.time\": {\"sum\": 2254.132032394409, \"count\": 1, \"min\": 2254.132032394409, \"max\": 2254.132032394409}}}\u001b[0m\n",
      "\u001b[34m[10/30/2023 18:33:54 INFO 139992659949376] #throughput_metric: host=algo-1, train throughput=576.693466095141 records/second\u001b[0m\n",
      "\u001b[34m[10/30/2023 18:33:54 INFO 139992659949376] #progress_metric: host=algo-1, completed 15.0 % of epochs\u001b[0m\n",
      "\u001b[34m[10/30/2023 18:33:54 INFO 139992659949376] #quality_metric: host=algo-1, epoch=2, train loss <loss>=8.546039234508168\u001b[0m\n",
      "\u001b[34m[10/30/2023 18:33:54 INFO 139992659949376] Epoch[3] Batch[0] avg_epoch_loss=8.482027\u001b[0m\n",
      "\u001b[34m[10/30/2023 18:33:54 INFO 139992659949376] #quality_metric: host=algo-1, epoch=3, batch=0 train loss <loss>=8.482027053833008\u001b[0m\n",
      "\u001b[34m[10/30/2023 18:33:55 INFO 139992659949376] Epoch[3] Batch[5] avg_epoch_loss=8.382137\u001b[0m\n",
      "\u001b[34m[10/30/2023 18:33:55 INFO 139992659949376] #quality_metric: host=algo-1, epoch=3, batch=5 train loss <loss>=8.382137457529703\u001b[0m\n",
      "\u001b[34m[10/30/2023 18:33:55 INFO 139992659949376] Epoch[3] Batch [5]#011Speed: 916.57 samples/sec#011loss=8.382137\u001b[0m\n",
      "\u001b[34m[10/30/2023 18:33:56 INFO 139992659949376] Epoch[3] Batch[10] avg_epoch_loss=8.344923\u001b[0m\n",
      "\u001b[34m[10/30/2023 18:33:56 INFO 139992659949376] #quality_metric: host=algo-1, epoch=3, batch=10 train loss <loss>=8.300265121459962\u001b[0m\n",
      "\u001b[34m[10/30/2023 18:33:56 INFO 139992659949376] Epoch[3] Batch [10]#011Speed: 867.86 samples/sec#011loss=8.300265\u001b[0m\n",
      "\u001b[34m[10/30/2023 18:33:56 INFO 139992659949376] processed a total of 1367 examples\u001b[0m\n",
      "\u001b[34m#metrics {\"StartTime\": 1698690834.4178407, \"EndTime\": 1698690836.4027236, \"Dimensions\": {\"Algorithm\": \"AWS/DeepAR\", \"Host\": \"algo-1\", \"Operation\": \"training\"}, \"Metrics\": {\"update.time\": {\"sum\": 1984.525442123413, \"count\": 1, \"min\": 1984.525442123413, \"max\": 1984.525442123413}}}\u001b[0m\n",
      "\u001b[34m[10/30/2023 18:33:56 INFO 139992659949376] #throughput_metric: host=algo-1, train throughput=688.7997939468029 records/second\u001b[0m\n",
      "\u001b[34m[10/30/2023 18:33:56 INFO 139992659949376] #progress_metric: host=algo-1, completed 20.0 % of epochs\u001b[0m\n",
      "\u001b[34m[10/30/2023 18:33:56 INFO 139992659949376] #quality_metric: host=algo-1, epoch=3, train loss <loss>=8.344922759316184\u001b[0m\n",
      "\u001b[34m[10/30/2023 18:33:56 INFO 139992659949376] Epoch[4] Batch[0] avg_epoch_loss=8.281666\u001b[0m\n",
      "\u001b[34m[10/30/2023 18:33:56 INFO 139992659949376] #quality_metric: host=algo-1, epoch=4, batch=0 train loss <loss>=8.281665802001953\u001b[0m\n",
      "\u001b[34m[10/30/2023 18:33:57 INFO 139992659949376] Epoch[4] Batch[5] avg_epoch_loss=8.255971\u001b[0m\n",
      "\u001b[34m[10/30/2023 18:33:57 INFO 139992659949376] #quality_metric: host=algo-1, epoch=4, batch=5 train loss <loss>=8.255971272786459\u001b[0m\n",
      "\u001b[34m[10/30/2023 18:33:57 INFO 139992659949376] Epoch[4] Batch [5]#011Speed: 914.05 samples/sec#011loss=8.255971\u001b[0m\n",
      "\u001b[34m[10/30/2023 18:33:58 INFO 139992659949376] processed a total of 1238 examples\u001b[0m\n",
      "\u001b[34m#metrics {\"StartTime\": 1698690836.402784, \"EndTime\": 1698690838.2620387, \"Dimensions\": {\"Algorithm\": \"AWS/DeepAR\", \"Host\": \"algo-1\", \"Operation\": \"training\"}, \"Metrics\": {\"update.time\": {\"sum\": 1858.9651584625244, \"count\": 1, \"min\": 1858.9651584625244, \"max\": 1858.9651584625244}}}\u001b[0m\n",
      "\u001b[34m[10/30/2023 18:33:58 INFO 139992659949376] #throughput_metric: host=algo-1, train throughput=665.9268996694443 records/second\u001b[0m\n",
      "\u001b[34m[10/30/2023 18:33:58 INFO 139992659949376] #progress_metric: host=algo-1, completed 25.0 % of epochs\u001b[0m\n",
      "\u001b[34m[10/30/2023 18:33:58 INFO 139992659949376] #quality_metric: host=algo-1, epoch=4, train loss <loss>=8.240341186523438\u001b[0m\n",
      "\u001b[34m[10/30/2023 18:33:58 INFO 139992659949376] Epoch[5] Batch[0] avg_epoch_loss=8.133081\u001b[0m\n",
      "\u001b[34m[10/30/2023 18:33:58 INFO 139992659949376] #quality_metric: host=algo-1, epoch=5, batch=0 train loss <loss>=8.133081436157227\u001b[0m\n",
      "\u001b[34m[10/30/2023 18:33:59 INFO 139992659949376] Epoch[5] Batch[5] avg_epoch_loss=8.157157\u001b[0m\n",
      "\u001b[34m[10/30/2023 18:33:59 INFO 139992659949376] #quality_metric: host=algo-1, epoch=5, batch=5 train loss <loss>=8.157157103220621\u001b[0m\n",
      "\u001b[34m[10/30/2023 18:33:59 INFO 139992659949376] Epoch[5] Batch [5]#011Speed: 913.88 samples/sec#011loss=8.157157\u001b[0m\n",
      "\u001b[34m[10/30/2023 18:34:00 INFO 139992659949376] processed a total of 1267 examples\u001b[0m\n",
      "\u001b[34m#metrics {\"StartTime\": 1698690838.262106, \"EndTime\": 1698690840.1717374, \"Dimensions\": {\"Algorithm\": \"AWS/DeepAR\", \"Host\": \"algo-1\", \"Operation\": \"training\"}, \"Metrics\": {\"update.time\": {\"sum\": 1909.1806411743164, \"count\": 1, \"min\": 1909.1806411743164, \"max\": 1909.1806411743164}}}\u001b[0m\n",
      "\u001b[34m[10/30/2023 18:34:00 INFO 139992659949376] #throughput_metric: host=algo-1, train throughput=663.5884045606956 records/second\u001b[0m\n",
      "\u001b[34m[10/30/2023 18:34:00 INFO 139992659949376] #progress_metric: host=algo-1, completed 30.0 % of epochs\u001b[0m\n",
      "\u001b[34m[10/30/2023 18:34:00 INFO 139992659949376] #quality_metric: host=algo-1, epoch=5, train loss <loss>=8.10228509902954\u001b[0m\n",
      "\u001b[34m[10/30/2023 18:34:00 INFO 139992659949376] Epoch[6] Batch[0] avg_epoch_loss=8.104983\u001b[0m\n",
      "\u001b[34m[10/30/2023 18:34:00 INFO 139992659949376] #quality_metric: host=algo-1, epoch=6, batch=0 train loss <loss>=8.10498332977295\u001b[0m\n",
      "\u001b[34m[10/30/2023 18:34:01 INFO 139992659949376] Epoch[6] Batch[5] avg_epoch_loss=8.059601\u001b[0m\n",
      "\u001b[34m[10/30/2023 18:34:01 INFO 139992659949376] #quality_metric: host=algo-1, epoch=6, batch=5 train loss <loss>=8.059600989023844\u001b[0m\n",
      "\u001b[34m[10/30/2023 18:34:01 INFO 139992659949376] Epoch[6] Batch [5]#011Speed: 872.41 samples/sec#011loss=8.059601\u001b[0m\n",
      "\u001b[34m[10/30/2023 18:34:02 INFO 139992659949376] Epoch[6] Batch[10] avg_epoch_loss=8.033552\u001b[0m\n",
      "\u001b[34m[10/30/2023 18:34:02 INFO 139992659949376] #quality_metric: host=algo-1, epoch=6, batch=10 train loss <loss>=8.002293300628661\u001b[0m\n",
      "\u001b[34m[10/30/2023 18:34:02 INFO 139992659949376] Epoch[6] Batch [10]#011Speed: 756.55 samples/sec#011loss=8.002293\u001b[0m\n",
      "\u001b[34m[10/30/2023 18:34:02 INFO 139992659949376] processed a total of 1313 examples\u001b[0m\n",
      "\u001b[34m#metrics {\"StartTime\": 1698690840.1718335, \"EndTime\": 1698690842.3059032, \"Dimensions\": {\"Algorithm\": \"AWS/DeepAR\", \"Host\": \"algo-1\", \"Operation\": \"training\"}, \"Metrics\": {\"update.time\": {\"sum\": 2133.5206031799316, \"count\": 1, \"min\": 2133.5206031799316, \"max\": 2133.5206031799316}}}\u001b[0m\n",
      "\u001b[34m[10/30/2023 18:34:02 INFO 139992659949376] #throughput_metric: host=algo-1, train throughput=615.3766299244132 records/second\u001b[0m\n",
      "\u001b[34m[10/30/2023 18:34:02 INFO 139992659949376] #progress_metric: host=algo-1, completed 35.0 % of epochs\u001b[0m\n",
      "\u001b[34m[10/30/2023 18:34:02 INFO 139992659949376] #quality_metric: host=algo-1, epoch=6, train loss <loss>=8.033552039753307\u001b[0m\n",
      "\u001b[34m[10/30/2023 18:34:03 INFO 139992659949376] Epoch[7] Batch[0] avg_epoch_loss=7.950927\u001b[0m\n",
      "\u001b[34m[10/30/2023 18:34:03 INFO 139992659949376] #quality_metric: host=algo-1, epoch=7, batch=0 train loss <loss>=7.950926780700684\u001b[0m\n",
      "\u001b[34m[10/30/2023 18:34:03 INFO 139992659949376] Epoch[7] Batch[5] avg_epoch_loss=7.922578\u001b[0m\n",
      "\u001b[34m[10/30/2023 18:34:03 INFO 139992659949376] #quality_metric: host=algo-1, epoch=7, batch=5 train loss <loss>=7.922578493754069\u001b[0m\n",
      "\u001b[34m[10/30/2023 18:34:03 INFO 139992659949376] Epoch[7] Batch [5]#011Speed: 832.99 samples/sec#011loss=7.922578\u001b[0m\n",
      "\u001b[34m[10/30/2023 18:34:04 INFO 139992659949376] processed a total of 1280 examples\u001b[0m\n",
      "\u001b[34m#metrics {\"StartTime\": 1698690842.3060043, \"EndTime\": 1698690844.3323433, \"Dimensions\": {\"Algorithm\": \"AWS/DeepAR\", \"Host\": \"algo-1\", \"Operation\": \"training\"}, \"Metrics\": {\"update.time\": {\"sum\": 2026.0086059570312, \"count\": 1, \"min\": 2026.0086059570312, \"max\": 2026.0086059570312}}}\u001b[0m\n",
      "\u001b[34m[10/30/2023 18:34:04 INFO 139992659949376] #throughput_metric: host=algo-1, train throughput=631.7518230481294 records/second\u001b[0m\n",
      "\u001b[34m[10/30/2023 18:34:04 INFO 139992659949376] #progress_metric: host=algo-1, completed 40.0 % of epochs\u001b[0m\n",
      "\u001b[34m[10/30/2023 18:34:04 INFO 139992659949376] #quality_metric: host=algo-1, epoch=7, train loss <loss>=7.908885669708252\u001b[0m\n",
      "\u001b[34m[10/30/2023 18:34:04 INFO 139992659949376] Epoch[8] Batch[0] avg_epoch_loss=7.834743\u001b[0m\n",
      "\u001b[34m[10/30/2023 18:34:04 INFO 139992659949376] #quality_metric: host=algo-1, epoch=8, batch=0 train loss <loss>=7.834743499755859\u001b[0m\n",
      "\u001b[34m[10/30/2023 18:34:05 INFO 139992659949376] Epoch[8] Batch[5] avg_epoch_loss=7.823395\u001b[0m\n",
      "\u001b[34m[10/30/2023 18:34:05 INFO 139992659949376] #quality_metric: host=algo-1, epoch=8, batch=5 train loss <loss>=7.823394775390625\u001b[0m\n",
      "\u001b[34m[10/30/2023 18:34:05 INFO 139992659949376] Epoch[8] Batch [5]#011Speed: 905.77 samples/sec#011loss=7.823395\u001b[0m\n",
      "\u001b[34m[10/30/2023 18:34:06 INFO 139992659949376] Epoch[8] Batch[10] avg_epoch_loss=7.770599\u001b[0m\n",
      "\u001b[34m[10/30/2023 18:34:06 INFO 139992659949376] #quality_metric: host=algo-1, epoch=8, batch=10 train loss <loss>=7.7072434425354\u001b[0m\n",
      "\u001b[34m[10/30/2023 18:34:06 INFO 139992659949376] Epoch[8] Batch [10]#011Speed: 899.89 samples/sec#011loss=7.707243\u001b[0m\n",
      "\u001b[34m[10/30/2023 18:34:06 INFO 139992659949376] processed a total of 1282 examples\u001b[0m\n",
      "\u001b[34m#metrics {\"StartTime\": 1698690844.3324184, \"EndTime\": 1698690846.309466, \"Dimensions\": {\"Algorithm\": \"AWS/DeepAR\", \"Host\": \"algo-1\", \"Operation\": \"training\"}, \"Metrics\": {\"update.time\": {\"sum\": 1976.5851497650146, \"count\": 1, \"min\": 1976.5851497650146, \"max\": 1976.5851497650146}}}\u001b[0m\n",
      "\u001b[34m[10/30/2023 18:34:06 INFO 139992659949376] #throughput_metric: host=algo-1, train throughput=648.5640216462299 records/second\u001b[0m\n",
      "\u001b[34m[10/30/2023 18:34:06 INFO 139992659949376] #progress_metric: host=algo-1, completed 45.0 % of epochs\u001b[0m\n",
      "\u001b[34m[10/30/2023 18:34:06 INFO 139992659949376] #quality_metric: host=algo-1, epoch=8, train loss <loss>=7.770598715001887\u001b[0m\n",
      "\u001b[34m[10/30/2023 18:34:06 INFO 139992659949376] Epoch[9] Batch[0] avg_epoch_loss=7.671645\u001b[0m\n",
      "\u001b[34m[10/30/2023 18:34:06 INFO 139992659949376] #quality_metric: host=algo-1, epoch=9, batch=0 train loss <loss>=7.671645164489746\u001b[0m\n",
      "\u001b[34m[10/30/2023 18:34:07 INFO 139992659949376] Epoch[9] Batch[5] avg_epoch_loss=7.790508\u001b[0m\n",
      "\u001b[34m[10/30/2023 18:34:07 INFO 139992659949376] #quality_metric: host=algo-1, epoch=9, batch=5 train loss <loss>=7.790507713953654\u001b[0m\n",
      "\u001b[34m[10/30/2023 18:34:07 INFO 139992659949376] Epoch[9] Batch [5]#011Speed: 917.34 samples/sec#011loss=7.790508\u001b[0m\n",
      "\u001b[34m[10/30/2023 18:34:08 INFO 139992659949376] processed a total of 1251 examples\u001b[0m\n",
      "\u001b[34m#metrics {\"StartTime\": 1698690846.3095243, \"EndTime\": 1698690848.13078, \"Dimensions\": {\"Algorithm\": \"AWS/DeepAR\", \"Host\": \"algo-1\", \"Operation\": \"training\"}, \"Metrics\": {\"update.time\": {\"sum\": 1820.9145069122314, \"count\": 1, \"min\": 1820.9145069122314, \"max\": 1820.9145069122314}}}\u001b[0m\n",
      "\u001b[34m[10/30/2023 18:34:08 INFO 139992659949376] #throughput_metric: host=algo-1, train throughput=686.9819875009541 records/second\u001b[0m\n",
      "\u001b[34m[10/30/2023 18:34:08 INFO 139992659949376] #progress_metric: host=algo-1, completed 50.0 % of epochs\u001b[0m\n",
      "\u001b[34m[10/30/2023 18:34:08 INFO 139992659949376] #quality_metric: host=algo-1, epoch=9, train loss <loss>=7.74408187866211\u001b[0m\n",
      "\u001b[34m[10/30/2023 18:34:08 INFO 139992659949376] Epoch[10] Batch[0] avg_epoch_loss=7.736475\u001b[0m\n",
      "\u001b[34m[10/30/2023 18:34:08 INFO 139992659949376] #quality_metric: host=algo-1, epoch=10, batch=0 train loss <loss>=7.736474514007568\u001b[0m\n",
      "\u001b[34m[10/30/2023 18:34:09 INFO 139992659949376] Epoch[10] Batch[5] avg_epoch_loss=7.744668\u001b[0m\n",
      "\u001b[34m[10/30/2023 18:34:09 INFO 139992659949376] #quality_metric: host=algo-1, epoch=10, batch=5 train loss <loss>=7.7446675300598145\u001b[0m\n",
      "\u001b[34m[10/30/2023 18:34:09 INFO 139992659949376] Epoch[10] Batch [5]#011Speed: 908.38 samples/sec#011loss=7.744668\u001b[0m\n",
      "\u001b[34m[10/30/2023 18:34:09 INFO 139992659949376] processed a total of 1277 examples\u001b[0m\n",
      "\u001b[34m#metrics {\"StartTime\": 1698690848.130844, \"EndTime\": 1698690849.949205, \"Dimensions\": {\"Algorithm\": \"AWS/DeepAR\", \"Host\": \"algo-1\", \"Operation\": \"training\"}, \"Metrics\": {\"update.time\": {\"sum\": 1817.9750442504883, \"count\": 1, \"min\": 1817.9750442504883, \"max\": 1817.9750442504883}}}\u001b[0m\n",
      "\u001b[34m[10/30/2023 18:34:09 INFO 139992659949376] #throughput_metric: host=algo-1, train throughput=702.3906432650376 records/second\u001b[0m\n",
      "\u001b[34m[10/30/2023 18:34:09 INFO 139992659949376] #progress_metric: host=algo-1, completed 55.0 % of epochs\u001b[0m\n",
      "\u001b[34m[10/30/2023 18:34:09 INFO 139992659949376] #quality_metric: host=algo-1, epoch=10, train loss <loss>=7.714833688735962\u001b[0m\n",
      "\u001b[34m[10/30/2023 18:34:10 INFO 139992659949376] Epoch[11] Batch[0] avg_epoch_loss=7.631091\u001b[0m\n",
      "\u001b[34m[10/30/2023 18:34:10 INFO 139992659949376] #quality_metric: host=algo-1, epoch=11, batch=0 train loss <loss>=7.631091117858887\u001b[0m\n",
      "\u001b[34m[10/30/2023 18:34:11 INFO 139992659949376] Epoch[11] Batch[5] avg_epoch_loss=7.657803\u001b[0m\n",
      "\u001b[34m[10/30/2023 18:34:11 INFO 139992659949376] #quality_metric: host=algo-1, epoch=11, batch=5 train loss <loss>=7.657802581787109\u001b[0m\n",
      "\u001b[34m[10/30/2023 18:34:11 INFO 139992659949376] Epoch[11] Batch [5]#011Speed: 889.84 samples/sec#011loss=7.657803\u001b[0m\n",
      "\u001b[34m[10/30/2023 18:34:11 INFO 139992659949376] Epoch[11] Batch[10] avg_epoch_loss=7.696497\u001b[0m\n",
      "\u001b[34m[10/30/2023 18:34:11 INFO 139992659949376] #quality_metric: host=algo-1, epoch=11, batch=10 train loss <loss>=7.742930507659912\u001b[0m\n",
      "\u001b[34m[10/30/2023 18:34:11 INFO 139992659949376] Epoch[11] Batch [10]#011Speed: 903.10 samples/sec#011loss=7.742931\u001b[0m\n",
      "\u001b[34m[10/30/2023 18:34:11 INFO 139992659949376] processed a total of 1292 examples\u001b[0m\n",
      "\u001b[34m#metrics {\"StartTime\": 1698690849.9492779, \"EndTime\": 1698690851.9330566, \"Dimensions\": {\"Algorithm\": \"AWS/DeepAR\", \"Host\": \"algo-1\", \"Operation\": \"training\"}, \"Metrics\": {\"update.time\": {\"sum\": 1983.4027290344238, \"count\": 1, \"min\": 1983.4027290344238, \"max\": 1983.4027290344238}}}\u001b[0m\n",
      "\u001b[34m[10/30/2023 18:34:11 INFO 139992659949376] #throughput_metric: host=algo-1, train throughput=651.3763383525435 records/second\u001b[0m\n",
      "\u001b[34m[10/30/2023 18:34:11 INFO 139992659949376] #progress_metric: host=algo-1, completed 60.0 % of epochs\u001b[0m\n",
      "\u001b[34m[10/30/2023 18:34:11 INFO 139992659949376] #quality_metric: host=algo-1, epoch=11, train loss <loss>=7.696497093547475\u001b[0m\n",
      "\u001b[34m[10/30/2023 18:34:12 INFO 139992659949376] Epoch[12] Batch[0] avg_epoch_loss=7.578558\u001b[0m\n",
      "\u001b[34m[10/30/2023 18:34:12 INFO 139992659949376] #quality_metric: host=algo-1, epoch=12, batch=0 train loss <loss>=7.578557968139648\u001b[0m\n",
      "\u001b[34m[10/30/2023 18:34:13 INFO 139992659949376] Epoch[12] Batch[5] avg_epoch_loss=7.606684\u001b[0m\n",
      "\u001b[34m[10/30/2023 18:34:13 INFO 139992659949376] #quality_metric: host=algo-1, epoch=12, batch=5 train loss <loss>=7.606683890024821\u001b[0m\n",
      "\u001b[34m[10/30/2023 18:34:13 INFO 139992659949376] Epoch[12] Batch [5]#011Speed: 920.43 samples/sec#011loss=7.606684\u001b[0m\n",
      "\u001b[34m[10/30/2023 18:34:13 INFO 139992659949376] Epoch[12] Batch[10] avg_epoch_loss=7.630684\u001b[0m\n",
      "\u001b[34m[10/30/2023 18:34:13 INFO 139992659949376] #quality_metric: host=algo-1, epoch=12, batch=10 train loss <loss>=7.659483623504639\u001b[0m\n",
      "\u001b[34m[10/30/2023 18:34:13 INFO 139992659949376] Epoch[12] Batch [10]#011Speed: 857.14 samples/sec#011loss=7.659484\u001b[0m\n",
      "\u001b[34m[10/30/2023 18:34:13 INFO 139992659949376] processed a total of 1377 examples\u001b[0m\n",
      "\u001b[34m#metrics {\"StartTime\": 1698690851.9331195, \"EndTime\": 1698690853.9383218, \"Dimensions\": {\"Algorithm\": \"AWS/DeepAR\", \"Host\": \"algo-1\", \"Operation\": \"training\"}, \"Metrics\": {\"update.time\": {\"sum\": 2004.9552917480469, \"count\": 1, \"min\": 2004.9552917480469, \"max\": 2004.9552917480469}}}\u001b[0m\n",
      "\u001b[34m[10/30/2023 18:34:13 INFO 139992659949376] #throughput_metric: host=algo-1, train throughput=686.7669968855295 records/second\u001b[0m\n",
      "\u001b[34m[10/30/2023 18:34:13 INFO 139992659949376] #progress_metric: host=algo-1, completed 65.0 % of epochs\u001b[0m\n",
      "\u001b[34m[10/30/2023 18:34:13 INFO 139992659949376] #quality_metric: host=algo-1, epoch=12, train loss <loss>=7.630683768879283\u001b[0m\n",
      "\u001b[34m[10/30/2023 18:34:14 INFO 139992659949376] Epoch[13] Batch[0] avg_epoch_loss=7.639721\u001b[0m\n",
      "\u001b[34m[10/30/2023 18:34:14 INFO 139992659949376] #quality_metric: host=algo-1, epoch=13, batch=0 train loss <loss>=7.639720916748047\u001b[0m\n",
      "\u001b[34m[10/30/2023 18:34:15 INFO 139992659949376] Epoch[13] Batch[5] avg_epoch_loss=7.575436\u001b[0m\n",
      "\u001b[34m[10/30/2023 18:34:15 INFO 139992659949376] #quality_metric: host=algo-1, epoch=13, batch=5 train loss <loss>=7.575435797373454\u001b[0m\n",
      "\u001b[34m[10/30/2023 18:34:15 INFO 139992659949376] Epoch[13] Batch [5]#011Speed: 931.06 samples/sec#011loss=7.575436\u001b[0m\n",
      "\u001b[34m[10/30/2023 18:34:15 INFO 139992659949376] processed a total of 1227 examples\u001b[0m\n",
      "\u001b[34m#metrics {\"StartTime\": 1698690853.9383857, \"EndTime\": 1698690855.7649286, \"Dimensions\": {\"Algorithm\": \"AWS/DeepAR\", \"Host\": \"algo-1\", \"Operation\": \"training\"}, \"Metrics\": {\"update.time\": {\"sum\": 1826.2410163879395, \"count\": 1, \"min\": 1826.2410163879395, \"max\": 1826.2410163879395}}}\u001b[0m\n",
      "\u001b[34m[10/30/2023 18:34:15 INFO 139992659949376] #throughput_metric: host=algo-1, train throughput=671.7933057344845 records/second\u001b[0m\n",
      "\u001b[34m[10/30/2023 18:34:15 INFO 139992659949376] #progress_metric: host=algo-1, completed 70.0 % of epochs\u001b[0m\n",
      "\u001b[34m[10/30/2023 18:34:15 INFO 139992659949376] #quality_metric: host=algo-1, epoch=13, train loss <loss>=7.5606084823608395\u001b[0m\n",
      "\u001b[34m[10/30/2023 18:34:16 INFO 139992659949376] Epoch[14] Batch[0] avg_epoch_loss=7.506949\u001b[0m\n",
      "\u001b[34m[10/30/2023 18:34:16 INFO 139992659949376] #quality_metric: host=algo-1, epoch=14, batch=0 train loss <loss>=7.506949424743652\u001b[0m\n",
      "\u001b[34m[10/30/2023 18:34:17 INFO 139992659949376] Epoch[14] Batch[5] avg_epoch_loss=7.567786\u001b[0m\n",
      "\u001b[34m[10/30/2023 18:34:17 INFO 139992659949376] #quality_metric: host=algo-1, epoch=14, batch=5 train loss <loss>=7.56778605779012\u001b[0m\n",
      "\u001b[34m[10/30/2023 18:34:17 INFO 139992659949376] Epoch[14] Batch [5]#011Speed: 919.33 samples/sec#011loss=7.567786\u001b[0m\n",
      "\u001b[34m[10/30/2023 18:34:17 INFO 139992659949376] processed a total of 1247 examples\u001b[0m\n",
      "\u001b[34m#metrics {\"StartTime\": 1698690855.7651076, \"EndTime\": 1698690857.5763094, \"Dimensions\": {\"Algorithm\": \"AWS/DeepAR\", \"Host\": \"algo-1\", \"Operation\": \"training\"}, \"Metrics\": {\"update.time\": {\"sum\": 1810.8086585998535, \"count\": 1, \"min\": 1810.8086585998535, \"max\": 1810.8086585998535}}}\u001b[0m\n",
      "\u001b[34m[10/30/2023 18:34:17 INFO 139992659949376] #throughput_metric: host=algo-1, train throughput=688.5483261064 records/second\u001b[0m\n",
      "\u001b[34m[10/30/2023 18:34:17 INFO 139992659949376] #progress_metric: host=algo-1, completed 75.0 % of epochs\u001b[0m\n",
      "\u001b[34m[10/30/2023 18:34:17 INFO 139992659949376] #quality_metric: host=algo-1, epoch=14, train loss <loss>=7.544724321365356\u001b[0m\n",
      "\u001b[34m[10/30/2023 18:34:18 INFO 139992659949376] Epoch[15] Batch[0] avg_epoch_loss=7.536520\u001b[0m\n",
      "\u001b[34m[10/30/2023 18:34:18 INFO 139992659949376] #quality_metric: host=algo-1, epoch=15, batch=0 train loss <loss>=7.536520004272461\u001b[0m\n",
      "\u001b[34m[10/30/2023 18:34:18 INFO 139992659949376] Epoch[15] Batch[5] avg_epoch_loss=7.521705\u001b[0m\n",
      "\u001b[34m[10/30/2023 18:34:18 INFO 139992659949376] #quality_metric: host=algo-1, epoch=15, batch=5 train loss <loss>=7.521704912185669\u001b[0m\n",
      "\u001b[34m[10/30/2023 18:34:18 INFO 139992659949376] Epoch[15] Batch [5]#011Speed: 922.64 samples/sec#011loss=7.521705\u001b[0m\n",
      "\u001b[34m[10/30/2023 18:34:19 INFO 139992659949376] processed a total of 1256 examples\u001b[0m\n",
      "\u001b[34m#metrics {\"StartTime\": 1698690857.5765238, \"EndTime\": 1698690859.420341, \"Dimensions\": {\"Algorithm\": \"AWS/DeepAR\", \"Host\": \"algo-1\", \"Operation\": \"training\"}, \"Metrics\": {\"update.time\": {\"sum\": 1843.4333801269531, \"count\": 1, \"min\": 1843.4333801269531, \"max\": 1843.4333801269531}}}\u001b[0m\n",
      "\u001b[34m[10/30/2023 18:34:19 INFO 139992659949376] #throughput_metric: host=algo-1, train throughput=681.3010388069214 records/second\u001b[0m\n",
      "\u001b[34m[10/30/2023 18:34:19 INFO 139992659949376] #progress_metric: host=algo-1, completed 80.0 % of epochs\u001b[0m\n",
      "\u001b[34m[10/30/2023 18:34:19 INFO 139992659949376] #quality_metric: host=algo-1, epoch=15, train loss <loss>=7.443108654022216\u001b[0m\n",
      "\u001b[34m[10/30/2023 18:34:19 INFO 139992659949376] Epoch[16] Batch[0] avg_epoch_loss=7.460790\u001b[0m\n",
      "\u001b[34m[10/30/2023 18:34:20 INFO 139992659949376] #quality_metric: host=algo-1, epoch=16, batch=0 train loss <loss>=7.460790157318115\u001b[0m\n",
      "\u001b[34m[10/30/2023 18:34:20 INFO 139992659949376] Epoch[16] Batch[5] avg_epoch_loss=7.489568\u001b[0m\n",
      "\u001b[34m[10/30/2023 18:34:20 INFO 139992659949376] #quality_metric: host=algo-1, epoch=16, batch=5 train loss <loss>=7.48956831296285\u001b[0m\n",
      "\u001b[34m[10/30/2023 18:34:20 INFO 139992659949376] Epoch[16] Batch [5]#011Speed: 922.22 samples/sec#011loss=7.489568\u001b[0m\n",
      "\u001b[34m[10/30/2023 18:34:21 INFO 139992659949376] processed a total of 1235 examples\u001b[0m\n",
      "\u001b[34m#metrics {\"StartTime\": 1698690859.4204106, \"EndTime\": 1698690861.2610989, \"Dimensions\": {\"Algorithm\": \"AWS/DeepAR\", \"Host\": \"algo-1\", \"Operation\": \"training\"}, \"Metrics\": {\"update.time\": {\"sum\": 1840.3968811035156, \"count\": 1, \"min\": 1840.3968811035156, \"max\": 1840.3968811035156}}}\u001b[0m\n",
      "\u001b[34m[10/30/2023 18:34:21 INFO 139992659949376] #throughput_metric: host=algo-1, train throughput=670.9780671609485 records/second\u001b[0m\n",
      "\u001b[34m[10/30/2023 18:34:21 INFO 139992659949376] #progress_metric: host=algo-1, completed 85.0 % of epochs\u001b[0m\n",
      "\u001b[34m[10/30/2023 18:34:21 INFO 139992659949376] #quality_metric: host=algo-1, epoch=16, train loss <loss>=7.4802710056304935\u001b[0m\n",
      "\u001b[34m[10/30/2023 18:34:21 INFO 139992659949376] Epoch[17] Batch[0] avg_epoch_loss=7.423039\u001b[0m\n",
      "\u001b[34m[10/30/2023 18:34:21 INFO 139992659949376] #quality_metric: host=algo-1, epoch=17, batch=0 train loss <loss>=7.423038959503174\u001b[0m\n",
      "\u001b[34m[10/30/2023 18:34:22 INFO 139992659949376] Epoch[17] Batch[5] avg_epoch_loss=7.431349\u001b[0m\n",
      "\u001b[34m[10/30/2023 18:34:22 INFO 139992659949376] #quality_metric: host=algo-1, epoch=17, batch=5 train loss <loss>=7.431349118550618\u001b[0m\n",
      "\u001b[34m[10/30/2023 18:34:22 INFO 139992659949376] Epoch[17] Batch [5]#011Speed: 923.44 samples/sec#011loss=7.431349\u001b[0m\n",
      "\u001b[34m[10/30/2023 18:34:23 INFO 139992659949376] processed a total of 1279 examples\u001b[0m\n",
      "\u001b[34m#metrics {\"StartTime\": 1698690861.2611756, \"EndTime\": 1698690863.0739138, \"Dimensions\": {\"Algorithm\": \"AWS/DeepAR\", \"Host\": \"algo-1\", \"Operation\": \"training\"}, \"Metrics\": {\"update.time\": {\"sum\": 1812.1967315673828, \"count\": 1, \"min\": 1812.1967315673828, \"max\": 1812.1967315673828}}}\u001b[0m\n",
      "\u001b[34m[10/30/2023 18:34:23 INFO 139992659949376] #throughput_metric: host=algo-1, train throughput=705.734730511902 records/second\u001b[0m\n",
      "\u001b[34m[10/30/2023 18:34:23 INFO 139992659949376] #progress_metric: host=algo-1, completed 90.0 % of epochs\u001b[0m\n",
      "\u001b[34m[10/30/2023 18:34:23 INFO 139992659949376] #quality_metric: host=algo-1, epoch=17, train loss <loss>=7.416089487075806\u001b[0m\n",
      "\u001b[34m[10/30/2023 18:34:23 INFO 139992659949376] Epoch[18] Batch[0] avg_epoch_loss=7.488653\u001b[0m\n",
      "\u001b[34m[10/30/2023 18:34:23 INFO 139992659949376] #quality_metric: host=algo-1, epoch=18, batch=0 train loss <loss>=7.488653182983398\u001b[0m\n",
      "\u001b[34m[10/30/2023 18:34:24 INFO 139992659949376] Epoch[18] Batch[5] avg_epoch_loss=7.478311\u001b[0m\n",
      "\u001b[34m[10/30/2023 18:34:24 INFO 139992659949376] #quality_metric: host=algo-1, epoch=18, batch=5 train loss <loss>=7.47831114133199\u001b[0m\n",
      "\u001b[34m[10/30/2023 18:34:24 INFO 139992659949376] Epoch[18] Batch [5]#011Speed: 929.69 samples/sec#011loss=7.478311\u001b[0m\n",
      "\u001b[34m[10/30/2023 18:34:24 INFO 139992659949376] processed a total of 1255 examples\u001b[0m\n",
      "\u001b[34m#metrics {\"StartTime\": 1698690863.0739787, \"EndTime\": 1698690864.8824623, \"Dimensions\": {\"Algorithm\": \"AWS/DeepAR\", \"Host\": \"algo-1\", \"Operation\": \"training\"}, \"Metrics\": {\"update.time\": {\"sum\": 1808.0976009368896, \"count\": 1, \"min\": 1808.0976009368896, \"max\": 1808.0976009368896}}}\u001b[0m\n",
      "\u001b[34m[10/30/2023 18:34:24 INFO 139992659949376] #throughput_metric: host=algo-1, train throughput=694.0535731120492 records/second\u001b[0m\n",
      "\u001b[34m[10/30/2023 18:34:24 INFO 139992659949376] #progress_metric: host=algo-1, completed 95.0 % of epochs\u001b[0m\n",
      "\u001b[34m[10/30/2023 18:34:24 INFO 139992659949376] #quality_metric: host=algo-1, epoch=18, train loss <loss>=7.431514596939087\u001b[0m\n",
      "\u001b[34m[10/30/2023 18:34:25 INFO 139992659949376] Epoch[19] Batch[0] avg_epoch_loss=7.463773\u001b[0m\n",
      "\u001b[34m[10/30/2023 18:34:25 INFO 139992659949376] #quality_metric: host=algo-1, epoch=19, batch=0 train loss <loss>=7.463773250579834\u001b[0m\n",
      "\u001b[34m[10/30/2023 18:34:26 INFO 139992659949376] Epoch[19] Batch[5] avg_epoch_loss=7.472137\u001b[0m\n",
      "\u001b[34m[10/30/2023 18:34:26 INFO 139992659949376] #quality_metric: host=algo-1, epoch=19, batch=5 train loss <loss>=7.472136576970418\u001b[0m\n",
      "\u001b[34m[10/30/2023 18:34:26 INFO 139992659949376] Epoch[19] Batch [5]#011Speed: 917.42 samples/sec#011loss=7.472137\u001b[0m\n",
      "\u001b[34m[10/30/2023 18:34:26 INFO 139992659949376] Epoch[19] Batch[10] avg_epoch_loss=7.441207\u001b[0m\n",
      "\u001b[34m[10/30/2023 18:34:26 INFO 139992659949376] #quality_metric: host=algo-1, epoch=19, batch=10 train loss <loss>=7.404090499877929\u001b[0m\n",
      "\u001b[34m[10/30/2023 18:34:26 INFO 139992659949376] Epoch[19] Batch [10]#011Speed: 903.15 samples/sec#011loss=7.404090\u001b[0m\n",
      "\u001b[34m[10/30/2023 18:34:26 INFO 139992659949376] processed a total of 1295 examples\u001b[0m\n",
      "\u001b[34m#metrics {\"StartTime\": 1698690864.8825498, \"EndTime\": 1698690866.8381705, \"Dimensions\": {\"Algorithm\": \"AWS/DeepAR\", \"Host\": \"algo-1\", \"Operation\": \"training\"}, \"Metrics\": {\"update.time\": {\"sum\": 1955.1620483398438, \"count\": 1, \"min\": 1955.1620483398438, \"max\": 1955.1620483398438}}}\u001b[0m\n",
      "\u001b[34m[10/30/2023 18:34:26 INFO 139992659949376] #throughput_metric: host=algo-1, train throughput=662.311635068319 records/second\u001b[0m\n",
      "\u001b[34m[10/30/2023 18:34:26 INFO 139992659949376] #progress_metric: host=algo-1, completed 100.0 % of epochs\u001b[0m\n",
      "\u001b[34m[10/30/2023 18:34:26 INFO 139992659949376] #quality_metric: host=algo-1, epoch=19, train loss <loss>=7.441206541928378\u001b[0m\n",
      "\u001b[34m[10/30/2023 18:34:26 INFO 139992659949376] Final loss: 7.441206541928378 (occurred at epoch 19)\u001b[0m\n",
      "\u001b[34m[10/30/2023 18:34:26 INFO 139992659949376] #quality_metric: host=algo-1, train final_loss <loss>=7.441206541928378\u001b[0m\n",
      "\u001b[34m[10/30/2023 18:34:26 INFO 139992659949376] Worker algo-1 finished training.\u001b[0m\n",
      "\u001b[34m[10/30/2023 18:34:26 WARNING 139992659949376] wait_for_all_workers will not sync workers since the kv store is not running distributed\u001b[0m\n",
      "\u001b[34m[10/30/2023 18:34:26 INFO 139992659949376] All workers finished. Serializing model for prediction.\u001b[0m\n",
      "\u001b[34m#metrics {\"StartTime\": 1698690866.8382344, \"EndTime\": 1698690867.0351462, \"Dimensions\": {\"Algorithm\": \"AWS/DeepAR\", \"Host\": \"algo-1\", \"Operation\": \"training\"}, \"Metrics\": {\"get_graph.time\": {\"sum\": 196.13027572631836, \"count\": 1, \"min\": 196.13027572631836, \"max\": 196.13027572631836}}}\u001b[0m\n",
      "\u001b[34m[10/30/2023 18:34:27 INFO 139992659949376] Number of GPUs being used: 0\u001b[0m\n",
      "\u001b[34m#metrics {\"StartTime\": 1698690867.0352097, \"EndTime\": 1698690867.1095383, \"Dimensions\": {\"Algorithm\": \"AWS/DeepAR\", \"Host\": \"algo-1\", \"Operation\": \"training\"}, \"Metrics\": {\"finalize.time\": {\"sum\": 270.55811882019043, \"count\": 1, \"min\": 270.55811882019043, \"max\": 270.55811882019043}}}\u001b[0m\n",
      "\u001b[34m[10/30/2023 18:34:27 INFO 139992659949376] Serializing to /opt/ml/model/model_algo-1\u001b[0m\n",
      "\u001b[34m[10/30/2023 18:34:27 INFO 139992659949376] Saved checkpoint to \"/opt/ml/model/model_algo-1-0000.params\"\u001b[0m\n",
      "\u001b[34m#metrics {\"StartTime\": 1698690867.1095948, \"EndTime\": 1698690867.1199617, \"Dimensions\": {\"Algorithm\": \"AWS/DeepAR\", \"Host\": \"algo-1\", \"Operation\": \"training\"}, \"Metrics\": {\"model.serialize.time\": {\"sum\": 10.32257080078125, \"count\": 1, \"min\": 10.32257080078125, \"max\": 10.32257080078125}}}\u001b[0m\n",
      "\u001b[34m[10/30/2023 18:34:27 INFO 139992659949376] Successfully serialized the model for prediction.\u001b[0m\n",
      "\u001b[34m[10/30/2023 18:34:27 INFO 139992659949376] #memory_usage::<batchbuffer> = 16.4599609375 mb\u001b[0m\n",
      "\u001b[34m[10/30/2023 18:34:27 INFO 139992659949376] Evaluating model accuracy on testset using 100 samples\u001b[0m\n",
      "\u001b[34m#metrics {\"StartTime\": 1698690867.1200075, \"EndTime\": 1698690867.12523, \"Dimensions\": {\"Algorithm\": \"AWS/DeepAR\", \"Host\": \"algo-1\", \"Operation\": \"training\"}, \"Metrics\": {\"model.bind.time\": {\"sum\": 0.03552436828613281, \"count\": 1, \"min\": 0.03552436828613281, \"max\": 0.03552436828613281}}}\u001b[0m\n",
      "\u001b[34m#metrics {\"StartTime\": 1698690867.1252828, \"EndTime\": 1698690870.3905325, \"Dimensions\": {\"Algorithm\": \"AWS/DeepAR\", \"Host\": \"algo-1\", \"Operation\": \"training\"}, \"Metrics\": {\"model.score.time\": {\"sum\": 3265.3415203094482, \"count\": 1, \"min\": 3265.3415203094482, \"max\": 3265.3415203094482}}}\u001b[0m\n",
      "\u001b[34m[10/30/2023 18:34:30 INFO 139992659949376] #test_score (algo-1, RMSE): 982.924819098592\u001b[0m\n",
      "\u001b[34m[10/30/2023 18:34:30 INFO 139992659949376] #test_score (algo-1, mean_absolute_QuantileLoss): 15215.851739756265\u001b[0m\n",
      "\u001b[34m[10/30/2023 18:34:30 INFO 139992659949376] #test_score (algo-1, mean_wQuantileLoss): 0.1537311874451263\u001b[0m\n",
      "\u001b[34m[10/30/2023 18:34:30 INFO 139992659949376] #test_score (algo-1, wQuantileLoss[0.1]): 0.11061430355603007\u001b[0m\n",
      "\u001b[34m[10/30/2023 18:34:30 INFO 139992659949376] #test_score (algo-1, wQuantileLoss[0.2]): 0.14991785439842065\u001b[0m\n",
      "\u001b[34m[10/30/2023 18:34:30 INFO 139992659949376] #test_score (algo-1, wQuantileLoss[0.3]): 0.16855144758766089\u001b[0m\n",
      "\u001b[34m[10/30/2023 18:34:30 INFO 139992659949376] #test_score (algo-1, wQuantileLoss[0.4]): 0.1791244676764307\u001b[0m\n",
      "\u001b[34m[10/30/2023 18:34:30 INFO 139992659949376] #test_score (algo-1, wQuantileLoss[0.5]): 0.1773297111301335\u001b[0m\n",
      "\u001b[34m[10/30/2023 18:34:30 INFO 139992659949376] #test_score (algo-1, wQuantileLoss[0.6]): 0.18163337314784195\u001b[0m\n",
      "\u001b[34m[10/30/2023 18:34:30 INFO 139992659949376] #test_score (algo-1, wQuantileLoss[0.7]): 0.16971188171020424\u001b[0m\n",
      "\u001b[34m[10/30/2023 18:34:30 INFO 139992659949376] #test_score (algo-1, wQuantileLoss[0.8]): 0.14185966090022312\u001b[0m\n",
      "\u001b[34m[10/30/2023 18:34:30 INFO 139992659949376] #test_score (algo-1, wQuantileLoss[0.9]): 0.10483798689919158\u001b[0m\n",
      "\u001b[34m[10/30/2023 18:34:30 INFO 139992659949376] #quality_metric: host=algo-1, test RMSE <loss>=982.924819098592\u001b[0m\n",
      "\u001b[34m[10/30/2023 18:34:30 INFO 139992659949376] #quality_metric: host=algo-1, test mean_wQuantileLoss <loss>=0.1537311874451263\u001b[0m\n",
      "\u001b[34m#metrics {\"StartTime\": 1698690870.3906024, \"EndTime\": 1698690870.4084783, \"Dimensions\": {\"Algorithm\": \"AWS/DeepAR\", \"Host\": \"algo-1\", \"Operation\": \"training\"}, \"Metrics\": {\"setuptime\": {\"sum\": 5.350589752197266, \"count\": 1, \"min\": 5.350589752197266, \"max\": 5.350589752197266}, \"totaltime\": {\"sum\": 42756.24370574951, \"count\": 1, \"min\": 42756.24370574951, \"max\": 42756.24370574951}}}\u001b[0m\n",
      "\n",
      "2023-10-30 18:34:51 Uploading - Uploading generated training model\n",
      "2023-10-30 18:34:51 Completed - Training job completed\n",
      "Training seconds: 173\n",
      "Billable seconds: 51\n",
      "Managed Spot Training savings: 70.5%\n"
     ]
    }
   ],
   "source": [
    "deepar.fit(inputs=data_channels)"
   ]
  }
 ],
 "metadata": {
  "availableInstances": [
   {
    "_defaultOrder": 0,
    "_isFastLaunch": true,
    "category": "General purpose",
    "gpuNum": 0,
    "hideHardwareSpecs": false,
    "memoryGiB": 4,
    "name": "ml.t3.medium",
    "vcpuNum": 2
   },
   {
    "_defaultOrder": 1,
    "_isFastLaunch": false,
    "category": "General purpose",
    "gpuNum": 0,
    "hideHardwareSpecs": false,
    "memoryGiB": 8,
    "name": "ml.t3.large",
    "vcpuNum": 2
   },
   {
    "_defaultOrder": 2,
    "_isFastLaunch": false,
    "category": "General purpose",
    "gpuNum": 0,
    "hideHardwareSpecs": false,
    "memoryGiB": 16,
    "name": "ml.t3.xlarge",
    "vcpuNum": 4
   },
   {
    "_defaultOrder": 3,
    "_isFastLaunch": false,
    "category": "General purpose",
    "gpuNum": 0,
    "hideHardwareSpecs": false,
    "memoryGiB": 32,
    "name": "ml.t3.2xlarge",
    "vcpuNum": 8
   },
   {
    "_defaultOrder": 4,
    "_isFastLaunch": true,
    "category": "General purpose",
    "gpuNum": 0,
    "hideHardwareSpecs": false,
    "memoryGiB": 8,
    "name": "ml.m5.large",
    "vcpuNum": 2
   },
   {
    "_defaultOrder": 5,
    "_isFastLaunch": false,
    "category": "General purpose",
    "gpuNum": 0,
    "hideHardwareSpecs": false,
    "memoryGiB": 16,
    "name": "ml.m5.xlarge",
    "vcpuNum": 4
   },
   {
    "_defaultOrder": 6,
    "_isFastLaunch": false,
    "category": "General purpose",
    "gpuNum": 0,
    "hideHardwareSpecs": false,
    "memoryGiB": 32,
    "name": "ml.m5.2xlarge",
    "vcpuNum": 8
   },
   {
    "_defaultOrder": 7,
    "_isFastLaunch": false,
    "category": "General purpose",
    "gpuNum": 0,
    "hideHardwareSpecs": false,
    "memoryGiB": 64,
    "name": "ml.m5.4xlarge",
    "vcpuNum": 16
   },
   {
    "_defaultOrder": 8,
    "_isFastLaunch": false,
    "category": "General purpose",
    "gpuNum": 0,
    "hideHardwareSpecs": false,
    "memoryGiB": 128,
    "name": "ml.m5.8xlarge",
    "vcpuNum": 32
   },
   {
    "_defaultOrder": 9,
    "_isFastLaunch": false,
    "category": "General purpose",
    "gpuNum": 0,
    "hideHardwareSpecs": false,
    "memoryGiB": 192,
    "name": "ml.m5.12xlarge",
    "vcpuNum": 48
   },
   {
    "_defaultOrder": 10,
    "_isFastLaunch": false,
    "category": "General purpose",
    "gpuNum": 0,
    "hideHardwareSpecs": false,
    "memoryGiB": 256,
    "name": "ml.m5.16xlarge",
    "vcpuNum": 64
   },
   {
    "_defaultOrder": 11,
    "_isFastLaunch": false,
    "category": "General purpose",
    "gpuNum": 0,
    "hideHardwareSpecs": false,
    "memoryGiB": 384,
    "name": "ml.m5.24xlarge",
    "vcpuNum": 96
   },
   {
    "_defaultOrder": 12,
    "_isFastLaunch": false,
    "category": "General purpose",
    "gpuNum": 0,
    "hideHardwareSpecs": false,
    "memoryGiB": 8,
    "name": "ml.m5d.large",
    "vcpuNum": 2
   },
   {
    "_defaultOrder": 13,
    "_isFastLaunch": false,
    "category": "General purpose",
    "gpuNum": 0,
    "hideHardwareSpecs": false,
    "memoryGiB": 16,
    "name": "ml.m5d.xlarge",
    "vcpuNum": 4
   },
   {
    "_defaultOrder": 14,
    "_isFastLaunch": false,
    "category": "General purpose",
    "gpuNum": 0,
    "hideHardwareSpecs": false,
    "memoryGiB": 32,
    "name": "ml.m5d.2xlarge",
    "vcpuNum": 8
   },
   {
    "_defaultOrder": 15,
    "_isFastLaunch": false,
    "category": "General purpose",
    "gpuNum": 0,
    "hideHardwareSpecs": false,
    "memoryGiB": 64,
    "name": "ml.m5d.4xlarge",
    "vcpuNum": 16
   },
   {
    "_defaultOrder": 16,
    "_isFastLaunch": false,
    "category": "General purpose",
    "gpuNum": 0,
    "hideHardwareSpecs": false,
    "memoryGiB": 128,
    "name": "ml.m5d.8xlarge",
    "vcpuNum": 32
   },
   {
    "_defaultOrder": 17,
    "_isFastLaunch": false,
    "category": "General purpose",
    "gpuNum": 0,
    "hideHardwareSpecs": false,
    "memoryGiB": 192,
    "name": "ml.m5d.12xlarge",
    "vcpuNum": 48
   },
   {
    "_defaultOrder": 18,
    "_isFastLaunch": false,
    "category": "General purpose",
    "gpuNum": 0,
    "hideHardwareSpecs": false,
    "memoryGiB": 256,
    "name": "ml.m5d.16xlarge",
    "vcpuNum": 64
   },
   {
    "_defaultOrder": 19,
    "_isFastLaunch": false,
    "category": "General purpose",
    "gpuNum": 0,
    "hideHardwareSpecs": false,
    "memoryGiB": 384,
    "name": "ml.m5d.24xlarge",
    "vcpuNum": 96
   },
   {
    "_defaultOrder": 20,
    "_isFastLaunch": false,
    "category": "General purpose",
    "gpuNum": 0,
    "hideHardwareSpecs": true,
    "memoryGiB": 0,
    "name": "ml.geospatial.interactive",
    "supportedImageNames": [
     "sagemaker-geospatial-v1-0"
    ],
    "vcpuNum": 0
   },
   {
    "_defaultOrder": 21,
    "_isFastLaunch": true,
    "category": "Compute optimized",
    "gpuNum": 0,
    "hideHardwareSpecs": false,
    "memoryGiB": 4,
    "name": "ml.c5.large",
    "vcpuNum": 2
   },
   {
    "_defaultOrder": 22,
    "_isFastLaunch": false,
    "category": "Compute optimized",
    "gpuNum": 0,
    "hideHardwareSpecs": false,
    "memoryGiB": 8,
    "name": "ml.c5.xlarge",
    "vcpuNum": 4
   },
   {
    "_defaultOrder": 23,
    "_isFastLaunch": false,
    "category": "Compute optimized",
    "gpuNum": 0,
    "hideHardwareSpecs": false,
    "memoryGiB": 16,
    "name": "ml.c5.2xlarge",
    "vcpuNum": 8
   },
   {
    "_defaultOrder": 24,
    "_isFastLaunch": false,
    "category": "Compute optimized",
    "gpuNum": 0,
    "hideHardwareSpecs": false,
    "memoryGiB": 32,
    "name": "ml.c5.4xlarge",
    "vcpuNum": 16
   },
   {
    "_defaultOrder": 25,
    "_isFastLaunch": false,
    "category": "Compute optimized",
    "gpuNum": 0,
    "hideHardwareSpecs": false,
    "memoryGiB": 72,
    "name": "ml.c5.9xlarge",
    "vcpuNum": 36
   },
   {
    "_defaultOrder": 26,
    "_isFastLaunch": false,
    "category": "Compute optimized",
    "gpuNum": 0,
    "hideHardwareSpecs": false,
    "memoryGiB": 96,
    "name": "ml.c5.12xlarge",
    "vcpuNum": 48
   },
   {
    "_defaultOrder": 27,
    "_isFastLaunch": false,
    "category": "Compute optimized",
    "gpuNum": 0,
    "hideHardwareSpecs": false,
    "memoryGiB": 144,
    "name": "ml.c5.18xlarge",
    "vcpuNum": 72
   },
   {
    "_defaultOrder": 28,
    "_isFastLaunch": false,
    "category": "Compute optimized",
    "gpuNum": 0,
    "hideHardwareSpecs": false,
    "memoryGiB": 192,
    "name": "ml.c5.24xlarge",
    "vcpuNum": 96
   },
   {
    "_defaultOrder": 29,
    "_isFastLaunch": true,
    "category": "Accelerated computing",
    "gpuNum": 1,
    "hideHardwareSpecs": false,
    "memoryGiB": 16,
    "name": "ml.g4dn.xlarge",
    "vcpuNum": 4
   },
   {
    "_defaultOrder": 30,
    "_isFastLaunch": false,
    "category": "Accelerated computing",
    "gpuNum": 1,
    "hideHardwareSpecs": false,
    "memoryGiB": 32,
    "name": "ml.g4dn.2xlarge",
    "vcpuNum": 8
   },
   {
    "_defaultOrder": 31,
    "_isFastLaunch": false,
    "category": "Accelerated computing",
    "gpuNum": 1,
    "hideHardwareSpecs": false,
    "memoryGiB": 64,
    "name": "ml.g4dn.4xlarge",
    "vcpuNum": 16
   },
   {
    "_defaultOrder": 32,
    "_isFastLaunch": false,
    "category": "Accelerated computing",
    "gpuNum": 1,
    "hideHardwareSpecs": false,
    "memoryGiB": 128,
    "name": "ml.g4dn.8xlarge",
    "vcpuNum": 32
   },
   {
    "_defaultOrder": 33,
    "_isFastLaunch": false,
    "category": "Accelerated computing",
    "gpuNum": 4,
    "hideHardwareSpecs": false,
    "memoryGiB": 192,
    "name": "ml.g4dn.12xlarge",
    "vcpuNum": 48
   },
   {
    "_defaultOrder": 34,
    "_isFastLaunch": false,
    "category": "Accelerated computing",
    "gpuNum": 1,
    "hideHardwareSpecs": false,
    "memoryGiB": 256,
    "name": "ml.g4dn.16xlarge",
    "vcpuNum": 64
   },
   {
    "_defaultOrder": 35,
    "_isFastLaunch": false,
    "category": "Accelerated computing",
    "gpuNum": 1,
    "hideHardwareSpecs": false,
    "memoryGiB": 61,
    "name": "ml.p3.2xlarge",
    "vcpuNum": 8
   },
   {
    "_defaultOrder": 36,
    "_isFastLaunch": false,
    "category": "Accelerated computing",
    "gpuNum": 4,
    "hideHardwareSpecs": false,
    "memoryGiB": 244,
    "name": "ml.p3.8xlarge",
    "vcpuNum": 32
   },
   {
    "_defaultOrder": 37,
    "_isFastLaunch": false,
    "category": "Accelerated computing",
    "gpuNum": 8,
    "hideHardwareSpecs": false,
    "memoryGiB": 488,
    "name": "ml.p3.16xlarge",
    "vcpuNum": 64
   },
   {
    "_defaultOrder": 38,
    "_isFastLaunch": false,
    "category": "Accelerated computing",
    "gpuNum": 8,
    "hideHardwareSpecs": false,
    "memoryGiB": 768,
    "name": "ml.p3dn.24xlarge",
    "vcpuNum": 96
   },
   {
    "_defaultOrder": 39,
    "_isFastLaunch": false,
    "category": "Memory Optimized",
    "gpuNum": 0,
    "hideHardwareSpecs": false,
    "memoryGiB": 16,
    "name": "ml.r5.large",
    "vcpuNum": 2
   },
   {
    "_defaultOrder": 40,
    "_isFastLaunch": false,
    "category": "Memory Optimized",
    "gpuNum": 0,
    "hideHardwareSpecs": false,
    "memoryGiB": 32,
    "name": "ml.r5.xlarge",
    "vcpuNum": 4
   },
   {
    "_defaultOrder": 41,
    "_isFastLaunch": false,
    "category": "Memory Optimized",
    "gpuNum": 0,
    "hideHardwareSpecs": false,
    "memoryGiB": 64,
    "name": "ml.r5.2xlarge",
    "vcpuNum": 8
   },
   {
    "_defaultOrder": 42,
    "_isFastLaunch": false,
    "category": "Memory Optimized",
    "gpuNum": 0,
    "hideHardwareSpecs": false,
    "memoryGiB": 128,
    "name": "ml.r5.4xlarge",
    "vcpuNum": 16
   },
   {
    "_defaultOrder": 43,
    "_isFastLaunch": false,
    "category": "Memory Optimized",
    "gpuNum": 0,
    "hideHardwareSpecs": false,
    "memoryGiB": 256,
    "name": "ml.r5.8xlarge",
    "vcpuNum": 32
   },
   {
    "_defaultOrder": 44,
    "_isFastLaunch": false,
    "category": "Memory Optimized",
    "gpuNum": 0,
    "hideHardwareSpecs": false,
    "memoryGiB": 384,
    "name": "ml.r5.12xlarge",
    "vcpuNum": 48
   },
   {
    "_defaultOrder": 45,
    "_isFastLaunch": false,
    "category": "Memory Optimized",
    "gpuNum": 0,
    "hideHardwareSpecs": false,
    "memoryGiB": 512,
    "name": "ml.r5.16xlarge",
    "vcpuNum": 64
   },
   {
    "_defaultOrder": 46,
    "_isFastLaunch": false,
    "category": "Memory Optimized",
    "gpuNum": 0,
    "hideHardwareSpecs": false,
    "memoryGiB": 768,
    "name": "ml.r5.24xlarge",
    "vcpuNum": 96
   },
   {
    "_defaultOrder": 47,
    "_isFastLaunch": false,
    "category": "Accelerated computing",
    "gpuNum": 1,
    "hideHardwareSpecs": false,
    "memoryGiB": 16,
    "name": "ml.g5.xlarge",
    "vcpuNum": 4
   },
   {
    "_defaultOrder": 48,
    "_isFastLaunch": false,
    "category": "Accelerated computing",
    "gpuNum": 1,
    "hideHardwareSpecs": false,
    "memoryGiB": 32,
    "name": "ml.g5.2xlarge",
    "vcpuNum": 8
   },
   {
    "_defaultOrder": 49,
    "_isFastLaunch": false,
    "category": "Accelerated computing",
    "gpuNum": 1,
    "hideHardwareSpecs": false,
    "memoryGiB": 64,
    "name": "ml.g5.4xlarge",
    "vcpuNum": 16
   },
   {
    "_defaultOrder": 50,
    "_isFastLaunch": false,
    "category": "Accelerated computing",
    "gpuNum": 1,
    "hideHardwareSpecs": false,
    "memoryGiB": 128,
    "name": "ml.g5.8xlarge",
    "vcpuNum": 32
   },
   {
    "_defaultOrder": 51,
    "_isFastLaunch": false,
    "category": "Accelerated computing",
    "gpuNum": 1,
    "hideHardwareSpecs": false,
    "memoryGiB": 256,
    "name": "ml.g5.16xlarge",
    "vcpuNum": 64
   },
   {
    "_defaultOrder": 52,
    "_isFastLaunch": false,
    "category": "Accelerated computing",
    "gpuNum": 4,
    "hideHardwareSpecs": false,
    "memoryGiB": 192,
    "name": "ml.g5.12xlarge",
    "vcpuNum": 48
   },
   {
    "_defaultOrder": 53,
    "_isFastLaunch": false,
    "category": "Accelerated computing",
    "gpuNum": 4,
    "hideHardwareSpecs": false,
    "memoryGiB": 384,
    "name": "ml.g5.24xlarge",
    "vcpuNum": 96
   },
   {
    "_defaultOrder": 54,
    "_isFastLaunch": false,
    "category": "Accelerated computing",
    "gpuNum": 8,
    "hideHardwareSpecs": false,
    "memoryGiB": 768,
    "name": "ml.g5.48xlarge",
    "vcpuNum": 192
   },
   {
    "_defaultOrder": 55,
    "_isFastLaunch": false,
    "category": "Accelerated computing",
    "gpuNum": 8,
    "hideHardwareSpecs": false,
    "memoryGiB": 1152,
    "name": "ml.p4d.24xlarge",
    "vcpuNum": 96
   },
   {
    "_defaultOrder": 56,
    "_isFastLaunch": false,
    "category": "Accelerated computing",
    "gpuNum": 8,
    "hideHardwareSpecs": false,
    "memoryGiB": 1152,
    "name": "ml.p4de.24xlarge",
    "vcpuNum": 96
   }
  ],
  "instance_type": "ml.t3.medium",
  "kernelspec": {
   "display_name": "Python 3 (Data Science)",
   "language": "python",
   "name": "python3__SAGEMAKER_INTERNAL__arn:aws:sagemaker:sa-east-1:782484402741:image/datascience-1.0"
  },
  "language_info": {
   "codemirror_mode": {
    "name": "ipython",
    "version": 3
   },
   "file_extension": ".py",
   "mimetype": "text/x-python",
   "name": "python",
   "nbconvert_exporter": "python",
   "pygments_lexer": "ipython3",
   "version": "3.7.10"
  }
 },
 "nbformat": 4,
 "nbformat_minor": 5
}
