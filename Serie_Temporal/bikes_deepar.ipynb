{
 "cells": [
  {
   "cell_type": "markdown",
   "id": "ab296eab-2af5-4e24-b685-0c5bc24849fe",
   "metadata": {},
   "source": [
    "# **Séries Temporais com DeepAR**"
   ]
  },
  {
   "cell_type": "markdown",
   "id": "accfd02b-d68e-4962-ad32-1a8197625e9c",
   "metadata": {},
   "source": [
    "## Tratamento da Base de Dados"
   ]
  },
  {
   "cell_type": "code",
   "execution_count": 2,
   "id": "92644422-77d8-4d96-b581-942199b9d422",
   "metadata": {
    "tags": []
   },
   "outputs": [],
   "source": [
    "import pandas as pd\n",
    "import numpy as np\n",
    "import datetime\n",
    "import matplotlib.pyplot as plt\n",
    "%matplotlib inline\n",
    "import json\n",
    "import os\n",
    "from sklearn.metrics import mean_absolute_error, mean_squared_error"
   ]
  },
  {
   "cell_type": "code",
   "execution_count": 3,
   "id": "3764ad9c-dab7-410a-b6b3-b4148d8e60d5",
   "metadata": {
    "tags": []
   },
   "outputs": [
    {
     "data": {
      "text/html": [
       "<div>\n",
       "<style scoped>\n",
       "    .dataframe tbody tr th:only-of-type {\n",
       "        vertical-align: middle;\n",
       "    }\n",
       "\n",
       "    .dataframe tbody tr th {\n",
       "        vertical-align: top;\n",
       "    }\n",
       "\n",
       "    .dataframe thead th {\n",
       "        text-align: right;\n",
       "    }\n",
       "</style>\n",
       "<table border=\"1\" class=\"dataframe\">\n",
       "  <thead>\n",
       "    <tr style=\"text-align: right;\">\n",
       "      <th></th>\n",
       "      <th>datetime</th>\n",
       "      <th>season</th>\n",
       "      <th>holiday</th>\n",
       "      <th>workingday</th>\n",
       "      <th>weather</th>\n",
       "      <th>temp</th>\n",
       "      <th>atemp</th>\n",
       "      <th>humidity</th>\n",
       "      <th>windspeed</th>\n",
       "      <th>casual</th>\n",
       "      <th>registered</th>\n",
       "      <th>count</th>\n",
       "    </tr>\n",
       "  </thead>\n",
       "  <tbody>\n",
       "    <tr>\n",
       "      <th>0</th>\n",
       "      <td>2011-01-01 00:00:00</td>\n",
       "      <td>1</td>\n",
       "      <td>0</td>\n",
       "      <td>0</td>\n",
       "      <td>1</td>\n",
       "      <td>9.84</td>\n",
       "      <td>14.395</td>\n",
       "      <td>81</td>\n",
       "      <td>0.0</td>\n",
       "      <td>3</td>\n",
       "      <td>13</td>\n",
       "      <td>16</td>\n",
       "    </tr>\n",
       "    <tr>\n",
       "      <th>1</th>\n",
       "      <td>2011-01-01 01:00:00</td>\n",
       "      <td>1</td>\n",
       "      <td>0</td>\n",
       "      <td>0</td>\n",
       "      <td>1</td>\n",
       "      <td>9.02</td>\n",
       "      <td>13.635</td>\n",
       "      <td>80</td>\n",
       "      <td>0.0</td>\n",
       "      <td>8</td>\n",
       "      <td>32</td>\n",
       "      <td>40</td>\n",
       "    </tr>\n",
       "    <tr>\n",
       "      <th>2</th>\n",
       "      <td>2011-01-01 02:00:00</td>\n",
       "      <td>1</td>\n",
       "      <td>0</td>\n",
       "      <td>0</td>\n",
       "      <td>1</td>\n",
       "      <td>9.02</td>\n",
       "      <td>13.635</td>\n",
       "      <td>80</td>\n",
       "      <td>0.0</td>\n",
       "      <td>5</td>\n",
       "      <td>27</td>\n",
       "      <td>32</td>\n",
       "    </tr>\n",
       "    <tr>\n",
       "      <th>3</th>\n",
       "      <td>2011-01-01 03:00:00</td>\n",
       "      <td>1</td>\n",
       "      <td>0</td>\n",
       "      <td>0</td>\n",
       "      <td>1</td>\n",
       "      <td>9.84</td>\n",
       "      <td>14.395</td>\n",
       "      <td>75</td>\n",
       "      <td>0.0</td>\n",
       "      <td>3</td>\n",
       "      <td>10</td>\n",
       "      <td>13</td>\n",
       "    </tr>\n",
       "    <tr>\n",
       "      <th>4</th>\n",
       "      <td>2011-01-01 04:00:00</td>\n",
       "      <td>1</td>\n",
       "      <td>0</td>\n",
       "      <td>0</td>\n",
       "      <td>1</td>\n",
       "      <td>9.84</td>\n",
       "      <td>14.395</td>\n",
       "      <td>75</td>\n",
       "      <td>0.0</td>\n",
       "      <td>0</td>\n",
       "      <td>1</td>\n",
       "      <td>1</td>\n",
       "    </tr>\n",
       "  </tbody>\n",
       "</table>\n",
       "</div>"
      ],
      "text/plain": [
       "              datetime  season  holiday  workingday  weather  temp   atemp  \\\n",
       "0  2011-01-01 00:00:00       1        0           0        1  9.84  14.395   \n",
       "1  2011-01-01 01:00:00       1        0           0        1  9.02  13.635   \n",
       "2  2011-01-01 02:00:00       1        0           0        1  9.02  13.635   \n",
       "3  2011-01-01 03:00:00       1        0           0        1  9.84  14.395   \n",
       "4  2011-01-01 04:00:00       1        0           0        1  9.84  14.395   \n",
       "\n",
       "   humidity  windspeed  casual  registered  count  \n",
       "0        81        0.0       3          13     16  \n",
       "1        80        0.0       8          32     40  \n",
       "2        80        0.0       5          27     32  \n",
       "3        75        0.0       3          10     13  \n",
       "4        75        0.0       0           1      1  "
      ]
     },
     "execution_count": 3,
     "metadata": {},
     "output_type": "execute_result"
    }
   ],
   "source": [
    "base = pd.read_csv('train.csv')\n",
    "base.head()"
   ]
  },
  {
   "cell_type": "code",
   "execution_count": 4,
   "id": "2f72e367-659d-49eb-80f1-63de1a87e6f2",
   "metadata": {
    "tags": []
   },
   "outputs": [
    {
     "data": {
      "text/html": [
       "<div>\n",
       "<style scoped>\n",
       "    .dataframe tbody tr th:only-of-type {\n",
       "        vertical-align: middle;\n",
       "    }\n",
       "\n",
       "    .dataframe tbody tr th {\n",
       "        vertical-align: top;\n",
       "    }\n",
       "\n",
       "    .dataframe thead th {\n",
       "        text-align: right;\n",
       "    }\n",
       "</style>\n",
       "<table border=\"1\" class=\"dataframe\">\n",
       "  <thead>\n",
       "    <tr style=\"text-align: right;\">\n",
       "      <th></th>\n",
       "      <th>season</th>\n",
       "      <th>holiday</th>\n",
       "      <th>workingday</th>\n",
       "      <th>weather</th>\n",
       "      <th>temp</th>\n",
       "      <th>atemp</th>\n",
       "      <th>humidity</th>\n",
       "      <th>windspeed</th>\n",
       "      <th>casual</th>\n",
       "      <th>registered</th>\n",
       "      <th>count</th>\n",
       "    </tr>\n",
       "    <tr>\n",
       "      <th>datetime</th>\n",
       "      <th></th>\n",
       "      <th></th>\n",
       "      <th></th>\n",
       "      <th></th>\n",
       "      <th></th>\n",
       "      <th></th>\n",
       "      <th></th>\n",
       "      <th></th>\n",
       "      <th></th>\n",
       "      <th></th>\n",
       "      <th></th>\n",
       "    </tr>\n",
       "  </thead>\n",
       "  <tbody>\n",
       "    <tr>\n",
       "      <th>2011-01-01 00:00:00</th>\n",
       "      <td>1</td>\n",
       "      <td>0</td>\n",
       "      <td>0</td>\n",
       "      <td>1</td>\n",
       "      <td>9.84</td>\n",
       "      <td>14.395</td>\n",
       "      <td>81</td>\n",
       "      <td>0.0000</td>\n",
       "      <td>3</td>\n",
       "      <td>13</td>\n",
       "      <td>16</td>\n",
       "    </tr>\n",
       "    <tr>\n",
       "      <th>2011-01-01 01:00:00</th>\n",
       "      <td>1</td>\n",
       "      <td>0</td>\n",
       "      <td>0</td>\n",
       "      <td>1</td>\n",
       "      <td>9.02</td>\n",
       "      <td>13.635</td>\n",
       "      <td>80</td>\n",
       "      <td>0.0000</td>\n",
       "      <td>8</td>\n",
       "      <td>32</td>\n",
       "      <td>40</td>\n",
       "    </tr>\n",
       "    <tr>\n",
       "      <th>2011-01-01 02:00:00</th>\n",
       "      <td>1</td>\n",
       "      <td>0</td>\n",
       "      <td>0</td>\n",
       "      <td>1</td>\n",
       "      <td>9.02</td>\n",
       "      <td>13.635</td>\n",
       "      <td>80</td>\n",
       "      <td>0.0000</td>\n",
       "      <td>5</td>\n",
       "      <td>27</td>\n",
       "      <td>32</td>\n",
       "    </tr>\n",
       "    <tr>\n",
       "      <th>2011-01-01 03:00:00</th>\n",
       "      <td>1</td>\n",
       "      <td>0</td>\n",
       "      <td>0</td>\n",
       "      <td>1</td>\n",
       "      <td>9.84</td>\n",
       "      <td>14.395</td>\n",
       "      <td>75</td>\n",
       "      <td>0.0000</td>\n",
       "      <td>3</td>\n",
       "      <td>10</td>\n",
       "      <td>13</td>\n",
       "    </tr>\n",
       "    <tr>\n",
       "      <th>2011-01-01 04:00:00</th>\n",
       "      <td>1</td>\n",
       "      <td>0</td>\n",
       "      <td>0</td>\n",
       "      <td>1</td>\n",
       "      <td>9.84</td>\n",
       "      <td>14.395</td>\n",
       "      <td>75</td>\n",
       "      <td>0.0000</td>\n",
       "      <td>0</td>\n",
       "      <td>1</td>\n",
       "      <td>1</td>\n",
       "    </tr>\n",
       "    <tr>\n",
       "      <th>...</th>\n",
       "      <td>...</td>\n",
       "      <td>...</td>\n",
       "      <td>...</td>\n",
       "      <td>...</td>\n",
       "      <td>...</td>\n",
       "      <td>...</td>\n",
       "      <td>...</td>\n",
       "      <td>...</td>\n",
       "      <td>...</td>\n",
       "      <td>...</td>\n",
       "      <td>...</td>\n",
       "    </tr>\n",
       "    <tr>\n",
       "      <th>2012-12-19 19:00:00</th>\n",
       "      <td>4</td>\n",
       "      <td>0</td>\n",
       "      <td>1</td>\n",
       "      <td>1</td>\n",
       "      <td>15.58</td>\n",
       "      <td>19.695</td>\n",
       "      <td>50</td>\n",
       "      <td>26.0027</td>\n",
       "      <td>7</td>\n",
       "      <td>329</td>\n",
       "      <td>336</td>\n",
       "    </tr>\n",
       "    <tr>\n",
       "      <th>2012-12-19 20:00:00</th>\n",
       "      <td>4</td>\n",
       "      <td>0</td>\n",
       "      <td>1</td>\n",
       "      <td>1</td>\n",
       "      <td>14.76</td>\n",
       "      <td>17.425</td>\n",
       "      <td>57</td>\n",
       "      <td>15.0013</td>\n",
       "      <td>10</td>\n",
       "      <td>231</td>\n",
       "      <td>241</td>\n",
       "    </tr>\n",
       "    <tr>\n",
       "      <th>2012-12-19 21:00:00</th>\n",
       "      <td>4</td>\n",
       "      <td>0</td>\n",
       "      <td>1</td>\n",
       "      <td>1</td>\n",
       "      <td>13.94</td>\n",
       "      <td>15.910</td>\n",
       "      <td>61</td>\n",
       "      <td>15.0013</td>\n",
       "      <td>4</td>\n",
       "      <td>164</td>\n",
       "      <td>168</td>\n",
       "    </tr>\n",
       "    <tr>\n",
       "      <th>2012-12-19 22:00:00</th>\n",
       "      <td>4</td>\n",
       "      <td>0</td>\n",
       "      <td>1</td>\n",
       "      <td>1</td>\n",
       "      <td>13.94</td>\n",
       "      <td>17.425</td>\n",
       "      <td>61</td>\n",
       "      <td>6.0032</td>\n",
       "      <td>12</td>\n",
       "      <td>117</td>\n",
       "      <td>129</td>\n",
       "    </tr>\n",
       "    <tr>\n",
       "      <th>2012-12-19 23:00:00</th>\n",
       "      <td>4</td>\n",
       "      <td>0</td>\n",
       "      <td>1</td>\n",
       "      <td>1</td>\n",
       "      <td>13.12</td>\n",
       "      <td>16.665</td>\n",
       "      <td>66</td>\n",
       "      <td>8.9981</td>\n",
       "      <td>4</td>\n",
       "      <td>84</td>\n",
       "      <td>88</td>\n",
       "    </tr>\n",
       "  </tbody>\n",
       "</table>\n",
       "<p>10886 rows × 11 columns</p>\n",
       "</div>"
      ],
      "text/plain": [
       "                     season  holiday  workingday  weather   temp   atemp  \\\n",
       "datetime                                                                   \n",
       "2011-01-01 00:00:00       1        0           0        1   9.84  14.395   \n",
       "2011-01-01 01:00:00       1        0           0        1   9.02  13.635   \n",
       "2011-01-01 02:00:00       1        0           0        1   9.02  13.635   \n",
       "2011-01-01 03:00:00       1        0           0        1   9.84  14.395   \n",
       "2011-01-01 04:00:00       1        0           0        1   9.84  14.395   \n",
       "...                     ...      ...         ...      ...    ...     ...   \n",
       "2012-12-19 19:00:00       4        0           1        1  15.58  19.695   \n",
       "2012-12-19 20:00:00       4        0           1        1  14.76  17.425   \n",
       "2012-12-19 21:00:00       4        0           1        1  13.94  15.910   \n",
       "2012-12-19 22:00:00       4        0           1        1  13.94  17.425   \n",
       "2012-12-19 23:00:00       4        0           1        1  13.12  16.665   \n",
       "\n",
       "                     humidity  windspeed  casual  registered  count  \n",
       "datetime                                                             \n",
       "2011-01-01 00:00:00        81     0.0000       3          13     16  \n",
       "2011-01-01 01:00:00        80     0.0000       8          32     40  \n",
       "2011-01-01 02:00:00        80     0.0000       5          27     32  \n",
       "2011-01-01 03:00:00        75     0.0000       3          10     13  \n",
       "2011-01-01 04:00:00        75     0.0000       0           1      1  \n",
       "...                       ...        ...     ...         ...    ...  \n",
       "2012-12-19 19:00:00        50    26.0027       7         329    336  \n",
       "2012-12-19 20:00:00        57    15.0013      10         231    241  \n",
       "2012-12-19 21:00:00        61    15.0013       4         164    168  \n",
       "2012-12-19 22:00:00        61     6.0032      12         117    129  \n",
       "2012-12-19 23:00:00        66     8.9981       4          84     88  \n",
       "\n",
       "[10886 rows x 11 columns]"
      ]
     },
     "execution_count": 4,
     "metadata": {},
     "output_type": "execute_result"
    }
   ],
   "source": [
    "base = pd.read_csv('train.csv', parse_dates=['datetime'], index_col=0)\n",
    "base"
   ]
  },
  {
   "cell_type": "code",
   "execution_count": 5,
   "id": "a2b9ad8a-56e9-4bf3-93cd-dfd619e73c5e",
   "metadata": {
    "tags": []
   },
   "outputs": [
    {
     "data": {
      "text/html": [
       "<div>\n",
       "<style scoped>\n",
       "    .dataframe tbody tr th:only-of-type {\n",
       "        vertical-align: middle;\n",
       "    }\n",
       "\n",
       "    .dataframe tbody tr th {\n",
       "        vertical-align: top;\n",
       "    }\n",
       "\n",
       "    .dataframe thead th {\n",
       "        text-align: right;\n",
       "    }\n",
       "</style>\n",
       "<table border=\"1\" class=\"dataframe\">\n",
       "  <thead>\n",
       "    <tr style=\"text-align: right;\">\n",
       "      <th></th>\n",
       "      <th>count</th>\n",
       "    </tr>\n",
       "    <tr>\n",
       "      <th>datetime</th>\n",
       "      <th></th>\n",
       "    </tr>\n",
       "  </thead>\n",
       "  <tbody>\n",
       "    <tr>\n",
       "      <th>2011-01-01 00:00:00</th>\n",
       "      <td>16</td>\n",
       "    </tr>\n",
       "    <tr>\n",
       "      <th>2011-01-01 01:00:00</th>\n",
       "      <td>40</td>\n",
       "    </tr>\n",
       "    <tr>\n",
       "      <th>2011-01-01 02:00:00</th>\n",
       "      <td>32</td>\n",
       "    </tr>\n",
       "    <tr>\n",
       "      <th>2011-01-01 03:00:00</th>\n",
       "      <td>13</td>\n",
       "    </tr>\n",
       "    <tr>\n",
       "      <th>2011-01-01 04:00:00</th>\n",
       "      <td>1</td>\n",
       "    </tr>\n",
       "    <tr>\n",
       "      <th>...</th>\n",
       "      <td>...</td>\n",
       "    </tr>\n",
       "    <tr>\n",
       "      <th>2012-12-19 19:00:00</th>\n",
       "      <td>336</td>\n",
       "    </tr>\n",
       "    <tr>\n",
       "      <th>2012-12-19 20:00:00</th>\n",
       "      <td>241</td>\n",
       "    </tr>\n",
       "    <tr>\n",
       "      <th>2012-12-19 21:00:00</th>\n",
       "      <td>168</td>\n",
       "    </tr>\n",
       "    <tr>\n",
       "      <th>2012-12-19 22:00:00</th>\n",
       "      <td>129</td>\n",
       "    </tr>\n",
       "    <tr>\n",
       "      <th>2012-12-19 23:00:00</th>\n",
       "      <td>88</td>\n",
       "    </tr>\n",
       "  </tbody>\n",
       "</table>\n",
       "<p>10886 rows × 1 columns</p>\n",
       "</div>"
      ],
      "text/plain": [
       "                     count\n",
       "datetime                  \n",
       "2011-01-01 00:00:00     16\n",
       "2011-01-01 01:00:00     40\n",
       "2011-01-01 02:00:00     32\n",
       "2011-01-01 03:00:00     13\n",
       "2011-01-01 04:00:00      1\n",
       "...                    ...\n",
       "2012-12-19 19:00:00    336\n",
       "2012-12-19 20:00:00    241\n",
       "2012-12-19 21:00:00    168\n",
       "2012-12-19 22:00:00    129\n",
       "2012-12-19 23:00:00     88\n",
       "\n",
       "[10886 rows x 1 columns]"
      ]
     },
     "execution_count": 5,
     "metadata": {},
     "output_type": "execute_result"
    }
   ],
   "source": [
    "base.drop(columns=['season', 'holiday', 'workingday', 'weather', 'temp', 'atemp', 'humidity', 'windspeed', 'casual', 'registered'], axis=1, inplace=True)\n",
    "base"
   ]
  },
  {
   "cell_type": "code",
   "execution_count": 6,
   "id": "4455f912-2a4f-4580-8431-beb0ca1df59d",
   "metadata": {
    "tags": []
   },
   "outputs": [
    {
     "data": {
      "text/html": [
       "<div>\n",
       "<style scoped>\n",
       "    .dataframe tbody tr th:only-of-type {\n",
       "        vertical-align: middle;\n",
       "    }\n",
       "\n",
       "    .dataframe tbody tr th {\n",
       "        vertical-align: top;\n",
       "    }\n",
       "\n",
       "    .dataframe thead th {\n",
       "        text-align: right;\n",
       "    }\n",
       "</style>\n",
       "<table border=\"1\" class=\"dataframe\">\n",
       "  <thead>\n",
       "    <tr style=\"text-align: right;\">\n",
       "      <th></th>\n",
       "      <th>count</th>\n",
       "    </tr>\n",
       "    <tr>\n",
       "      <th>datetime</th>\n",
       "      <th></th>\n",
       "    </tr>\n",
       "  </thead>\n",
       "  <tbody>\n",
       "    <tr>\n",
       "      <th>2011-01-01</th>\n",
       "      <td>985</td>\n",
       "    </tr>\n",
       "    <tr>\n",
       "      <th>2011-01-02</th>\n",
       "      <td>801</td>\n",
       "    </tr>\n",
       "    <tr>\n",
       "      <th>2011-01-03</th>\n",
       "      <td>1349</td>\n",
       "    </tr>\n",
       "    <tr>\n",
       "      <th>2011-01-04</th>\n",
       "      <td>1562</td>\n",
       "    </tr>\n",
       "    <tr>\n",
       "      <th>2011-01-05</th>\n",
       "      <td>1600</td>\n",
       "    </tr>\n",
       "    <tr>\n",
       "      <th>...</th>\n",
       "      <td>...</td>\n",
       "    </tr>\n",
       "    <tr>\n",
       "      <th>2012-12-15</th>\n",
       "      <td>5047</td>\n",
       "    </tr>\n",
       "    <tr>\n",
       "      <th>2012-12-16</th>\n",
       "      <td>3786</td>\n",
       "    </tr>\n",
       "    <tr>\n",
       "      <th>2012-12-17</th>\n",
       "      <td>4585</td>\n",
       "    </tr>\n",
       "    <tr>\n",
       "      <th>2012-12-18</th>\n",
       "      <td>5557</td>\n",
       "    </tr>\n",
       "    <tr>\n",
       "      <th>2012-12-19</th>\n",
       "      <td>5267</td>\n",
       "    </tr>\n",
       "  </tbody>\n",
       "</table>\n",
       "<p>719 rows × 1 columns</p>\n",
       "</div>"
      ],
      "text/plain": [
       "            count\n",
       "datetime         \n",
       "2011-01-01    985\n",
       "2011-01-02    801\n",
       "2011-01-03   1349\n",
       "2011-01-04   1562\n",
       "2011-01-05   1600\n",
       "...           ...\n",
       "2012-12-15   5047\n",
       "2012-12-16   3786\n",
       "2012-12-17   4585\n",
       "2012-12-18   5557\n",
       "2012-12-19   5267\n",
       "\n",
       "[719 rows x 1 columns]"
      ]
     },
     "execution_count": 6,
     "metadata": {},
     "output_type": "execute_result"
    }
   ],
   "source": [
    "base = base.groupby(pd.Grouper(freq='D')).sum()\n",
    "base"
   ]
  },
  {
   "cell_type": "code",
   "execution_count": 7,
   "id": "f1fad3d0-9e7f-4ade-94ea-b4645b6458bd",
   "metadata": {
    "tags": []
   },
   "outputs": [
    {
     "data": {
      "text/plain": [
       "(719, 1)"
      ]
     },
     "execution_count": 7,
     "metadata": {},
     "output_type": "execute_result"
    }
   ],
   "source": [
    "base_teste = base.copy()\n",
    "base_teste.shape"
   ]
  },
  {
   "cell_type": "code",
   "execution_count": 8,
   "id": "1e76174b-c964-4fcc-8c63-6ea92a2a80f8",
   "metadata": {
    "tags": []
   },
   "outputs": [
    {
     "data": {
      "text/html": [
       "<div>\n",
       "<style scoped>\n",
       "    .dataframe tbody tr th:only-of-type {\n",
       "        vertical-align: middle;\n",
       "    }\n",
       "\n",
       "    .dataframe tbody tr th {\n",
       "        vertical-align: top;\n",
       "    }\n",
       "\n",
       "    .dataframe thead th {\n",
       "        text-align: right;\n",
       "    }\n",
       "</style>\n",
       "<table border=\"1\" class=\"dataframe\">\n",
       "  <thead>\n",
       "    <tr style=\"text-align: right;\">\n",
       "      <th></th>\n",
       "      <th>count</th>\n",
       "    </tr>\n",
       "    <tr>\n",
       "      <th>datetime</th>\n",
       "      <th></th>\n",
       "    </tr>\n",
       "  </thead>\n",
       "  <tbody>\n",
       "    <tr>\n",
       "      <th>2011-01-01</th>\n",
       "      <td>985</td>\n",
       "    </tr>\n",
       "    <tr>\n",
       "      <th>2011-01-02</th>\n",
       "      <td>801</td>\n",
       "    </tr>\n",
       "    <tr>\n",
       "      <th>2011-01-03</th>\n",
       "      <td>1349</td>\n",
       "    </tr>\n",
       "    <tr>\n",
       "      <th>2011-01-04</th>\n",
       "      <td>1562</td>\n",
       "    </tr>\n",
       "    <tr>\n",
       "      <th>2011-01-05</th>\n",
       "      <td>1600</td>\n",
       "    </tr>\n",
       "    <tr>\n",
       "      <th>...</th>\n",
       "      <td>...</td>\n",
       "    </tr>\n",
       "    <tr>\n",
       "      <th>2012-11-15</th>\n",
       "      <td>5445</td>\n",
       "    </tr>\n",
       "    <tr>\n",
       "      <th>2012-11-16</th>\n",
       "      <td>5698</td>\n",
       "    </tr>\n",
       "    <tr>\n",
       "      <th>2012-11-17</th>\n",
       "      <td>5629</td>\n",
       "    </tr>\n",
       "    <tr>\n",
       "      <th>2012-11-18</th>\n",
       "      <td>4669</td>\n",
       "    </tr>\n",
       "    <tr>\n",
       "      <th>2012-11-19</th>\n",
       "      <td>5499</td>\n",
       "    </tr>\n",
       "  </tbody>\n",
       "</table>\n",
       "<p>689 rows × 1 columns</p>\n",
       "</div>"
      ],
      "text/plain": [
       "            count\n",
       "datetime         \n",
       "2011-01-01    985\n",
       "2011-01-02    801\n",
       "2011-01-03   1349\n",
       "2011-01-04   1562\n",
       "2011-01-05   1600\n",
       "...           ...\n",
       "2012-11-15   5445\n",
       "2012-11-16   5698\n",
       "2012-11-17   5629\n",
       "2012-11-18   4669\n",
       "2012-11-19   5499\n",
       "\n",
       "[689 rows x 1 columns]"
      ]
     },
     "execution_count": 8,
     "metadata": {},
     "output_type": "execute_result"
    }
   ],
   "source": [
    "base_treinamento = base.iloc[0:689,:]\n",
    "base_treinamento"
   ]
  },
  {
   "cell_type": "code",
   "execution_count": 9,
   "id": "58bf64af-2a91-40c0-86d2-68a6aeb26e27",
   "metadata": {
    "tags": []
   },
   "outputs": [],
   "source": [
    "dt_data_inicial = pd.Timestamp('2011-01-01')\n",
    "dt_data_final_treinamento = pd.Timestamp('2012-11-19')\n",
    "dt_previsao_maxima = pd.Timestamp('2012-12-19')\n",
    "\n",
    "faixa_treinamento = (dt_data_inicial, dt_data_final_treinamento)\n",
    "faixa_teste = (dt_data_inicial, dt_previsao_maxima)"
   ]
  },
  {
   "cell_type": "code",
   "execution_count": 10,
   "id": "8a6c1923-1c77-44e7-8c2b-4572ae0edf25",
   "metadata": {
    "tags": []
   },
   "outputs": [
    {
     "data": {
      "text/plain": [
       "(Timestamp('2011-01-01 00:00:00'), Timestamp('2012-11-19 00:00:00'))"
      ]
     },
     "execution_count": 10,
     "metadata": {},
     "output_type": "execute_result"
    }
   ],
   "source": [
    "faixa_treinamento"
   ]
  },
  {
   "cell_type": "code",
   "execution_count": 11,
   "id": "9e1f6fed-688f-47bd-9ab4-0e3323f39ba4",
   "metadata": {
    "tags": []
   },
   "outputs": [
    {
     "data": {
      "text/plain": [
       "(Timestamp('2011-01-01 00:00:00'), Timestamp('2012-12-19 00:00:00'))"
      ]
     },
     "execution_count": 11,
     "metadata": {},
     "output_type": "execute_result"
    }
   ],
   "source": [
    "faixa_teste"
   ]
  },
  {
   "cell_type": "code",
   "execution_count": 12,
   "id": "6c78372d-b5fc-4fb8-bff8-edaf2e1eb172",
   "metadata": {
    "tags": []
   },
   "outputs": [],
   "source": [
    "serie_temporal_treinamento = []\n",
    "serie_temporal_teste = []\n",
    "\n",
    "serie_temporal_treinamento.append(base_treinamento[faixa_treinamento[0]:faixa_treinamento[1]]['count'])\n",
    "serie_temporal_teste.append(base_teste[faixa_teste[0]:faixa_teste[1]]['count'])"
   ]
  },
  {
   "cell_type": "code",
   "execution_count": 13,
   "id": "7f5e4143-d14b-436d-9a7c-bff61e0acb25",
   "metadata": {
    "tags": []
   },
   "outputs": [
    {
     "data": {
      "text/plain": [
       "(list, list)"
      ]
     },
     "execution_count": 13,
     "metadata": {},
     "output_type": "execute_result"
    }
   ],
   "source": [
    "type(serie_temporal_teste), type(serie_temporal_treinamento)"
   ]
  },
  {
   "cell_type": "code",
   "execution_count": 14,
   "id": "6fe2b7a0-2853-4a1b-a952-eb8626691e2b",
   "metadata": {
    "tags": []
   },
   "outputs": [
    {
     "data": {
      "text/plain": [
       "[datetime\n",
       " 2011-01-01     985\n",
       " 2011-01-02     801\n",
       " 2011-01-03    1349\n",
       " 2011-01-04    1562\n",
       " 2011-01-05    1600\n",
       "               ... \n",
       " 2012-11-15    5445\n",
       " 2012-11-16    5698\n",
       " 2012-11-17    5629\n",
       " 2012-11-18    4669\n",
       " 2012-11-19    5499\n",
       " Freq: D, Name: count, Length: 689, dtype: int64]"
      ]
     },
     "execution_count": 14,
     "metadata": {},
     "output_type": "execute_result"
    }
   ],
   "source": [
    "serie_temporal_treinamento"
   ]
  },
  {
   "cell_type": "code",
   "execution_count": 15,
   "id": "a874d03b-aba3-4ebb-bab2-25c90866eb34",
   "metadata": {
    "tags": []
   },
   "outputs": [
    {
     "data": {
      "text/plain": [
       "[datetime\n",
       " 2011-01-01     985\n",
       " 2011-01-02     801\n",
       " 2011-01-03    1349\n",
       " 2011-01-04    1562\n",
       " 2011-01-05    1600\n",
       "               ... \n",
       " 2012-12-15    5047\n",
       " 2012-12-16    3786\n",
       " 2012-12-17    4585\n",
       " 2012-12-18    5557\n",
       " 2012-12-19    5267\n",
       " Freq: D, Name: count, Length: 719, dtype: int64]"
      ]
     },
     "execution_count": 15,
     "metadata": {},
     "output_type": "execute_result"
    }
   ],
   "source": [
    "serie_temporal_teste"
   ]
  },
  {
   "cell_type": "code",
   "execution_count": 16,
   "id": "32426da8-150c-4baa-a143-bf01010d5418",
   "metadata": {
    "tags": []
   },
   "outputs": [
    {
     "data": {
      "image/png": "[encoded data removed]",
      "text/plain": [
       "<Figure size 1000x1000 with 1 Axes>"
      ]
     },
     "metadata": {},
     "output_type": "display_data"
    }
   ],
   "source": [
    "plt.figure(figsize=(10,10))\n",
    "serie_temporal_teste[0].plot(label=\"Teste\")\n",
    "serie_temporal_treinamento[0].plot(label=\"Treinamento\")\n",
    "plt.legend()\n",
    "plt.show()"
   ]
  },
  {
   "cell_type": "code",
   "execution_count": 17,
   "id": "5c903a6f-6a5b-45be-9e4e-2169345362f5",
   "metadata": {
    "tags": []
   },
   "outputs": [],
   "source": [
    "def encode_target(ts):\n",
    "    return [x if np.isfinite(x) else \"NaN\" for x in ts]"
   ]
  },
  {
   "cell_type": "code",
   "execution_count": 18,
   "id": "7cb45e36-6776-4744-88f5-610c8af3d9c3",
   "metadata": {
    "tags": []
   },
   "outputs": [
    {
     "data": {
      "text/plain": [
       "[985,\n",
       " 801,\n",
       " 1349,\n",
       " 1562,\n",
       " 1600,\n",
       " 1606,\n",
       " 1510,\n",
       " 959,\n",
       " 822,\n",
       " 1321,\n",
       " 1263,\n",
       " 1162,\n",
       " 1406,\n",
       " 1421,\n",
       " 1248,\n",
       " 1204,\n",
       " 1000,\n",
       " 683,\n",
       " 1650,\n",
       " 0,\n",
       " 0,\n",
       " 0,\n",
       " 0,\n",
       " 0,\n",
       " 0]"
      ]
     },
     "execution_count": 18,
     "metadata": {},
     "output_type": "execute_result"
    }
   ],
   "source": [
    "encode_target(serie_temporal_treinamento[0][0:25])"
   ]
  },
  {
   "cell_type": "code",
   "execution_count": 19,
   "id": "6ce2725b-ffcb-44f9-9757-d71d5890bbe4",
   "metadata": {
    "tags": []
   },
   "outputs": [],
   "source": [
    "def series_to_obj(ts):\n",
    "    obj = {\"start\": str(ts.index[0]), \"target\": encode_target(ts)}\n",
    "    return obj"
   ]
  },
  {
   "cell_type": "code",
   "execution_count": 20,
   "id": "6112a630-8149-46ec-bee5-83bdacbbd19c",
   "metadata": {
    "tags": []
   },
   "outputs": [
    {
     "data": {
      "text/plain": [
       "{'start': '2011-01-01 00:00:00', 'target': [985, 801, 1349, 1562, 1600]}"
      ]
     },
     "execution_count": 20,
     "metadata": {},
     "output_type": "execute_result"
    }
   ],
   "source": [
    "series_to_obj(serie_temporal_treinamento[0][0:5])"
   ]
  },
  {
   "cell_type": "code",
   "execution_count": 21,
   "id": "dd1fd95d-536e-414f-8d7d-ffe063515dc5",
   "metadata": {
    "tags": []
   },
   "outputs": [],
   "source": [
    "def series_to_jsonline(ts):\n",
    "    return json.dumps(series_to_obj(ts))"
   ]
  },
  {
   "cell_type": "code",
   "execution_count": 22,
   "id": "4f466521-d0d9-4d87-9610-1539c0ce9c68",
   "metadata": {
    "tags": []
   },
   "outputs": [
    {
     "data": {
      "text/plain": [
       "'{\"start\": \"2011-01-01 00:00:00\", \"target\": [985, 801, 1349, 1562, 1600]}'"
      ]
     },
     "execution_count": 22,
     "metadata": {},
     "output_type": "execute_result"
    }
   ],
   "source": [
    "series_to_jsonline(serie_temporal_treinamento[0][0:5])"
   ]
  },
  {
   "cell_type": "code",
   "execution_count": 23,
   "id": "ef25704d-99bd-4fba-82e7-7e66bb46a9bd",
   "metadata": {
    "tags": []
   },
   "outputs": [],
   "source": [
    "encoding = 'utf-8'\n",
    "arquivo_json_treinamento = 'train.json'\n",
    "arquivo_json_teste = 'test.json'\n",
    "with open(arquivo_json_treinamento, 'wb') as fp:\n",
    "    for ts in serie_temporal_treinamento:\n",
    "        fp.write(series_to_jsonline(ts).encode(encoding))\n",
    "        fp.write('\\n'.encode(encoding))\n",
    "\n",
    "with open(arquivo_json_teste, 'wb') as fp:\n",
    "    for ts in serie_temporal_teste:\n",
    "        fp.write(series_to_jsonline(ts).encode(encoding))\n",
    "        fp.write('\\n'.encode(encoding))"
   ]
  },
  {
   "cell_type": "markdown",
   "id": "34038cd0-5755-4454-ada4-b480be7121c9",
   "metadata": {},
   "source": [
    "## Configurações do SageMaker"
   ]
  },
  {
   "cell_type": "code",
   "execution_count": 24,
   "id": "5bafe3ca-6d49-4999-9ad1-4f2562a9a154",
   "metadata": {
    "tags": []
   },
   "outputs": [],
   "source": [
    "import sagemaker\n",
    "import boto3\n",
    "from sagemaker import Session\n",
    "import sagemaker.amazon.common as smac\n",
    "import io\n",
    "import os"
   ]
  },
  {
   "cell_type": "code",
   "execution_count": 25,
   "id": "473fd648-7bed-41dc-bd9f-0765f6033ef3",
   "metadata": {
    "tags": []
   },
   "outputs": [
    {
     "name": "stdout",
     "output_type": "stream",
     "text": [
      "Localização da base de treinamento: s3://praticaawssagemaker/datasets/bike/train/train.json\n",
      "Localização da base de treinamento: s3://praticaawssagemaker/datasets/bike/test/test.json\n",
      "Modelo final será salvo em: s3://praticaawssagemaker/modelos/bike/deepar/output\n"
     ]
    }
   ],
   "source": [
    "session = sagemaker.Session()\n",
    "bucket = 'praticaawssagemaker'\n",
    "subpasta_modelo = 'modelos/bike/deepar'\n",
    "subpasta_dataset = 'datasets/bike'\n",
    "job_name = 'deepar-bike'\n",
    "role = sagemaker.get_execution_role()\n",
    "s3_train_data = f's3://{bucket}/{subpasta_dataset}/train/train.json'\n",
    "s3_test_data = f's3://{bucket}/{subpasta_dataset}/test/test.json'\n",
    "output_location = f's3://{bucket}/{subpasta_modelo}/output'\n",
    "\n",
    "print(f'Localização da base de treinamento: {s3_train_data}')\n",
    "print(f'Localização da base de treinamento: {s3_test_data}')\n",
    "print(f'Modelo final será salvo em: {output_location}')"
   ]
  },
  {
   "cell_type": "code",
   "execution_count": 26,
   "id": "370e2dae-1d33-48b8-8430-08109892e300",
   "metadata": {
    "tags": []
   },
   "outputs": [],
   "source": [
    "def escreve_s3(arquivo, bucket, nome):\n",
    "    with open(arquivo, 'rb') as f:\n",
    "        return boto3.Session().resource('s3').Bucket(bucket).Object(nome).upload_fileobj(f)"
   ]
  },
  {
   "cell_type": "code",
   "execution_count": 27,
   "id": "ba1f54cb-0dc7-4c5a-b06f-a09d2803436f",
   "metadata": {
    "tags": []
   },
   "outputs": [],
   "source": [
    "escreve_s3('train.json', bucket, os.path.join(subpasta_dataset, 'train', 'train.json'))\n",
    "escreve_s3('test.json', bucket, os.path.join(subpasta_dataset, 'test', 'test.json'))"
   ]
  },
  {
   "cell_type": "markdown",
   "id": "4766980d-0489-4f61-8582-20d45360dc13",
   "metadata": {},
   "source": [
    "## Treinamento do DeepAR"
   ]
  },
  {
   "cell_type": "code",
   "execution_count": 28,
   "id": "a95dc289-4d8a-407d-a805-ff440ade2771",
   "metadata": {
    "tags": []
   },
   "outputs": [],
   "source": [
    "container = sagemaker.image_uris.retrieve(\n",
    "    framework='forecasting-deepar', region=boto3.Session().region_name\n",
    ")"
   ]
  },
  {
   "cell_type": "code",
   "execution_count": 29,
   "id": "c8a4f5db-990f-4d46-beb7-6c54d8b7f7d8",
   "metadata": {
    "tags": []
   },
   "outputs": [
    {
     "name": "stderr",
     "output_type": "stream",
     "text": [
      "/opt/conda/lib/python3.7/site-packages/boto3/compat.py:82: PythonDeprecationWarning: Boto3 will no longer support Python 3.7 starting December 13, 2023. To continue receiving service updates, bug fixes, and security updates please upgrade to Python 3.8 or later. More information can be found here: https://aws.amazon.com/blogs/developer/python-support-policy-updates-for-aws-sdks-and-tools/\n",
      "  warnings.warn(warning, PythonDeprecationWarning)\n"
     ]
    }
   ],
   "source": [
    "deepar = sagemaker.estimator.Estimator(\n",
    "    image_uri=container, role=role, instance_count=1, \n",
    "    instance_type='ml.m5.xlarge', output_path=output_location, sagemaker_session=session,\n",
    "    base_job_name=job_name, use_spot_instances=True, \n",
    "    max_run=3600, max_wait=3600\n",
    ")"
   ]
  },
  {
   "cell_type": "code",
   "execution_count": 30,
   "id": "8bd4da97-8b12-4c7a-8014-0c6254bfaed9",
   "metadata": {
    "tags": []
   },
   "outputs": [],
   "source": [
    "freq = 'D'\n",
    "prediction_length = 30\n",
    "context_length = 30"
   ]
  },
  {
   "cell_type": "code",
   "execution_count": 31,
   "id": "d7dcb58e-5e0a-4b68-be00-ad1e7ebe0aea",
   "metadata": {
    "tags": []
   },
   "outputs": [],
   "source": [
    "hyperparametros ={\n",
    "    'time_freq': freq,\n",
    "    'epochs': '20',\n",
    "    'context_length': str(context_length),\n",
    "    'prediction_length': str(prediction_length)\n",
    "}"
   ]
  },
  {
   "cell_type": "code",
   "execution_count": 32,
   "id": "be0ce7f0-5ea3-42f0-a8b6-02eed953f44f",
   "metadata": {
    "tags": []
   },
   "outputs": [],
   "source": [
    "deepar.set_hyperparameters(**hyperparametros)"
   ]
  },
  {
   "cell_type": "code",
   "execution_count": 33,
   "id": "2377066f-827e-4e42-8301-b5205b6fcd3a",
   "metadata": {
    "tags": []
   },
   "outputs": [
    {
     "data": {
      "text/plain": [
       "{'train': 's3://praticaawssagemaker/datasets/bike/train/train.json',\n",
       " 'test': 's3://praticaawssagemaker/datasets/bike/test/test.json'}"
      ]
     },
     "execution_count": 33,
     "metadata": {},
     "output_type": "execute_result"
    }
   ],
   "source": [
    "data_channels = {'train': s3_train_data, 'test': s3_test_data}\n",
    "data_channels"
   ]
  },
  {
   "cell_type": "code",
   "execution_count": 34,
   "id": "ba654099-59df-40f1-ac04-169aedd6705f",
   "metadata": {
    "tags": []
   },
   "outputs": [
    {
     "name": "stderr",
     "output_type": "stream",
     "text": [
      "INFO:sagemaker:Creating training-job with name: deepar-bike-2023-10-30-19-12-09-965\n"
     ]
    },
    {
     "name": "stdout",
     "output_type": "stream",
     "text": [
      "2023-10-30 19:12:10 Starting - Starting the training job...\n",
      "2023-10-30 19:12:33 Starting - Preparing the instances for training.........\n",
      "2023-10-30 19:13:46 Downloading - Downloading input data...\n",
      "2023-10-30 19:14:17 Training - Downloading the training image......\n",
      "2023-10-30 19:15:17 Training - Training image download completed. Training in progress.\u001b[34mDocker entrypoint called with argument(s): train\u001b[0m\n",
      "\u001b[34mRunning default environment configuration script\u001b[0m\n",
      "\u001b[34mRunning custom environment configuration script\u001b[0m\n",
      "\u001b[34m/opt/amazon/lib/python3.7/site-packages/jsonref.py:8: DeprecationWarning: Using or importing the ABCs from 'collections' instead of from 'collections.abc' is deprecated since Python 3.3,and in 3.9 it will stop working\n",
      "  from collections import Mapping, MutableMapping, Sequence\u001b[0m\n",
      "\u001b[34m[10/30/2023 19:15:30 INFO 140264114440000] Reading default configuration from /opt/amazon/lib/python3.7/site-packages/algorithm/resources/default-input.json: {'_kvstore': 'auto', '_num_gpus': 'auto', '_num_kv_servers': 'auto', '_tuning_objective_metric': '', 'cardinality': 'auto', 'dropout_rate': '0.10', 'early_stopping_patience': '', 'embedding_dimension': '10', 'learning_rate': '0.001', 'likelihood': 'student-t', 'mini_batch_size': '128', 'num_cells': '40', 'num_dynamic_feat': 'auto', 'num_eval_samples': '100', 'num_layers': '2', 'test_quantiles': '[0.1, 0.2, 0.3, 0.4, 0.5, 0.6, 0.7, 0.8, 0.9]'}\u001b[0m\n",
      "\u001b[34m[10/30/2023 19:15:30 INFO 140264114440000] Merging with provided configuration from /opt/ml/input/config/hyperparameters.json: {'context_length': '30', 'epochs': '20', 'prediction_length': '30', 'time_freq': 'D'}\u001b[0m\n",
      "\u001b[34m[10/30/2023 19:15:30 INFO 140264114440000] Final configuration: {'_kvstore': 'auto', '_num_gpus': 'auto', '_num_kv_servers': 'auto', '_tuning_objective_metric': '', 'cardinality': 'auto', 'dropout_rate': '0.10', 'early_stopping_patience': '', 'embedding_dimension': '10', 'learning_rate': '0.001', 'likelihood': 'student-t', 'mini_batch_size': '128', 'num_cells': '40', 'num_dynamic_feat': 'auto', 'num_eval_samples': '100', 'num_layers': '2', 'test_quantiles': '[0.1, 0.2, 0.3, 0.4, 0.5, 0.6, 0.7, 0.8, 0.9]', 'context_length': '30', 'epochs': '20', 'prediction_length': '30', 'time_freq': 'D'}\u001b[0m\n",
      "\u001b[34mProcess 7 is a worker.\u001b[0m\n",
      "\u001b[34m[10/30/2023 19:15:30 INFO 140264114440000] Detected entry point for worker worker\u001b[0m\n",
      "\u001b[34m[10/30/2023 19:15:30 INFO 140264114440000] random_seed is None\u001b[0m\n",
      "\u001b[34m[10/30/2023 19:15:30 INFO 140264114440000] [cardinality=auto] `cat` field was NOT found in the file `/opt/ml/input/data/train/train.json` and will NOT be used for training.\u001b[0m\n",
      "\u001b[34m[10/30/2023 19:15:30 INFO 140264114440000] [num_dynamic_feat=auto] `dynamic_feat` field was NOT found in the file `/opt/ml/input/data/train/train.json` and will NOT be used for training.\u001b[0m\n",
      "\u001b[34m[10/30/2023 19:15:30 INFO 140264114440000] Training set statistics:\u001b[0m\n",
      "\u001b[34m[10/30/2023 19:15:30 INFO 140264114440000] Integer time series\u001b[0m\n",
      "\u001b[34m[10/30/2023 19:15:30 INFO 140264114440000] number of time series: 1\u001b[0m\n",
      "\u001b[34m[10/30/2023 19:15:30 INFO 140264114440000] number of observations: 689\u001b[0m\n",
      "\u001b[34m[10/30/2023 19:15:30 INFO 140264114440000] mean target length: 689.0\u001b[0m\n",
      "\u001b[34m[10/30/2023 19:15:30 INFO 140264114440000] min/mean/max target: 0.0/2883.1625544267054/8714.0\u001b[0m\n",
      "\u001b[34m[10/30/2023 19:15:30 INFO 140264114440000] mean abs(target): 2883.1625544267054\u001b[0m\n",
      "\u001b[34m[10/30/2023 19:15:30 INFO 140264114440000] contains missing values: no\u001b[0m\n",
      "\u001b[34m[10/30/2023 19:15:30 INFO 140264114440000] Small number of time series. Doing 1280 passes over dataset with prob 1.0 per epoch.\u001b[0m\n",
      "\u001b[34m[10/30/2023 19:15:30 INFO 140264114440000] Test set statistics:\u001b[0m\n",
      "\u001b[34m[10/30/2023 19:15:30 INFO 140264114440000] Integer time series\u001b[0m\n",
      "\u001b[34m[10/30/2023 19:15:30 INFO 140264114440000] number of time series: 1\u001b[0m\n",
      "\u001b[34m[10/30/2023 19:15:30 INFO 140264114440000] number of observations: 719\u001b[0m\n",
      "\u001b[34m[10/30/2023 19:15:30 INFO 140264114440000] mean target length: 719.0\u001b[0m\n",
      "\u001b[34m[10/30/2023 19:15:30 INFO 140264114440000] min/mean/max target: 0.0/2900.5229485396385/8714.0\u001b[0m\n",
      "\u001b[34m[10/30/2023 19:15:30 INFO 140264114440000] mean abs(target): 2900.5229485396385\u001b[0m\n",
      "\u001b[34m[10/30/2023 19:15:30 INFO 140264114440000] contains missing values: no\u001b[0m\n",
      "\u001b[34m/opt/amazon/lib/python3.7/site-packages/algorithm/core/date_feature_set.py:44: FutureWarning: weekofyear and week have been deprecated, please use DatetimeIndex.isocalendar().week instead, which returns a Series.  To exactly reproduce the behavior of week and weekofyear and return an Index, you may call pd.Int64Index(idx.isocalendar().week)\n",
      "  return index.weekofyear / 51.0 - 0.5\u001b[0m\n",
      "\u001b[34m[10/30/2023 19:15:30 INFO 140264114440000] #memory_usage::<batchbuffer> = 16.4599609375 mb\u001b[0m\n",
      "\u001b[34m[10/30/2023 19:15:30 INFO 140264114440000] nvidia-smi: took 0.029 seconds to run.\u001b[0m\n",
      "\u001b[34m[10/30/2023 19:15:30 INFO 140264114440000] nvidia-smi identified 0 GPUs.\u001b[0m\n",
      "\u001b[34m[10/30/2023 19:15:30 INFO 140264114440000] Number of GPUs being used: 0\u001b[0m\n",
      "\u001b[34m[10/30/2023 19:15:30 INFO 140264114440000] Create Store: local\u001b[0m\n",
      "\u001b[34m#metrics {\"StartTime\": 1698693330.540984, \"EndTime\": 1698693330.6730795, \"Dimensions\": {\"Algorithm\": \"AWS/DeepAR\", \"Host\": \"algo-1\", \"Operation\": \"training\"}, \"Metrics\": {\"get_graph.time\": {\"sum\": 131.19101524353027, \"count\": 1, \"min\": 131.19101524353027, \"max\": 131.19101524353027}}}\u001b[0m\n",
      "\u001b[34m[10/30/2023 19:15:30 INFO 140264114440000] Number of GPUs being used: 0\u001b[0m\n",
      "\u001b[34m[10/30/2023 19:15:30 INFO 140264114440000] #memory_usage::<model> = 52 mb\u001b[0m\n",
      "\u001b[34m#metrics {\"StartTime\": 1698693330.6731555, \"EndTime\": 1698693330.8869324, \"Dimensions\": {\"Algorithm\": \"AWS/DeepAR\", \"Host\": \"algo-1\", \"Operation\": \"training\"}, \"Metrics\": {\"initialize.time\": {\"sum\": 345.8523750305176, \"count\": 1, \"min\": 345.8523750305176, \"max\": 345.8523750305176}}}\u001b[0m\n",
      "\u001b[34m[10/30/2023 19:15:31 INFO 140264114440000] Epoch[0] Batch[0] avg_epoch_loss=9.812903\u001b[0m\n",
      "\u001b[34m[10/30/2023 19:15:31 INFO 140264114440000] #quality_metric: host=algo-1, epoch=0, batch=0 train loss <loss>=9.81290340423584\u001b[0m\n",
      "\u001b[34m[10/30/2023 19:15:32 INFO 140264114440000] Epoch[0] Batch[5] avg_epoch_loss=9.413959\u001b[0m\n",
      "\u001b[34m[10/30/2023 19:15:32 INFO 140264114440000] #quality_metric: host=algo-1, epoch=0, batch=5 train loss <loss>=9.413958549499512\u001b[0m\n",
      "\u001b[34m[10/30/2023 19:15:32 INFO 140264114440000] Epoch[0] Batch [5]#011Speed: 928.63 samples/sec#011loss=9.413959\u001b[0m\n",
      "\u001b[34m[10/30/2023 19:15:32 INFO 140264114440000] processed a total of 1254 examples\u001b[0m\n",
      "\u001b[34m#metrics {\"StartTime\": 1698693330.8869932, \"EndTime\": 1698693332.786771, \"Dimensions\": {\"Algorithm\": \"AWS/DeepAR\", \"Host\": \"algo-1\", \"Operation\": \"training\"}, \"Metrics\": {\"epochs\": {\"sum\": 20.0, \"count\": 1, \"min\": 20, \"max\": 20}, \"update.time\": {\"sum\": 1899.6753692626953, \"count\": 1, \"min\": 1899.6753692626953, \"max\": 1899.6753692626953}}}\u001b[0m\n",
      "\u001b[34m[10/30/2023 19:15:32 INFO 140264114440000] #throughput_metric: host=algo-1, train throughput=660.0663944572897 records/second\u001b[0m\n",
      "\u001b[34m[10/30/2023 19:15:32 INFO 140264114440000] #progress_metric: host=algo-1, completed 5.0 % of epochs\u001b[0m\n",
      "\u001b[34m[10/30/2023 19:15:32 INFO 140264114440000] #quality_metric: host=algo-1, epoch=0, train loss <loss>=9.294340133666992\u001b[0m\n",
      "\u001b[34m[10/30/2023 19:15:33 INFO 140264114440000] Epoch[1] Batch[0] avg_epoch_loss=9.002943\u001b[0m\n",
      "\u001b[34m[10/30/2023 19:15:33 INFO 140264114440000] #quality_metric: host=algo-1, epoch=1, batch=0 train loss <loss>=9.00294303894043\u001b[0m\n",
      "\u001b[34m[10/30/2023 19:15:34 INFO 140264114440000] Epoch[1] Batch[5] avg_epoch_loss=8.929642\u001b[0m\n",
      "\u001b[34m[10/30/2023 19:15:34 INFO 140264114440000] #quality_metric: host=algo-1, epoch=1, batch=5 train loss <loss>=8.929641564687094\u001b[0m\n",
      "\u001b[34m[10/30/2023 19:15:34 INFO 140264114440000] Epoch[1] Batch [5]#011Speed: 932.84 samples/sec#011loss=8.929642\u001b[0m\n",
      "\u001b[34m[10/30/2023 19:15:34 INFO 140264114440000] Epoch[1] Batch[10] avg_epoch_loss=8.860026\u001b[0m\n",
      "\u001b[34m[10/30/2023 19:15:34 INFO 140264114440000] #quality_metric: host=algo-1, epoch=1, batch=10 train loss <loss>=8.776488113403321\u001b[0m\n",
      "\u001b[34m[10/30/2023 19:15:34 INFO 140264114440000] Epoch[1] Batch [10]#011Speed: 923.99 samples/sec#011loss=8.776488\u001b[0m\n",
      "\u001b[34m[10/30/2023 19:15:34 INFO 140264114440000] processed a total of 1287 examples\u001b[0m\n",
      "\u001b[34m#metrics {\"StartTime\": 1698693332.7868512, \"EndTime\": 1698693334.7385793, \"Dimensions\": {\"Algorithm\": \"AWS/DeepAR\", \"Host\": \"algo-1\", \"Operation\": \"training\"}, \"Metrics\": {\"update.time\": {\"sum\": 1951.0478973388672, \"count\": 1, \"min\": 1951.0478973388672, \"max\": 1951.0478973388672}}}\u001b[0m\n",
      "\u001b[34m[10/30/2023 19:15:34 INFO 140264114440000] #throughput_metric: host=algo-1, train throughput=659.613436781421 records/second\u001b[0m\n",
      "\u001b[34m[10/30/2023 19:15:34 INFO 140264114440000] #progress_metric: host=algo-1, completed 10.0 % of epochs\u001b[0m\n",
      "\u001b[34m[10/30/2023 19:15:34 INFO 140264114440000] #quality_metric: host=algo-1, epoch=1, train loss <loss>=8.860026359558105\u001b[0m\n",
      "\u001b[34m[10/30/2023 19:15:35 INFO 140264114440000] Epoch[2] Batch[0] avg_epoch_loss=8.615000\u001b[0m\n",
      "\u001b[34m[10/30/2023 19:15:35 INFO 140264114440000] #quality_metric: host=algo-1, epoch=2, batch=0 train loss <loss>=8.614999771118164\u001b[0m\n",
      "\u001b[34m[10/30/2023 19:15:35 INFO 140264114440000] Epoch[2] Batch[5] avg_epoch_loss=8.561134\u001b[0m\n",
      "\u001b[34m[10/30/2023 19:15:35 INFO 140264114440000] #quality_metric: host=algo-1, epoch=2, batch=5 train loss <loss>=8.561134020487467\u001b[0m\n",
      "\u001b[34m[10/30/2023 19:15:35 INFO 140264114440000] Epoch[2] Batch [5]#011Speed: 913.07 samples/sec#011loss=8.561134\u001b[0m\n",
      "\u001b[34m[10/30/2023 19:15:36 INFO 140264114440000] processed a total of 1271 examples\u001b[0m\n",
      "\u001b[34m#metrics {\"StartTime\": 1698693334.7386453, \"EndTime\": 1698693336.733507, \"Dimensions\": {\"Algorithm\": \"AWS/DeepAR\", \"Host\": \"algo-1\", \"Operation\": \"training\"}, \"Metrics\": {\"update.time\": {\"sum\": 1994.473934173584, \"count\": 1, \"min\": 1994.473934173584, \"max\": 1994.473934173584}}}\u001b[0m\n",
      "\u001b[34m[10/30/2023 19:15:36 INFO 140264114440000] #throughput_metric: host=algo-1, train throughput=637.2153737031178 records/second\u001b[0m\n",
      "\u001b[34m[10/30/2023 19:15:36 INFO 140264114440000] #progress_metric: host=algo-1, completed 15.0 % of epochs\u001b[0m\n",
      "\u001b[34m[10/30/2023 19:15:36 INFO 140264114440000] #quality_metric: host=algo-1, epoch=2, train loss <loss>=8.520391178131103\u001b[0m\n",
      "\u001b[34m[10/30/2023 19:15:37 INFO 140264114440000] Epoch[3] Batch[0] avg_epoch_loss=8.403860\u001b[0m\n",
      "\u001b[34m[10/30/2023 19:15:37 INFO 140264114440000] #quality_metric: host=algo-1, epoch=3, batch=0 train loss <loss>=8.403860092163086\u001b[0m\n",
      "\u001b[34m[10/30/2023 19:15:38 INFO 140264114440000] Epoch[3] Batch[5] avg_epoch_loss=8.373214\u001b[0m\n",
      "\u001b[34m[10/30/2023 19:15:38 INFO 140264114440000] #quality_metric: host=algo-1, epoch=3, batch=5 train loss <loss>=8.37321408589681\u001b[0m\n",
      "\u001b[34m[10/30/2023 19:15:38 INFO 140264114440000] Epoch[3] Batch [5]#011Speed: 656.62 samples/sec#011loss=8.373214\u001b[0m\n",
      "\u001b[34m[10/30/2023 19:15:39 INFO 140264114440000] processed a total of 1250 examples\u001b[0m\n",
      "\u001b[34m#metrics {\"StartTime\": 1698693336.7336152, \"EndTime\": 1698693339.0221257, \"Dimensions\": {\"Algorithm\": \"AWS/DeepAR\", \"Host\": \"algo-1\", \"Operation\": \"training\"}, \"Metrics\": {\"update.time\": {\"sum\": 2288.045644760132, \"count\": 1, \"min\": 2288.045644760132, \"max\": 2288.045644760132}}}\u001b[0m\n",
      "\u001b[34m[10/30/2023 19:15:39 INFO 140264114440000] #throughput_metric: host=algo-1, train throughput=546.2918148650416 records/second\u001b[0m\n",
      "\u001b[34m[10/30/2023 19:15:39 INFO 140264114440000] #progress_metric: host=algo-1, completed 20.0 % of epochs\u001b[0m\n",
      "\u001b[34m[10/30/2023 19:15:39 INFO 140264114440000] #quality_metric: host=algo-1, epoch=3, train loss <loss>=8.327694416046143\u001b[0m\n",
      "\u001b[34m[10/30/2023 19:15:39 INFO 140264114440000] Epoch[4] Batch[0] avg_epoch_loss=8.300734\u001b[0m\n",
      "\u001b[34m[10/30/2023 19:15:39 INFO 140264114440000] #quality_metric: host=algo-1, epoch=4, batch=0 train loss <loss>=8.30073356628418\u001b[0m\n",
      "\u001b[34m[10/30/2023 19:15:40 INFO 140264114440000] Epoch[4] Batch[5] avg_epoch_loss=8.229853\u001b[0m\n",
      "\u001b[34m[10/30/2023 19:15:40 INFO 140264114440000] #quality_metric: host=algo-1, epoch=4, batch=5 train loss <loss>=8.229852517445883\u001b[0m\n",
      "\u001b[34m[10/30/2023 19:15:40 INFO 140264114440000] Epoch[4] Batch [5]#011Speed: 934.80 samples/sec#011loss=8.229853\u001b[0m\n",
      "\u001b[34m[10/30/2023 19:15:40 INFO 140264114440000] Epoch[4] Batch[10] avg_epoch_loss=8.168278\u001b[0m\n",
      "\u001b[34m[10/30/2023 19:15:40 INFO 140264114440000] #quality_metric: host=algo-1, epoch=4, batch=10 train loss <loss>=8.094387626647949\u001b[0m\n",
      "\u001b[34m[10/30/2023 19:15:40 INFO 140264114440000] Epoch[4] Batch [10]#011Speed: 919.05 samples/sec#011loss=8.094388\u001b[0m\n",
      "\u001b[34m[10/30/2023 19:15:40 INFO 140264114440000] processed a total of 1285 examples\u001b[0m\n",
      "\u001b[34m#metrics {\"StartTime\": 1698693339.0222006, \"EndTime\": 1698693340.962549, \"Dimensions\": {\"Algorithm\": \"AWS/DeepAR\", \"Host\": \"algo-1\", \"Operation\": \"training\"}, \"Metrics\": {\"update.time\": {\"sum\": 1939.7928714752197, \"count\": 1, \"min\": 1939.7928714752197, \"max\": 1939.7928714752197}}}\u001b[0m\n",
      "\u001b[34m[10/30/2023 19:15:40 INFO 140264114440000] #throughput_metric: host=algo-1, train throughput=662.4090503957237 records/second\u001b[0m\n",
      "\u001b[34m[10/30/2023 19:15:40 INFO 140264114440000] #progress_metric: host=algo-1, completed 25.0 % of epochs\u001b[0m\n",
      "\u001b[34m[10/30/2023 19:15:40 INFO 140264114440000] #quality_metric: host=algo-1, epoch=4, train loss <loss>=8.168277567083186\u001b[0m\n",
      "\u001b[34m[10/30/2023 19:15:41 INFO 140264114440000] Epoch[5] Batch[0] avg_epoch_loss=8.086879\u001b[0m\n",
      "\u001b[34m[10/30/2023 19:15:41 INFO 140264114440000] #quality_metric: host=algo-1, epoch=5, batch=0 train loss <loss>=8.086878776550293\u001b[0m\n",
      "\u001b[34m[10/30/2023 19:15:42 INFO 140264114440000] Epoch[5] Batch[5] avg_epoch_loss=8.154657\u001b[0m\n",
      "\u001b[34m[10/30/2023 19:15:42 INFO 140264114440000] #quality_metric: host=algo-1, epoch=5, batch=5 train loss <loss>=8.154657204945883\u001b[0m\n",
      "\u001b[34m[10/30/2023 19:15:42 INFO 140264114440000] Epoch[5] Batch [5]#011Speed: 932.79 samples/sec#011loss=8.154657\u001b[0m\n",
      "\u001b[34m[10/30/2023 19:15:42 INFO 140264114440000] processed a total of 1258 examples\u001b[0m\n",
      "\u001b[34m#metrics {\"StartTime\": 1698693340.962617, \"EndTime\": 1698693342.7684138, \"Dimensions\": {\"Algorithm\": \"AWS/DeepAR\", \"Host\": \"algo-1\", \"Operation\": \"training\"}, \"Metrics\": {\"update.time\": {\"sum\": 1805.527925491333, \"count\": 1, \"min\": 1805.527925491333, \"max\": 1805.527925491333}}}\u001b[0m\n",
      "\u001b[34m[10/30/2023 19:15:42 INFO 140264114440000] #throughput_metric: host=algo-1, train throughput=696.7103917234028 records/second\u001b[0m\n",
      "\u001b[34m[10/30/2023 19:15:42 INFO 140264114440000] #progress_metric: host=algo-1, completed 30.0 % of epochs\u001b[0m\n",
      "\u001b[34m[10/30/2023 19:15:42 INFO 140264114440000] #quality_metric: host=algo-1, epoch=5, train loss <loss>=8.139202690124511\u001b[0m\n",
      "\u001b[34m[10/30/2023 19:15:43 INFO 140264114440000] Epoch[6] Batch[0] avg_epoch_loss=8.025032\u001b[0m\n",
      "\u001b[34m[10/30/2023 19:15:43 INFO 140264114440000] #quality_metric: host=algo-1, epoch=6, batch=0 train loss <loss>=8.025032043457031\u001b[0m\n",
      "\u001b[34m[10/30/2023 19:15:44 INFO 140264114440000] Epoch[6] Batch[5] avg_epoch_loss=8.035614\u001b[0m\n",
      "\u001b[34m[10/30/2023 19:15:44 INFO 140264114440000] #quality_metric: host=algo-1, epoch=6, batch=5 train loss <loss>=8.035614252090454\u001b[0m\n",
      "\u001b[34m[10/30/2023 19:15:44 INFO 140264114440000] Epoch[6] Batch [5]#011Speed: 913.91 samples/sec#011loss=8.035614\u001b[0m\n",
      "\u001b[34m[10/30/2023 19:15:44 INFO 140264114440000] Epoch[6] Batch[10] avg_epoch_loss=8.043017\u001b[0m\n",
      "\u001b[34m[10/30/2023 19:15:44 INFO 140264114440000] #quality_metric: host=algo-1, epoch=6, batch=10 train loss <loss>=8.051900577545165\u001b[0m\n",
      "\u001b[34m[10/30/2023 19:15:44 INFO 140264114440000] Epoch[6] Batch [10]#011Speed: 895.61 samples/sec#011loss=8.051901\u001b[0m\n",
      "\u001b[34m[10/30/2023 19:15:44 INFO 140264114440000] processed a total of 1306 examples\u001b[0m\n",
      "\u001b[34m#metrics {\"StartTime\": 1698693342.7684844, \"EndTime\": 1698693344.73899, \"Dimensions\": {\"Algorithm\": \"AWS/DeepAR\", \"Host\": \"algo-1\", \"Operation\": \"training\"}, \"Metrics\": {\"update.time\": {\"sum\": 1970.2014923095703, \"count\": 1, \"min\": 1970.2014923095703, \"max\": 1970.2014923095703}}}\u001b[0m\n",
      "\u001b[34m[10/30/2023 19:15:44 INFO 140264114440000] #throughput_metric: host=algo-1, train throughput=662.8452407861944 records/second\u001b[0m\n",
      "\u001b[34m[10/30/2023 19:15:44 INFO 140264114440000] #progress_metric: host=algo-1, completed 35.0 % of epochs\u001b[0m\n",
      "\u001b[34m[10/30/2023 19:15:44 INFO 140264114440000] #quality_metric: host=algo-1, epoch=6, train loss <loss>=8.04301712729714\u001b[0m\n",
      "\u001b[34m[10/30/2023 19:15:45 INFO 140264114440000] Epoch[7] Batch[0] avg_epoch_loss=7.922690\u001b[0m\n",
      "\u001b[34m[10/30/2023 19:15:45 INFO 140264114440000] #quality_metric: host=algo-1, epoch=7, batch=0 train loss <loss>=7.922689914703369\u001b[0m\n",
      "\u001b[34m[10/30/2023 19:15:45 INFO 140264114440000] Epoch[7] Batch[5] avg_epoch_loss=7.937895\u001b[0m\n",
      "\u001b[34m[10/30/2023 19:15:45 INFO 140264114440000] #quality_metric: host=algo-1, epoch=7, batch=5 train loss <loss>=7.9378946622212725\u001b[0m\n",
      "\u001b[34m[10/30/2023 19:15:45 INFO 140264114440000] Epoch[7] Batch [5]#011Speed: 926.03 samples/sec#011loss=7.937895\u001b[0m\n",
      "\u001b[34m[10/30/2023 19:15:46 INFO 140264114440000] processed a total of 1274 examples\u001b[0m\n",
      "\u001b[34m#metrics {\"StartTime\": 1698693344.7390566, \"EndTime\": 1698693346.5447671, \"Dimensions\": {\"Algorithm\": \"AWS/DeepAR\", \"Host\": \"algo-1\", \"Operation\": \"training\"}, \"Metrics\": {\"update.time\": {\"sum\": 1805.445671081543, \"count\": 1, \"min\": 1805.445671081543, \"max\": 1805.445671081543}}}\u001b[0m\n",
      "\u001b[34m[10/30/2023 19:15:46 INFO 140264114440000] #throughput_metric: host=algo-1, train throughput=705.6025053142589 records/second\u001b[0m\n",
      "\u001b[34m[10/30/2023 19:15:46 INFO 140264114440000] #progress_metric: host=algo-1, completed 40.0 % of epochs\u001b[0m\n",
      "\u001b[34m[10/30/2023 19:15:46 INFO 140264114440000] #quality_metric: host=algo-1, epoch=7, train loss <loss>=7.916685628890991\u001b[0m\n",
      "\u001b[34m[10/30/2023 19:15:47 INFO 140264114440000] Epoch[8] Batch[0] avg_epoch_loss=7.812573\u001b[0m\n",
      "\u001b[34m[10/30/2023 19:15:47 INFO 140264114440000] #quality_metric: host=algo-1, epoch=8, batch=0 train loss <loss>=7.812573432922363\u001b[0m\n",
      "\u001b[34m[10/30/2023 19:15:47 INFO 140264114440000] Epoch[8] Batch[5] avg_epoch_loss=7.831663\u001b[0m\n",
      "\u001b[34m[10/30/2023 19:15:47 INFO 140264114440000] #quality_metric: host=algo-1, epoch=8, batch=5 train loss <loss>=7.83166257540385\u001b[0m\n",
      "\u001b[34m[10/30/2023 19:15:47 INFO 140264114440000] Epoch[8] Batch [5]#011Speed: 932.19 samples/sec#011loss=7.831663\u001b[0m\n",
      "\u001b[34m[10/30/2023 19:15:48 INFO 140264114440000] Epoch[8] Batch[10] avg_epoch_loss=7.812311\u001b[0m\n",
      "\u001b[34m[10/30/2023 19:15:48 INFO 140264114440000] #quality_metric: host=algo-1, epoch=8, batch=10 train loss <loss>=7.789088535308838\u001b[0m\n",
      "\u001b[34m[10/30/2023 19:15:48 INFO 140264114440000] Epoch[8] Batch [10]#011Speed: 895.42 samples/sec#011loss=7.789089\u001b[0m\n",
      "\u001b[34m[10/30/2023 19:15:48 INFO 140264114440000] processed a total of 1310 examples\u001b[0m\n",
      "\u001b[34m#metrics {\"StartTime\": 1698693346.5448403, \"EndTime\": 1698693348.5123448, \"Dimensions\": {\"Algorithm\": \"AWS/DeepAR\", \"Host\": \"algo-1\", \"Operation\": \"training\"}, \"Metrics\": {\"update.time\": {\"sum\": 1967.1540260314941, \"count\": 1, \"min\": 1967.1540260314941, \"max\": 1967.1540260314941}}}\u001b[0m\n",
      "\u001b[34m[10/30/2023 19:15:48 INFO 140264114440000] #throughput_metric: host=algo-1, train throughput=665.9056775320419 records/second\u001b[0m\n",
      "\u001b[34m[10/30/2023 19:15:48 INFO 140264114440000] #progress_metric: host=algo-1, completed 45.0 % of epochs\u001b[0m\n",
      "\u001b[34m[10/30/2023 19:15:48 INFO 140264114440000] #quality_metric: host=algo-1, epoch=8, train loss <loss>=7.812310738997026\u001b[0m\n",
      "\u001b[34m[10/30/2023 19:15:49 INFO 140264114440000] Epoch[9] Batch[0] avg_epoch_loss=7.774730\u001b[0m\n",
      "\u001b[34m[10/30/2023 19:15:49 INFO 140264114440000] #quality_metric: host=algo-1, epoch=9, batch=0 train loss <loss>=7.7747297286987305\u001b[0m\n",
      "\u001b[34m[10/30/2023 19:15:49 INFO 140264114440000] Epoch[9] Batch[5] avg_epoch_loss=7.747554\u001b[0m\n",
      "\u001b[34m[10/30/2023 19:15:49 INFO 140264114440000] #quality_metric: host=algo-1, epoch=9, batch=5 train loss <loss>=7.7475535074869795\u001b[0m\n",
      "\u001b[34m[10/30/2023 19:15:49 INFO 140264114440000] Epoch[9] Batch [5]#011Speed: 789.72 samples/sec#011loss=7.747554\u001b[0m\n",
      "\u001b[34m[10/30/2023 19:15:50 INFO 140264114440000] processed a total of 1223 examples\u001b[0m\n",
      "\u001b[34m#metrics {\"StartTime\": 1698693348.5124075, \"EndTime\": 1698693350.5063336, \"Dimensions\": {\"Algorithm\": \"AWS/DeepAR\", \"Host\": \"algo-1\", \"Operation\": \"training\"}, \"Metrics\": {\"update.time\": {\"sum\": 1993.6044216156006, \"count\": 1, \"min\": 1993.6044216156006, \"max\": 1993.6044216156006}}}\u001b[0m\n",
      "\u001b[34m[10/30/2023 19:15:50 INFO 140264114440000] #throughput_metric: host=algo-1, train throughput=613.4238672881704 records/second\u001b[0m\n",
      "\u001b[34m[10/30/2023 19:15:50 INFO 140264114440000] #progress_metric: host=algo-1, completed 50.0 % of epochs\u001b[0m\n",
      "\u001b[34m[10/30/2023 19:15:50 INFO 140264114440000] #quality_metric: host=algo-1, epoch=9, train loss <loss>=7.770031976699829\u001b[0m\n",
      "\u001b[34m[10/30/2023 19:15:51 INFO 140264114440000] Epoch[10] Batch[0] avg_epoch_loss=7.680807\u001b[0m\n",
      "\u001b[34m[10/30/2023 19:15:51 INFO 140264114440000] #quality_metric: host=algo-1, epoch=10, batch=0 train loss <loss>=7.680807113647461\u001b[0m\n",
      "\u001b[34m[10/30/2023 19:15:51 INFO 140264114440000] Epoch[10] Batch[5] avg_epoch_loss=7.677342\u001b[0m\n",
      "\u001b[34m[10/30/2023 19:15:51 INFO 140264114440000] #quality_metric: host=algo-1, epoch=10, batch=5 train loss <loss>=7.677342255910237\u001b[0m\n",
      "\u001b[34m[10/30/2023 19:15:51 INFO 140264114440000] Epoch[10] Batch [5]#011Speed: 929.03 samples/sec#011loss=7.677342\u001b[0m\n",
      "\u001b[34m[10/30/2023 19:15:52 INFO 140264114440000] Epoch[10] Batch[10] avg_epoch_loss=7.675426\u001b[0m\n",
      "\u001b[34m[10/30/2023 19:15:52 INFO 140264114440000] #quality_metric: host=algo-1, epoch=10, batch=10 train loss <loss>=7.673126125335694\u001b[0m\n",
      "\u001b[34m[10/30/2023 19:15:52 INFO 140264114440000] Epoch[10] Batch [10]#011Speed: 913.33 samples/sec#011loss=7.673126\u001b[0m\n",
      "\u001b[34m[10/30/2023 19:15:52 INFO 140264114440000] processed a total of 1293 examples\u001b[0m\n",
      "\u001b[34m#metrics {\"StartTime\": 1698693350.5064054, \"EndTime\": 1698693352.506025, \"Dimensions\": {\"Algorithm\": \"AWS/DeepAR\", \"Host\": \"algo-1\", \"Operation\": \"training\"}, \"Metrics\": {\"update.time\": {\"sum\": 1999.2821216583252, \"count\": 1, \"min\": 1999.2821216583252, \"max\": 1999.2821216583252}}}\u001b[0m\n",
      "\u001b[34m[10/30/2023 19:15:52 INFO 140264114440000] #throughput_metric: host=algo-1, train throughput=646.7019062390852 records/second\u001b[0m\n",
      "\u001b[34m[10/30/2023 19:15:52 INFO 140264114440000] #progress_metric: host=algo-1, completed 55.0 % of epochs\u001b[0m\n",
      "\u001b[34m[10/30/2023 19:15:52 INFO 140264114440000] #quality_metric: host=algo-1, epoch=10, train loss <loss>=7.675425832921809\u001b[0m\n",
      "\u001b[34m[10/30/2023 19:15:53 INFO 140264114440000] Epoch[11] Batch[0] avg_epoch_loss=7.716560\u001b[0m\n",
      "\u001b[34m[10/30/2023 19:15:53 INFO 140264114440000] #quality_metric: host=algo-1, epoch=11, batch=0 train loss <loss>=7.716560363769531\u001b[0m\n",
      "\u001b[34m[10/30/2023 19:15:53 INFO 140264114440000] Epoch[11] Batch[5] avg_epoch_loss=7.691978\u001b[0m\n",
      "\u001b[34m[10/30/2023 19:15:53 INFO 140264114440000] #quality_metric: host=algo-1, epoch=11, batch=5 train loss <loss>=7.6919777393341064\u001b[0m\n",
      "\u001b[34m[10/30/2023 19:15:53 INFO 140264114440000] Epoch[11] Batch [5]#011Speed: 916.82 samples/sec#011loss=7.691978\u001b[0m\n",
      "\u001b[34m[10/30/2023 19:15:54 INFO 140264114440000] Epoch[11] Batch[10] avg_epoch_loss=7.676425\u001b[0m\n",
      "\u001b[34m[10/30/2023 19:15:54 INFO 140264114440000] #quality_metric: host=algo-1, epoch=11, batch=10 train loss <loss>=7.657761573791504\u001b[0m\n",
      "\u001b[34m[10/30/2023 19:15:54 INFO 140264114440000] Epoch[11] Batch [10]#011Speed: 911.81 samples/sec#011loss=7.657762\u001b[0m\n",
      "\u001b[34m[10/30/2023 19:15:54 INFO 140264114440000] processed a total of 1289 examples\u001b[0m\n",
      "\u001b[34m#metrics {\"StartTime\": 1698693352.5060904, \"EndTime\": 1698693354.5099351, \"Dimensions\": {\"Algorithm\": \"AWS/DeepAR\", \"Host\": \"algo-1\", \"Operation\": \"training\"}, \"Metrics\": {\"update.time\": {\"sum\": 2003.577709197998, \"count\": 1, \"min\": 2003.577709197998, \"max\": 2003.577709197998}}}\u001b[0m\n",
      "\u001b[34m[10/30/2023 19:15:54 INFO 140264114440000] #throughput_metric: host=algo-1, train throughput=643.3151527512066 records/second\u001b[0m\n",
      "\u001b[34m[10/30/2023 19:15:54 INFO 140264114440000] #progress_metric: host=algo-1, completed 60.0 % of epochs\u001b[0m\n",
      "\u001b[34m[10/30/2023 19:15:54 INFO 140264114440000] #quality_metric: host=algo-1, epoch=11, train loss <loss>=7.676424936814741\u001b[0m\n",
      "\u001b[34m[10/30/2023 19:15:55 INFO 140264114440000] Epoch[12] Batch[0] avg_epoch_loss=7.681169\u001b[0m\n",
      "\u001b[34m[10/30/2023 19:15:55 INFO 140264114440000] #quality_metric: host=algo-1, epoch=12, batch=0 train loss <loss>=7.681168556213379\u001b[0m\n",
      "\u001b[34m[10/30/2023 19:15:55 INFO 140264114440000] Epoch[12] Batch[5] avg_epoch_loss=7.647929\u001b[0m\n",
      "\u001b[34m[10/30/2023 19:15:55 INFO 140264114440000] #quality_metric: host=algo-1, epoch=12, batch=5 train loss <loss>=7.647929430007935\u001b[0m\n",
      "\u001b[34m[10/30/2023 19:15:55 INFO 140264114440000] Epoch[12] Batch [5]#011Speed: 934.74 samples/sec#011loss=7.647929\u001b[0m\n",
      "\u001b[34m[10/30/2023 19:15:56 INFO 140264114440000] Epoch[12] Batch[10] avg_epoch_loss=7.615918\u001b[0m\n",
      "\u001b[34m[10/30/2023 19:15:56 INFO 140264114440000] #quality_metric: host=algo-1, epoch=12, batch=10 train loss <loss>=7.577505207061767\u001b[0m\n",
      "\u001b[34m[10/30/2023 19:15:56 INFO 140264114440000] Epoch[12] Batch [10]#011Speed: 892.19 samples/sec#011loss=7.577505\u001b[0m\n",
      "\u001b[34m[10/30/2023 19:15:56 INFO 140264114440000] processed a total of 1300 examples\u001b[0m\n",
      "\u001b[34m#metrics {\"StartTime\": 1698693354.5100143, \"EndTime\": 1698693356.472584, \"Dimensions\": {\"Algorithm\": \"AWS/DeepAR\", \"Host\": \"algo-1\", \"Operation\": \"training\"}, \"Metrics\": {\"update.time\": {\"sum\": 1962.2957706451416, \"count\": 1, \"min\": 1962.2957706451416, \"max\": 1962.2957706451416}}}\u001b[0m\n",
      "\u001b[34m[10/30/2023 19:15:56 INFO 140264114440000] #throughput_metric: host=algo-1, train throughput=662.4575317767524 records/second\u001b[0m\n",
      "\u001b[34m[10/30/2023 19:15:56 INFO 140264114440000] #progress_metric: host=algo-1, completed 65.0 % of epochs\u001b[0m\n",
      "\u001b[34m[10/30/2023 19:15:56 INFO 140264114440000] #quality_metric: host=algo-1, epoch=12, train loss <loss>=7.615918419577858\u001b[0m\n",
      "\u001b[34m[10/30/2023 19:15:57 INFO 140264114440000] Epoch[13] Batch[0] avg_epoch_loss=7.603844\u001b[0m\n",
      "\u001b[34m[10/30/2023 19:15:57 INFO 140264114440000] #quality_metric: host=algo-1, epoch=13, batch=0 train loss <loss>=7.603844165802002\u001b[0m\n",
      "\u001b[34m[10/30/2023 19:15:57 INFO 140264114440000] Epoch[13] Batch[5] avg_epoch_loss=7.544274\u001b[0m\n",
      "\u001b[34m[10/30/2023 19:15:57 INFO 140264114440000] #quality_metric: host=algo-1, epoch=13, batch=5 train loss <loss>=7.54427448908488\u001b[0m\n",
      "\u001b[34m[10/30/2023 19:15:57 INFO 140264114440000] Epoch[13] Batch [5]#011Speed: 911.37 samples/sec#011loss=7.544274\u001b[0m\n",
      "\u001b[34m[10/30/2023 19:15:58 INFO 140264114440000] processed a total of 1250 examples\u001b[0m\n",
      "\u001b[34m#metrics {\"StartTime\": 1698693356.4726486, \"EndTime\": 1698693358.3243215, \"Dimensions\": {\"Algorithm\": \"AWS/DeepAR\", \"Host\": \"algo-1\", \"Operation\": \"training\"}, \"Metrics\": {\"update.time\": {\"sum\": 1851.344108581543, \"count\": 1, \"min\": 1851.344108581543, \"max\": 1851.344108581543}}}\u001b[0m\n",
      "\u001b[34m[10/30/2023 19:15:58 INFO 140264114440000] #throughput_metric: host=algo-1, train throughput=675.1454757392773 records/second\u001b[0m\n",
      "\u001b[34m[10/30/2023 19:15:58 INFO 140264114440000] #progress_metric: host=algo-1, completed 70.0 % of epochs\u001b[0m\n",
      "\u001b[34m[10/30/2023 19:15:58 INFO 140264114440000] #quality_metric: host=algo-1, epoch=13, train loss <loss>=7.530001640319824\u001b[0m\n",
      "\u001b[34m[10/30/2023 19:15:58 INFO 140264114440000] Epoch[14] Batch[0] avg_epoch_loss=7.664755\u001b[0m\n",
      "\u001b[34m[10/30/2023 19:15:58 INFO 140264114440000] #quality_metric: host=algo-1, epoch=14, batch=0 train loss <loss>=7.664755344390869\u001b[0m\n",
      "\u001b[34m[10/30/2023 19:15:59 INFO 140264114440000] Epoch[14] Batch[5] avg_epoch_loss=7.601841\u001b[0m\n",
      "\u001b[34m[10/30/2023 19:15:59 INFO 140264114440000] #quality_metric: host=algo-1, epoch=14, batch=5 train loss <loss>=7.60184113184611\u001b[0m\n",
      "\u001b[34m[10/30/2023 19:15:59 INFO 140264114440000] Epoch[14] Batch [5]#011Speed: 910.27 samples/sec#011loss=7.601841\u001b[0m\n",
      "\u001b[34m[10/30/2023 19:16:00 INFO 140264114440000] processed a total of 1261 examples\u001b[0m\n",
      "\u001b[34m#metrics {\"StartTime\": 1698693358.324396, \"EndTime\": 1698693360.1516612, \"Dimensions\": {\"Algorithm\": \"AWS/DeepAR\", \"Host\": \"algo-1\", \"Operation\": \"training\"}, \"Metrics\": {\"update.time\": {\"sum\": 1826.7998695373535, \"count\": 1, \"min\": 1826.7998695373535, \"max\": 1826.7998695373535}}}\u001b[0m\n",
      "\u001b[34m[10/30/2023 19:16:00 INFO 140264114440000] #throughput_metric: host=algo-1, train throughput=690.2394850404883 records/second\u001b[0m\n",
      "\u001b[34m[10/30/2023 19:16:00 INFO 140264114440000] #progress_metric: host=algo-1, completed 75.0 % of epochs\u001b[0m\n",
      "\u001b[34m[10/30/2023 19:16:00 INFO 140264114440000] #quality_metric: host=algo-1, epoch=14, train loss <loss>=7.571534204483032\u001b[0m\n",
      "\u001b[34m[10/30/2023 19:16:00 INFO 140264114440000] Epoch[15] Batch[0] avg_epoch_loss=7.473810\u001b[0m\n",
      "\u001b[34m[10/30/2023 19:16:00 INFO 140264114440000] #quality_metric: host=algo-1, epoch=15, batch=0 train loss <loss>=7.473810195922852\u001b[0m\n",
      "\u001b[34m[10/30/2023 19:16:01 INFO 140264114440000] Epoch[15] Batch[5] avg_epoch_loss=7.508849\u001b[0m\n",
      "\u001b[34m[10/30/2023 19:16:01 INFO 140264114440000] #quality_metric: host=algo-1, epoch=15, batch=5 train loss <loss>=7.508848985036214\u001b[0m\n",
      "\u001b[34m[10/30/2023 19:16:01 INFO 140264114440000] Epoch[15] Batch [5]#011Speed: 918.23 samples/sec#011loss=7.508849\u001b[0m\n",
      "\u001b[34m[10/30/2023 19:16:02 INFO 140264114440000] Epoch[15] Batch[10] avg_epoch_loss=7.544822\u001b[0m\n",
      "\u001b[34m[10/30/2023 19:16:02 INFO 140264114440000] #quality_metric: host=algo-1, epoch=15, batch=10 train loss <loss>=7.587989044189453\u001b[0m\n",
      "\u001b[34m[10/30/2023 19:16:02 INFO 140264114440000] Epoch[15] Batch [10]#011Speed: 828.58 samples/sec#011loss=7.587989\u001b[0m\n",
      "\u001b[34m[10/30/2023 19:16:02 INFO 140264114440000] processed a total of 1293 examples\u001b[0m\n",
      "\u001b[34m#metrics {\"StartTime\": 1698693360.1517298, \"EndTime\": 1698693362.1736138, \"Dimensions\": {\"Algorithm\": \"AWS/DeepAR\", \"Host\": \"algo-1\", \"Operation\": \"training\"}, \"Metrics\": {\"update.time\": {\"sum\": 2021.4836597442627, \"count\": 1, \"min\": 2021.4836597442627, \"max\": 2021.4836597442627}}}\u001b[0m\n",
      "\u001b[34m[10/30/2023 19:16:02 INFO 140264114440000] #throughput_metric: host=algo-1, train throughput=639.598962061856 records/second\u001b[0m\n",
      "\u001b[34m[10/30/2023 19:16:02 INFO 140264114440000] #progress_metric: host=algo-1, completed 80.0 % of epochs\u001b[0m\n",
      "\u001b[34m[10/30/2023 19:16:02 INFO 140264114440000] #quality_metric: host=algo-1, epoch=15, train loss <loss>=7.544821739196777\u001b[0m\n",
      "\u001b[34m[10/30/2023 19:16:02 INFO 140264114440000] Epoch[16] Batch[0] avg_epoch_loss=7.631165\u001b[0m\n",
      "\u001b[34m[10/30/2023 19:16:02 INFO 140264114440000] #quality_metric: host=algo-1, epoch=16, batch=0 train loss <loss>=7.631165027618408\u001b[0m\n",
      "\u001b[34m[10/30/2023 19:16:03 INFO 140264114440000] Epoch[16] Batch[5] avg_epoch_loss=7.525743\u001b[0m\n",
      "\u001b[34m[10/30/2023 19:16:03 INFO 140264114440000] #quality_metric: host=algo-1, epoch=16, batch=5 train loss <loss>=7.525742530822754\u001b[0m\n",
      "\u001b[34m[10/30/2023 19:16:03 INFO 140264114440000] Epoch[16] Batch [5]#011Speed: 684.77 samples/sec#011loss=7.525743\u001b[0m\n",
      "\u001b[34m[10/30/2023 19:16:04 INFO 140264114440000] Epoch[16] Batch[10] avg_epoch_loss=7.556936\u001b[0m\n",
      "\u001b[34m[10/30/2023 19:16:04 INFO 140264114440000] #quality_metric: host=algo-1, epoch=16, batch=10 train loss <loss>=7.594367790222168\u001b[0m\n",
      "\u001b[34m[10/30/2023 19:16:04 INFO 140264114440000] Epoch[16] Batch [10]#011Speed: 874.62 samples/sec#011loss=7.594368\u001b[0m\n",
      "\u001b[34m[10/30/2023 19:16:04 INFO 140264114440000] processed a total of 1282 examples\u001b[0m\n",
      "\u001b[34m#metrics {\"StartTime\": 1698693362.1736805, \"EndTime\": 1698693364.461157, \"Dimensions\": {\"Algorithm\": \"AWS/DeepAR\", \"Host\": \"algo-1\", \"Operation\": \"training\"}, \"Metrics\": {\"update.time\": {\"sum\": 2287.1928215026855, \"count\": 1, \"min\": 2287.1928215026855, \"max\": 2287.1928215026855}}}\u001b[0m\n",
      "\u001b[34m[10/30/2023 19:16:04 INFO 140264114440000] #throughput_metric: host=algo-1, train throughput=560.4771388480002 records/second\u001b[0m\n",
      "\u001b[34m[10/30/2023 19:16:04 INFO 140264114440000] #progress_metric: host=algo-1, completed 85.0 % of epochs\u001b[0m\n",
      "\u001b[34m[10/30/2023 19:16:04 INFO 140264114440000] #quality_metric: host=algo-1, epoch=16, train loss <loss>=7.556935830549761\u001b[0m\n",
      "\u001b[34m[10/30/2023 19:16:05 INFO 140264114440000] Epoch[17] Batch[0] avg_epoch_loss=7.477136\u001b[0m\n",
      "\u001b[34m[10/30/2023 19:16:05 INFO 140264114440000] #quality_metric: host=algo-1, epoch=17, batch=0 train loss <loss>=7.47713565826416\u001b[0m\n",
      "\u001b[34m[10/30/2023 19:16:05 INFO 140264114440000] Epoch[17] Batch[5] avg_epoch_loss=7.471672\u001b[0m\n",
      "\u001b[34m[10/30/2023 19:16:05 INFO 140264114440000] #quality_metric: host=algo-1, epoch=17, batch=5 train loss <loss>=7.471672058105469\u001b[0m\n",
      "\u001b[34m[10/30/2023 19:16:05 INFO 140264114440000] Epoch[17] Batch [5]#011Speed: 929.67 samples/sec#011loss=7.471672\u001b[0m\n",
      "\u001b[34m[10/30/2023 19:16:06 INFO 140264114440000] processed a total of 1253 examples\u001b[0m\n",
      "\u001b[34m#metrics {\"StartTime\": 1698693364.4612231, \"EndTime\": 1698693366.3092515, \"Dimensions\": {\"Algorithm\": \"AWS/DeepAR\", \"Host\": \"algo-1\", \"Operation\": \"training\"}, \"Metrics\": {\"update.time\": {\"sum\": 1847.625494003296, \"count\": 1, \"min\": 1847.625494003296, \"max\": 1847.625494003296}}}\u001b[0m\n",
      "\u001b[34m[10/30/2023 19:16:06 INFO 140264114440000] #throughput_metric: host=algo-1, train throughput=678.1300217524433 records/second\u001b[0m\n",
      "\u001b[34m[10/30/2023 19:16:06 INFO 140264114440000] #progress_metric: host=algo-1, completed 90.0 % of epochs\u001b[0m\n",
      "\u001b[34m[10/30/2023 19:16:06 INFO 140264114440000] #quality_metric: host=algo-1, epoch=17, train loss <loss>=7.456584548950195\u001b[0m\n",
      "\u001b[34m[10/30/2023 19:16:06 INFO 140264114440000] Epoch[18] Batch[0] avg_epoch_loss=7.394756\u001b[0m\n",
      "\u001b[34m[10/30/2023 19:16:06 INFO 140264114440000] #quality_metric: host=algo-1, epoch=18, batch=0 train loss <loss>=7.394756317138672\u001b[0m\n",
      "\u001b[34m[10/30/2023 19:16:07 INFO 140264114440000] Epoch[18] Batch[5] avg_epoch_loss=7.461961\u001b[0m\n",
      "\u001b[34m[10/30/2023 19:16:07 INFO 140264114440000] #quality_metric: host=algo-1, epoch=18, batch=5 train loss <loss>=7.461960951487224\u001b[0m\n",
      "\u001b[34m[10/30/2023 19:16:07 INFO 140264114440000] Epoch[18] Batch [5]#011Speed: 916.52 samples/sec#011loss=7.461961\u001b[0m\n",
      "\u001b[34m[10/30/2023 19:16:08 INFO 140264114440000] processed a total of 1220 examples\u001b[0m\n",
      "\u001b[34m#metrics {\"StartTime\": 1698693366.3093235, \"EndTime\": 1698693368.1334898, \"Dimensions\": {\"Algorithm\": \"AWS/DeepAR\", \"Host\": \"algo-1\", \"Operation\": \"training\"}, \"Metrics\": {\"update.time\": {\"sum\": 1823.8599300384521, \"count\": 1, \"min\": 1823.8599300384521, \"max\": 1823.8599300384521}}}\u001b[0m\n",
      "\u001b[34m[10/30/2023 19:16:08 INFO 140264114440000] #throughput_metric: host=algo-1, train throughput=668.8736812522467 records/second\u001b[0m\n",
      "\u001b[34m[10/30/2023 19:16:08 INFO 140264114440000] #progress_metric: host=algo-1, completed 95.0 % of epochs\u001b[0m\n",
      "\u001b[34m[10/30/2023 19:16:08 INFO 140264114440000] #quality_metric: host=algo-1, epoch=18, train loss <loss>=7.457064294815064\u001b[0m\n",
      "\u001b[34m[10/30/2023 19:16:08 INFO 140264114440000] Epoch[19] Batch[0] avg_epoch_loss=7.446643\u001b[0m\n",
      "\u001b[34m[10/30/2023 19:16:08 INFO 140264114440000] #quality_metric: host=algo-1, epoch=19, batch=0 train loss <loss>=7.446642875671387\u001b[0m\n",
      "\u001b[34m[10/30/2023 19:16:09 INFO 140264114440000] Epoch[19] Batch[5] avg_epoch_loss=7.416501\u001b[0m\n",
      "\u001b[34m[10/30/2023 19:16:09 INFO 140264114440000] #quality_metric: host=algo-1, epoch=19, batch=5 train loss <loss>=7.416500965754191\u001b[0m\n",
      "\u001b[34m[10/30/2023 19:16:09 INFO 140264114440000] Epoch[19] Batch [5]#011Speed: 921.81 samples/sec#011loss=7.416501\u001b[0m\n",
      "\u001b[34m[10/30/2023 19:16:09 INFO 140264114440000] processed a total of 1254 examples\u001b[0m\n",
      "\u001b[34m#metrics {\"StartTime\": 1698693368.1335614, \"EndTime\": 1698693369.9870217, \"Dimensions\": {\"Algorithm\": \"AWS/DeepAR\", \"Host\": \"algo-1\", \"Operation\": \"training\"}, \"Metrics\": {\"update.time\": {\"sum\": 1853.1322479248047, \"count\": 1, \"min\": 1853.1322479248047, \"max\": 1853.1322479248047}}}\u001b[0m\n",
      "\u001b[34m[10/30/2023 19:16:09 INFO 140264114440000] #throughput_metric: host=algo-1, train throughput=676.6546043621851 records/second\u001b[0m\n",
      "\u001b[34m[10/30/2023 19:16:09 INFO 140264114440000] #progress_metric: host=algo-1, completed 100.0 % of epochs\u001b[0m\n",
      "\u001b[34m[10/30/2023 19:16:09 INFO 140264114440000] #quality_metric: host=algo-1, epoch=19, train loss <loss>=7.422566509246826\u001b[0m\n",
      "\u001b[34m[10/30/2023 19:16:09 INFO 140264114440000] Final loss: 7.422566509246826 (occurred at epoch 19)\u001b[0m\n",
      "\u001b[34m[10/30/2023 19:16:09 INFO 140264114440000] #quality_metric: host=algo-1, train final_loss <loss>=7.422566509246826\u001b[0m\n",
      "\u001b[34m[10/30/2023 19:16:09 INFO 140264114440000] Worker algo-1 finished training.\u001b[0m\n",
      "\u001b[34m[10/30/2023 19:16:09 WARNING 140264114440000] wait_for_all_workers will not sync workers since the kv store is not running distributed\u001b[0m\n",
      "\u001b[34m[10/30/2023 19:16:09 INFO 140264114440000] All workers finished. Serializing model for prediction.\u001b[0m\n",
      "\u001b[34m#metrics {\"StartTime\": 1698693369.9870899, \"EndTime\": 1698693370.1972928, \"Dimensions\": {\"Algorithm\": \"AWS/DeepAR\", \"Host\": \"algo-1\", \"Operation\": \"training\"}, \"Metrics\": {\"get_graph.time\": {\"sum\": 209.43331718444824, \"count\": 1, \"min\": 209.43331718444824, \"max\": 209.43331718444824}}}\u001b[0m\n",
      "\u001b[34m[10/30/2023 19:16:10 INFO 140264114440000] Number of GPUs being used: 0\u001b[0m\n",
      "\u001b[34m#metrics {\"StartTime\": 1698693370.1973522, \"EndTime\": 1698693370.2700942, \"Dimensions\": {\"Algorithm\": \"AWS/DeepAR\", \"Host\": \"algo-1\", \"Operation\": \"training\"}, \"Metrics\": {\"finalize.time\": {\"sum\": 282.268762588501, \"count\": 1, \"min\": 282.268762588501, \"max\": 282.268762588501}}}\u001b[0m\n",
      "\u001b[34m[10/30/2023 19:16:10 INFO 140264114440000] Serializing to /opt/ml/model/model_algo-1\u001b[0m\n",
      "\u001b[34m[10/30/2023 19:16:10 INFO 140264114440000] Saved checkpoint to \"/opt/ml/model/model_algo-1-0000.params\"\u001b[0m\n",
      "\u001b[34m#metrics {\"StartTime\": 1698693370.2701545, \"EndTime\": 1698693370.2805107, \"Dimensions\": {\"Algorithm\": \"AWS/DeepAR\", \"Host\": \"algo-1\", \"Operation\": \"training\"}, \"Metrics\": {\"model.serialize.time\": {\"sum\": 10.31494140625, \"count\": 1, \"min\": 10.31494140625, \"max\": 10.31494140625}}}\u001b[0m\n",
      "\u001b[34m[10/30/2023 19:16:10 INFO 140264114440000] Successfully serialized the model for prediction.\u001b[0m\n",
      "\u001b[34m[10/30/2023 19:16:10 INFO 140264114440000] #memory_usage::<batchbuffer> = 16.4599609375 mb\u001b[0m\n",
      "\u001b[34m[10/30/2023 19:16:10 INFO 140264114440000] Evaluating model accuracy on testset using 100 samples\u001b[0m\n",
      "\u001b[34m#metrics {\"StartTime\": 1698693370.2805536, \"EndTime\": 1698693370.2858303, \"Dimensions\": {\"Algorithm\": \"AWS/DeepAR\", \"Host\": \"algo-1\", \"Operation\": \"training\"}, \"Metrics\": {\"model.bind.time\": {\"sum\": 0.03457069396972656, \"count\": 1, \"min\": 0.03457069396972656, \"max\": 0.03457069396972656}}}\u001b[0m\n",
      "\u001b[34m#metrics {\"StartTime\": 1698693370.2858865, \"EndTime\": 1698693373.5778043, \"Dimensions\": {\"Algorithm\": \"AWS/DeepAR\", \"Host\": \"algo-1\", \"Operation\": \"training\"}, \"Metrics\": {\"model.score.time\": {\"sum\": 3292.0048236846924, \"count\": 1, \"min\": 3292.0048236846924, \"max\": 3292.0048236846924}}}\u001b[0m\n",
      "\u001b[34m[10/30/2023 19:16:13 INFO 140264114440000] #test_score (algo-1, RMSE): 935.3906848655985\u001b[0m\n",
      "\u001b[34m[10/30/2023 19:16:13 INFO 140264114440000] #test_score (algo-1, mean_absolute_QuantileLoss): 14455.563473553128\u001b[0m\n",
      "\u001b[34m[10/30/2023 19:16:13 INFO 140264114440000] #test_score (algo-1, mean_wQuantileLoss): 0.1460497234059744\u001b[0m\n",
      "\u001b[34m[10/30/2023 19:16:13 INFO 140264114440000] #test_score (algo-1, wQuantileLoss[0.1]): 0.10609624552741438\u001b[0m\n",
      "\u001b[34m[10/30/2023 19:16:13 INFO 140264114440000] #test_score (algo-1, wQuantileLoss[0.2]): 0.14955802884412078\u001b[0m\n",
      "\u001b[34m[10/30/2023 19:16:13 INFO 140264114440000] #test_score (algo-1, wQuantileLoss[0.3]): 0.16362878403292244\u001b[0m\n",
      "\u001b[34m[10/30/2023 19:16:13 INFO 140264114440000] #test_score (algo-1, wQuantileLoss[0.4]): 0.1676460580841126\u001b[0m\n",
      "\u001b[34m[10/30/2023 19:16:13 INFO 140264114440000] #test_score (algo-1, wQuantileLoss[0.5]): 0.16728041204956268\u001b[0m\n",
      "\u001b[34m[10/30/2023 19:16:13 INFO 140264114440000] #test_score (algo-1, wQuantileLoss[0.6]): 0.16930410174176305\u001b[0m\n",
      "\u001b[34m[10/30/2023 19:16:13 INFO 140264114440000] #test_score (algo-1, wQuantileLoss[0.7]): 0.1536755005707287\u001b[0m\n",
      "\u001b[34m[10/30/2023 19:16:13 INFO 140264114440000] #test_score (algo-1, wQuantileLoss[0.8]): 0.13135967384329975\u001b[0m\n",
      "\u001b[34m[10/30/2023 19:16:13 INFO 140264114440000] #test_score (algo-1, wQuantileLoss[0.9]): 0.1058987059598452\u001b[0m\n",
      "\u001b[34m[10/30/2023 19:16:13 INFO 140264114440000] #quality_metric: host=algo-1, test RMSE <loss>=935.3906848655985\u001b[0m\n",
      "\u001b[34m[10/30/2023 19:16:13 INFO 140264114440000] #quality_metric: host=algo-1, test mean_wQuantileLoss <loss>=0.1460497234059744\u001b[0m\n",
      "\u001b[34m#metrics {\"StartTime\": 1698693373.5778859, \"EndTime\": 1698693373.6010144, \"Dimensions\": {\"Algorithm\": \"AWS/DeepAR\", \"Host\": \"algo-1\", \"Operation\": \"training\"}, \"Metrics\": {\"setuptime\": {\"sum\": 5.434989929199219, \"count\": 1, \"min\": 5.434989929199219, \"max\": 5.434989929199219}, \"totaltime\": {\"sum\": 43197.312355041504, \"count\": 1, \"min\": 43197.312355041504, \"max\": 43197.312355041504}}}\u001b[0m\n",
      "\n",
      "2023-10-30 19:16:34 Uploading - Uploading generated training model\n",
      "2023-10-30 19:16:34 Completed - Training job completed\n",
      "Training seconds: 168\n",
      "Billable seconds: 65\n",
      "Managed Spot Training savings: 61.3%\n"
     ]
    }
   ],
   "source": [
    "deepar.fit(inputs=data_channels)"
   ]
  },
  {
   "cell_type": "markdown",
   "id": "248f7ee3-1e42-420e-900d-9446533100c5",
   "metadata": {},
   "source": [
    "## Deploy e Previsões"
   ]
  },
  {
   "cell_type": "code",
   "execution_count": 35,
   "id": "98263328-be3f-4f43-992b-429919fd917f",
   "metadata": {
    "tags": []
   },
   "outputs": [
    {
     "name": "stdout",
     "output_type": "stream",
     "text": [
      "Job name: deepar-bike-2023-10-30-19-12-09-965\n"
     ]
    }
   ],
   "source": [
    "job_name = deepar.latest_training_job.name\n",
    "print(f'Job name: {job_name}')"
   ]
  },
  {
   "cell_type": "code",
   "execution_count": 36,
   "id": "4772b80c-435c-4987-92d4-32b2441aa322",
   "metadata": {
    "tags": []
   },
   "outputs": [
    {
     "name": "stderr",
     "output_type": "stream",
     "text": [
      "INFO:sagemaker:Creating model with name: deepar-bike-2023-10-30-19-12-09-965\n",
      "INFO:sagemaker:Creating endpoint-config with name deepar-bike-2023-10-30-19-12-09-965\n",
      "INFO:sagemaker:Creating endpoint with name deepar-bike-2023-10-30-19-12-09-965\n"
     ]
    },
    {
     "name": "stdout",
     "output_type": "stream",
     "text": [
      "------!"
     ]
    }
   ],
   "source": [
    "endpoint = session.endpoint_from_job(\n",
    "    job_name=job_name, initial_instance_count=1, instance_type='ml.m5.xlarge',\n",
    "    image_uri=container, role=role\n",
    ")"
   ]
  },
  {
   "cell_type": "code",
   "execution_count": 37,
   "id": "fa8df431-79d9-4c09-905f-ebc8eaab1d68",
   "metadata": {
    "tags": []
   },
   "outputs": [],
   "source": [
    "class DeepARPredictor(sagemaker.predictor.Predictor):\n",
    "    \n",
    "\n",
    "    def set_prediction_parameters(self, freq, prediction_length):\n",
    "        \"\"\"Set the time frequency and prediction length parameters. \n",
    "          This method **must** be called before being able to use `predict`.\n",
    "        \n",
    "        Parameters:\n",
    "        freq -- string indicating the time frequency\n",
    "        prediction_length -- integer, number of predicted time points\n",
    "        \n",
    "        Return value: none.\n",
    "        \"\"\"\n",
    "        self.freq = freq\n",
    "        self.prediction_length = prediction_length\n",
    "        \n",
    "    def predict(self, ts, cat=None, dynamic_feat=None, \n",
    "                encoding=\"utf-8\", num_samples=100, quantiles=[\"0.1\", \"0.5\", \"0.9\"]):\n",
    "        \"\"\"Requests the prediction of for the time series listed in `ts`, \n",
    "           each with the (optional) corresponding category listed in `cat`.\n",
    "        \n",
    "        Parameters:\n",
    "        ts -- list of `pandas.Series` objects, the time series to predict\n",
    "        cat -- list of integers (default: None)\n",
    "        encoding -- string, encoding to use for the request (default: \"utf-8\")\n",
    "        num_samples -- integer, number of samples to compute at prediction time (default: 100)\n",
    "        quantiles -- list of strings specifying the quantiles to compute (default: [\"0.1\", \"0.5\", \"0.9\"])\n",
    "        \n",
    "        Return value: list of `pandas.DataFrame` objects, each containing the predictions\n",
    "        \"\"\"\n",
    "        prediction_times = [x.index[-1] + datetime.timedelta(hours=1) for x in ts] \n",
    "        \n",
    "        req = self.__encode_request(ts, cat, dynamic_feat, encoding, num_samples, quantiles)\n",
    "        res = super(DeepARPredictor, self).predict(req)\n",
    "        return self.__decode_response(res, prediction_times, encoding)\n",
    "    \n",
    "    def __encode_request(self, ts, cat, dynamic_feat, encoding, num_samples, quantiles):\n",
    "        \n",
    "        instances = [series_to_obj(ts[k]) for k in range(len(ts))]\n",
    "        \n",
    "        configuration = {\"num_samples\": num_samples, \"output_types\": [\"quantiles\"], \"quantiles\": quantiles}\n",
    "        http_request_data = {\"instances\": instances, \"configuration\": configuration}\n",
    "        return json.dumps(http_request_data).encode(encoding)\n",
    "    \n",
    "    def __decode_response(self, response, prediction_times, encoding):\n",
    "        response_data = json.loads(response.decode(encoding))\n",
    "        list_of_df = []\n",
    "        for k in range(len(prediction_times)):\n",
    "            prediction_index = pd.date_range(start=prediction_times[k], freq=self.freq, periods=self.prediction_length)\n",
    "            list_of_df.append(pd.DataFrame(data=response_data['predictions'][k]['quantiles'], index=prediction_index))\n",
    "        return list_of_df"
   ]
  },
  {
   "cell_type": "code",
   "execution_count": 38,
   "id": "731a0304-7805-49f0-9c9e-27f0c5610d9f",
   "metadata": {
    "tags": []
   },
   "outputs": [],
   "source": [
    "predictor = DeepARPredictor(\n",
    "    endpoint_name=endpoint, sagemaker_session=session\n",
    ")\n",
    "predictor.set_prediction_parameters(freq, prediction_length)\n",
    "predictor.serializer.content_type = 'application/json'"
   ]
  },
  {
   "cell_type": "code",
   "execution_count": 39,
   "id": "97a93fa3-fbe3-4d24-806b-85885e6068b2",
   "metadata": {
    "tags": []
   },
   "outputs": [],
   "source": [
    "previsoes = predictor.predict(serie_temporal_treinamento)"
   ]
  },
  {
   "cell_type": "code",
   "execution_count": 40,
   "id": "ceaea1de-3533-432c-9d3e-168fbae561a4",
   "metadata": {
    "tags": []
   },
   "outputs": [
    {
     "data": {
      "text/plain": [
       "[                             0.1          0.5          0.9\n",
       " 2012-11-19 01:00:00   238.742859  1003.450623  1750.551392\n",
       " 2012-11-20 01:00:00  -330.121094   -48.007965   211.247116\n",
       " 2012-11-21 01:00:00   -84.192314    19.361382   150.908554\n",
       " 2012-11-22 01:00:00    13.289589    70.687469   159.600311\n",
       " 2012-11-23 01:00:00   -15.812603    47.459831   102.996765\n",
       " 2012-11-24 01:00:00   -13.958496    45.170258   108.302956\n",
       " 2012-11-25 01:00:00    30.747566    93.938766   169.159531\n",
       " 2012-11-26 01:00:00   -10.768929    38.230789   111.503792\n",
       " 2012-11-27 01:00:00   -65.250175    61.886505   164.171631\n",
       " 2012-11-28 01:00:00   -13.849205    94.162354   239.384888\n",
       " 2012-11-29 01:00:00    96.096008   394.003571   774.769653\n",
       " 2012-11-30 01:00:00  1401.172852  2336.605957  3760.019043\n",
       " 2012-12-01 01:00:00  3379.324951  4408.420898  6015.231934\n",
       " 2012-12-02 01:00:00  3295.334229  5754.137207  7752.624023\n",
       " 2012-12-03 01:00:00  4036.125488  5877.678223  7745.976562\n",
       " 2012-12-04 01:00:00  4294.226074  5762.794434  6932.662598\n",
       " 2012-12-05 01:00:00  4182.132812  5564.190430  6678.721680\n",
       " 2012-12-06 01:00:00  4773.382812  5672.892578  7253.717773\n",
       " 2012-12-07 01:00:00  4596.539551  5729.921387  7241.139648\n",
       " 2012-12-08 01:00:00  4682.957520  5711.469238  6671.325684\n",
       " 2012-12-09 01:00:00  4910.779297  5821.617188  6945.191406\n",
       " 2012-12-10 01:00:00  4968.780273  5881.083984  6866.666992\n",
       " 2012-12-11 01:00:00  4815.149902  5694.947266  7000.743164\n",
       " 2012-12-12 01:00:00  4854.842773  5810.331543  7007.219238\n",
       " 2012-12-13 01:00:00  4922.399902  6004.696777  7084.729492\n",
       " 2012-12-14 01:00:00  4636.273438  5806.306641  6891.164551\n",
       " 2012-12-15 01:00:00  4611.412598  5851.798828  7127.507812\n",
       " 2012-12-16 01:00:00  4864.865234  5890.431641  7377.236328\n",
       " 2012-12-17 01:00:00  3600.255127  5853.049316  7612.784180\n",
       " 2012-12-18 01:00:00  2131.481934  4275.066406  6357.602539]"
      ]
     },
     "execution_count": 40,
     "metadata": {},
     "output_type": "execute_result"
    }
   ],
   "source": [
    "previsoes"
   ]
  },
  {
   "cell_type": "code",
   "execution_count": 41,
   "id": "365c394f-c49d-4dae-ba75-cf960ca827ec",
   "metadata": {
    "tags": []
   },
   "outputs": [
    {
     "data": {
      "image/png": "[encoded data removed]",
      "text/plain": [
       "<Figure size 1200x600 with 1 Axes>"
      ]
     },
     "metadata": {},
     "output_type": "display_data"
    }
   ],
   "source": [
    "for k in range(len(previsoes)):\n",
    "    plt.figure(figsize=(12,6))\n",
    "    previsoes[k]['0.5'].plot(label = 'Mediana', color = 'red')\n",
    "    #serie_temporal_teste[k].plot(label = 'Alvo')\n",
    "    serie_temporal_teste[k][-prediction_length - context_length:].plot(label = 'Alvo')\n",
    "    p10 = previsoes[k]['0.1']\n",
    "    p90 = previsoes[k]['0.9']\n",
    "    plt.fill_between(p10.index, p10, p90, color = 'y', alpha = 0.5, label = 'Intervalo de confiança')\n",
    "    plt.legend()\n",
    "    plt.show()"
   ]
  },
  {
   "cell_type": "code",
   "execution_count": 42,
   "id": "ba73986b-db2e-4cfd-930b-d32fcc76b321",
   "metadata": {
    "tags": []
   },
   "outputs": [
    {
     "data": {
      "text/plain": [
       "array([1003.45062256,  -48.00796509,   19.36138153,   70.68746948,\n",
       "         47.45983124,   45.17025757,   93.93876648,   38.23078918,\n",
       "         61.88650513,   94.16235352,  394.00357056, 2336.60595703,\n",
       "       4408.42089844, 5754.13720703, 5877.67822266, 5762.79443359,\n",
       "       5564.19042969, 5672.89257812, 5729.92138672, 5711.46923828,\n",
       "       5821.6171875 , 5881.08398438, 5694.94726562, 5810.33154297,\n",
       "       6004.69677734, 5806.30664062, 5851.79882812, 5890.43164062,\n",
       "       5853.04931641, 4275.06640625])"
      ]
     },
     "execution_count": 42,
     "metadata": {},
     "output_type": "execute_result"
    }
   ],
   "source": [
    "previsoes2 = previsoes[0]['0.5'].values\n",
    "previsoes2"
   ]
  },
  {
   "cell_type": "code",
   "execution_count": 43,
   "id": "fae5c947-d3b4-4c23-85b0-197f9af35c04",
   "metadata": {
    "tags": []
   },
   "outputs": [
    {
     "data": {
      "text/plain": [
       "30"
      ]
     },
     "execution_count": 43,
     "metadata": {},
     "output_type": "execute_result"
    }
   ],
   "source": [
    "df_teste = base.iloc[689:,:]\n",
    "len(df_teste)"
   ]
  },
  {
   "cell_type": "code",
   "execution_count": 44,
   "id": "5712db03-cfe5-4759-9218-ecca8e71a7d6",
   "metadata": {
    "tags": []
   },
   "outputs": [
    {
     "data": {
      "text/plain": [
       "array([   0,    0,    0,    0,    0,    0,    0,    0,    0,    0,    0,\n",
       "       5191, 4649, 6234, 6606, 5729, 5375, 5008, 5582, 3228, 5170, 5501,\n",
       "       5319, 5532, 5611, 5047, 3786, 4585, 5557, 5267])"
      ]
     },
     "execution_count": 44,
     "metadata": {},
     "output_type": "execute_result"
    }
   ],
   "source": [
    "esperado = df_teste['count'].values\n",
    "esperado"
   ]
  },
  {
   "cell_type": "code",
   "execution_count": 45,
   "id": "6c1bdeee-19d0-46c5-a2c6-8512f3411716",
   "metadata": {
    "tags": []
   },
   "outputs": [
    {
     "name": "stdout",
     "output_type": "stream",
     "text": [
      "MAE: 574.5660690307733 \n",
      "MSE: 846481.8997423036\n"
     ]
    }
   ],
   "source": [
    "mae = mean_absolute_error(esperado, previsoes2)\n",
    "mse = mean_squared_error(esperado, previsoes2)\n",
    "print(f'MAE: {mae} \\nMSE: {mse}')"
   ]
  }
 ],
 "metadata": {
  "availableInstances": [
   {
    "_defaultOrder": 0,
    "_isFastLaunch": true,
    "category": "General purpose",
    "gpuNum": 0,
    "hideHardwareSpecs": false,
    "memoryGiB": 4,
    "name": "ml.t3.medium",
    "vcpuNum": 2
   },
   {
    "_defaultOrder": 1,
    "_isFastLaunch": false,
    "category": "General purpose",
    "gpuNum": 0,
    "hideHardwareSpecs": false,
    "memoryGiB": 8,
    "name": "ml.t3.large",
    "vcpuNum": 2
   },
   {
    "_defaultOrder": 2,
    "_isFastLaunch": false,
    "category": "General purpose",
    "gpuNum": 0,
    "hideHardwareSpecs": false,
    "memoryGiB": 16,
    "name": "ml.t3.xlarge",
    "vcpuNum": 4
   },
   {
    "_defaultOrder": 3,
    "_isFastLaunch": false,
    "category": "General purpose",
    "gpuNum": 0,
    "hideHardwareSpecs": false,
    "memoryGiB": 32,
    "name": "ml.t3.2xlarge",
    "vcpuNum": 8
   },
   {
    "_defaultOrder": 4,
    "_isFastLaunch": true,
    "category": "General purpose",
    "gpuNum": 0,
    "hideHardwareSpecs": false,
    "memoryGiB": 8,
    "name": "ml.m5.large",
    "vcpuNum": 2
   },
   {
    "_defaultOrder": 5,
    "_isFastLaunch": false,
    "category": "General purpose",
    "gpuNum": 0,
    "hideHardwareSpecs": false,
    "memoryGiB": 16,
    "name": "ml.m5.xlarge",
    "vcpuNum": 4
   },
   {
    "_defaultOrder": 6,
    "_isFastLaunch": false,
    "category": "General purpose",
    "gpuNum": 0,
    "hideHardwareSpecs": false,
    "memoryGiB": 32,
    "name": "ml.m5.2xlarge",
    "vcpuNum": 8
   },
   {
    "_defaultOrder": 7,
    "_isFastLaunch": false,
    "category": "General purpose",
    "gpuNum": 0,
    "hideHardwareSpecs": false,
    "memoryGiB": 64,
    "name": "ml.m5.4xlarge",
    "vcpuNum": 16
   },
   {
    "_defaultOrder": 8,
    "_isFastLaunch": false,
    "category": "General purpose",
    "gpuNum": 0,
    "hideHardwareSpecs": false,
    "memoryGiB": 128,
    "name": "ml.m5.8xlarge",
    "vcpuNum": 32
   },
   {
    "_defaultOrder": 9,
    "_isFastLaunch": false,
    "category": "General purpose",
    "gpuNum": 0,
    "hideHardwareSpecs": false,
    "memoryGiB": 192,
    "name": "ml.m5.12xlarge",
    "vcpuNum": 48
   },
   {
    "_defaultOrder": 10,
    "_isFastLaunch": false,
    "category": "General purpose",
    "gpuNum": 0,
    "hideHardwareSpecs": false,
    "memoryGiB": 256,
    "name": "ml.m5.16xlarge",
    "vcpuNum": 64
   },
   {
    "_defaultOrder": 11,
    "_isFastLaunch": false,
    "category": "General purpose",
    "gpuNum": 0,
    "hideHardwareSpecs": false,
    "memoryGiB": 384,
    "name": "ml.m5.24xlarge",
    "vcpuNum": 96
   },
   {
    "_defaultOrder": 12,
    "_isFastLaunch": false,
    "category": "General purpose",
    "gpuNum": 0,
    "hideHardwareSpecs": false,
    "memoryGiB": 8,
    "name": "ml.m5d.large",
    "vcpuNum": 2
   },
   {
    "_defaultOrder": 13,
    "_isFastLaunch": false,
    "category": "General purpose",
    "gpuNum": 0,
    "hideHardwareSpecs": false,
    "memoryGiB": 16,
    "name": "ml.m5d.xlarge",
    "vcpuNum": 4
   },
   {
    "_defaultOrder": 14,
    "_isFastLaunch": false,
    "category": "General purpose",
    "gpuNum": 0,
    "hideHardwareSpecs": false,
    "memoryGiB": 32,
    "name": "ml.m5d.2xlarge",
    "vcpuNum": 8
   },
   {
    "_defaultOrder": 15,
    "_isFastLaunch": false,
    "category": "General purpose",
    "gpuNum": 0,
    "hideHardwareSpecs": false,
    "memoryGiB": 64,
    "name": "ml.m5d.4xlarge",
    "vcpuNum": 16
   },
   {
    "_defaultOrder": 16,
    "_isFastLaunch": false,
    "category": "General purpose",
    "gpuNum": 0,
    "hideHardwareSpecs": false,
    "memoryGiB": 128,
    "name": "ml.m5d.8xlarge",
    "vcpuNum": 32
   },
   {
    "_defaultOrder": 17,
    "_isFastLaunch": false,
    "category": "General purpose",
    "gpuNum": 0,
    "hideHardwareSpecs": false,
    "memoryGiB": 192,
    "name": "ml.m5d.12xlarge",
    "vcpuNum": 48
   },
   {
    "_defaultOrder": 18,
    "_isFastLaunch": false,
    "category": "General purpose",
    "gpuNum": 0,
    "hideHardwareSpecs": false,
    "memoryGiB": 256,
    "name": "ml.m5d.16xlarge",
    "vcpuNum": 64
   },
   {
    "_defaultOrder": 19,
    "_isFastLaunch": false,
    "category": "General purpose",
    "gpuNum": 0,
    "hideHardwareSpecs": false,
    "memoryGiB": 384,
    "name": "ml.m5d.24xlarge",
    "vcpuNum": 96
   },
   {
    "_defaultOrder": 20,
    "_isFastLaunch": false,
    "category": "General purpose",
    "gpuNum": 0,
    "hideHardwareSpecs": true,
    "memoryGiB": 0,
    "name": "ml.geospatial.interactive",
    "supportedImageNames": [
     "sagemaker-geospatial-v1-0"
    ],
    "vcpuNum": 0
   },
   {
    "_defaultOrder": 21,
    "_isFastLaunch": true,
    "category": "Compute optimized",
    "gpuNum": 0,
    "hideHardwareSpecs": false,
    "memoryGiB": 4,
    "name": "ml.c5.large",
    "vcpuNum": 2
   },
   {
    "_defaultOrder": 22,
    "_isFastLaunch": false,
    "category": "Compute optimized",
    "gpuNum": 0,
    "hideHardwareSpecs": false,
    "memoryGiB": 8,
    "name": "ml.c5.xlarge",
    "vcpuNum": 4
   },
   {
    "_defaultOrder": 23,
    "_isFastLaunch": false,
    "category": "Compute optimized",
    "gpuNum": 0,
    "hideHardwareSpecs": false,
    "memoryGiB": 16,
    "name": "ml.c5.2xlarge",
    "vcpuNum": 8
   },
   {
    "_defaultOrder": 24,
    "_isFastLaunch": false,
    "category": "Compute optimized",
    "gpuNum": 0,
    "hideHardwareSpecs": false,
    "memoryGiB": 32,
    "name": "ml.c5.4xlarge",
    "vcpuNum": 16
   },
   {
    "_defaultOrder": 25,
    "_isFastLaunch": false,
    "category": "Compute optimized",
    "gpuNum": 0,
    "hideHardwareSpecs": false,
    "memoryGiB": 72,
    "name": "ml.c5.9xlarge",
    "vcpuNum": 36
   },
   {
    "_defaultOrder": 26,
    "_isFastLaunch": false,
    "category": "Compute optimized",
    "gpuNum": 0,
    "hideHardwareSpecs": false,
    "memoryGiB": 96,
    "name": "ml.c5.12xlarge",
    "vcpuNum": 48
   },
   {
    "_defaultOrder": 27,
    "_isFastLaunch": false,
    "category": "Compute optimized",
    "gpuNum": 0,
    "hideHardwareSpecs": false,
    "memoryGiB": 144,
    "name": "ml.c5.18xlarge",
    "vcpuNum": 72
   },
   {
    "_defaultOrder": 28,
    "_isFastLaunch": false,
    "category": "Compute optimized",
    "gpuNum": 0,
    "hideHardwareSpecs": false,
    "memoryGiB": 192,
    "name": "ml.c5.24xlarge",
    "vcpuNum": 96
   },
   {
    "_defaultOrder": 29,
    "_isFastLaunch": true,
    "category": "Accelerated computing",
    "gpuNum": 1,
    "hideHardwareSpecs": false,
    "memoryGiB": 16,
    "name": "ml.g4dn.xlarge",
    "vcpuNum": 4
   },
   {
    "_defaultOrder": 30,
    "_isFastLaunch": false,
    "category": "Accelerated computing",
    "gpuNum": 1,
    "hideHardwareSpecs": false,
    "memoryGiB": 32,
    "name": "ml.g4dn.2xlarge",
    "vcpuNum": 8
   },
   {
    "_defaultOrder": 31,
    "_isFastLaunch": false,
    "category": "Accelerated computing",
    "gpuNum": 1,
    "hideHardwareSpecs": false,
    "memoryGiB": 64,
    "name": "ml.g4dn.4xlarge",
    "vcpuNum": 16
   },
   {
    "_defaultOrder": 32,
    "_isFastLaunch": false,
    "category": "Accelerated computing",
    "gpuNum": 1,
    "hideHardwareSpecs": false,
    "memoryGiB": 128,
    "name": "ml.g4dn.8xlarge",
    "vcpuNum": 32
   },
   {
    "_defaultOrder": 33,
    "_isFastLaunch": false,
    "category": "Accelerated computing",
    "gpuNum": 4,
    "hideHardwareSpecs": false,
    "memoryGiB": 192,
    "name": "ml.g4dn.12xlarge",
    "vcpuNum": 48
   },
   {
    "_defaultOrder": 34,
    "_isFastLaunch": false,
    "category": "Accelerated computing",
    "gpuNum": 1,
    "hideHardwareSpecs": false,
    "memoryGiB": 256,
    "name": "ml.g4dn.16xlarge",
    "vcpuNum": 64
   },
   {
    "_defaultOrder": 35,
    "_isFastLaunch": false,
    "category": "Accelerated computing",
    "gpuNum": 1,
    "hideHardwareSpecs": false,
    "memoryGiB": 61,
    "name": "ml.p3.2xlarge",
    "vcpuNum": 8
   },
   {
    "_defaultOrder": 36,
    "_isFastLaunch": false,
    "category": "Accelerated computing",
    "gpuNum": 4,
    "hideHardwareSpecs": false,
    "memoryGiB": 244,
    "name": "ml.p3.8xlarge",
    "vcpuNum": 32
   },
   {
    "_defaultOrder": 37,
    "_isFastLaunch": false,
    "category": "Accelerated computing",
    "gpuNum": 8,
    "hideHardwareSpecs": false,
    "memoryGiB": 488,
    "name": "ml.p3.16xlarge",
    "vcpuNum": 64
   },
   {
    "_defaultOrder": 38,
    "_isFastLaunch": false,
    "category": "Accelerated computing",
    "gpuNum": 8,
    "hideHardwareSpecs": false,
    "memoryGiB": 768,
    "name": "ml.p3dn.24xlarge",
    "vcpuNum": 96
   },
   {
    "_defaultOrder": 39,
    "_isFastLaunch": false,
    "category": "Memory Optimized",
    "gpuNum": 0,
    "hideHardwareSpecs": false,
    "memoryGiB": 16,
    "name": "ml.r5.large",
    "vcpuNum": 2
   },
   {
    "_defaultOrder": 40,
    "_isFastLaunch": false,
    "category": "Memory Optimized",
    "gpuNum": 0,
    "hideHardwareSpecs": false,
    "memoryGiB": 32,
    "name": "ml.r5.xlarge",
    "vcpuNum": 4
   },
   {
    "_defaultOrder": 41,
    "_isFastLaunch": false,
    "category": "Memory Optimized",
    "gpuNum": 0,
    "hideHardwareSpecs": false,
    "memoryGiB": 64,
    "name": "ml.r5.2xlarge",
    "vcpuNum": 8
   },
   {
    "_defaultOrder": 42,
    "_isFastLaunch": false,
    "category": "Memory Optimized",
    "gpuNum": 0,
    "hideHardwareSpecs": false,
    "memoryGiB": 128,
    "name": "ml.r5.4xlarge",
    "vcpuNum": 16
   },
   {
    "_defaultOrder": 43,
    "_isFastLaunch": false,
    "category": "Memory Optimized",
    "gpuNum": 0,
    "hideHardwareSpecs": false,
    "memoryGiB": 256,
    "name": "ml.r5.8xlarge",
    "vcpuNum": 32
   },
   {
    "_defaultOrder": 44,
    "_isFastLaunch": false,
    "category": "Memory Optimized",
    "gpuNum": 0,
    "hideHardwareSpecs": false,
    "memoryGiB": 384,
    "name": "ml.r5.12xlarge",
    "vcpuNum": 48
   },
   {
    "_defaultOrder": 45,
    "_isFastLaunch": false,
    "category": "Memory Optimized",
    "gpuNum": 0,
    "hideHardwareSpecs": false,
    "memoryGiB": 512,
    "name": "ml.r5.16xlarge",
    "vcpuNum": 64
   },
   {
    "_defaultOrder": 46,
    "_isFastLaunch": false,
    "category": "Memory Optimized",
    "gpuNum": 0,
    "hideHardwareSpecs": false,
    "memoryGiB": 768,
    "name": "ml.r5.24xlarge",
    "vcpuNum": 96
   },
   {
    "_defaultOrder": 47,
    "_isFastLaunch": false,
    "category": "Accelerated computing",
    "gpuNum": 1,
    "hideHardwareSpecs": false,
    "memoryGiB": 16,
    "name": "ml.g5.xlarge",
    "vcpuNum": 4
   },
   {
    "_defaultOrder": 48,
    "_isFastLaunch": false,
    "category": "Accelerated computing",
    "gpuNum": 1,
    "hideHardwareSpecs": false,
    "memoryGiB": 32,
    "name": "ml.g5.2xlarge",
    "vcpuNum": 8
   },
   {
    "_defaultOrder": 49,
    "_isFastLaunch": false,
    "category": "Accelerated computing",
    "gpuNum": 1,
    "hideHardwareSpecs": false,
    "memoryGiB": 64,
    "name": "ml.g5.4xlarge",
    "vcpuNum": 16
   },
   {
    "_defaultOrder": 50,
    "_isFastLaunch": false,
    "category": "Accelerated computing",
    "gpuNum": 1,
    "hideHardwareSpecs": false,
    "memoryGiB": 128,
    "name": "ml.g5.8xlarge",
    "vcpuNum": 32
   },
   {
    "_defaultOrder": 51,
    "_isFastLaunch": false,
    "category": "Accelerated computing",
    "gpuNum": 1,
    "hideHardwareSpecs": false,
    "memoryGiB": 256,
    "name": "ml.g5.16xlarge",
    "vcpuNum": 64
   },
   {
    "_defaultOrder": 52,
    "_isFastLaunch": false,
    "category": "Accelerated computing",
    "gpuNum": 4,
    "hideHardwareSpecs": false,
    "memoryGiB": 192,
    "name": "ml.g5.12xlarge",
    "vcpuNum": 48
   },
   {
    "_defaultOrder": 53,
    "_isFastLaunch": false,
    "category": "Accelerated computing",
    "gpuNum": 4,
    "hideHardwareSpecs": false,
    "memoryGiB": 384,
    "name": "ml.g5.24xlarge",
    "vcpuNum": 96
   },
   {
    "_defaultOrder": 54,
    "_isFastLaunch": false,
    "category": "Accelerated computing",
    "gpuNum": 8,
    "hideHardwareSpecs": false,
    "memoryGiB": 768,
    "name": "ml.g5.48xlarge",
    "vcpuNum": 192
   },
   {
    "_defaultOrder": 55,
    "_isFastLaunch": false,
    "category": "Accelerated computing",
    "gpuNum": 8,
    "hideHardwareSpecs": false,
    "memoryGiB": 1152,
    "name": "ml.p4d.24xlarge",
    "vcpuNum": 96
   },
   {
    "_defaultOrder": 56,
    "_isFastLaunch": false,
    "category": "Accelerated computing",
    "gpuNum": 8,
    "hideHardwareSpecs": false,
    "memoryGiB": 1152,
    "name": "ml.p4de.24xlarge",
    "vcpuNum": 96
   }
  ],
  "instance_type": "ml.t3.medium",
  "kernelspec": {
   "display_name": "Python 3 (Data Science)",
   "language": "python",
   "name": "python3__SAGEMAKER_INTERNAL__arn:aws:sagemaker:sa-east-1:782484402741:image/datascience-1.0"
  },
  "language_info": {
   "codemirror_mode": {
    "name": "ipython",
    "version": 3
   },
   "file_extension": ".py",
   "mimetype": "text/x-python",
   "name": "python",
   "nbconvert_exporter": "python",
   "pygments_lexer": "ipython3",
   "version": "3.7.10"
  }
 },
 "nbformat": 4,
 "nbformat_minor": 5
}
